{
 "cells": [
  {
   "cell_type": "code",
   "execution_count": 526,
   "metadata": {},
   "outputs": [
    {
     "data": {
      "text/html": [
       "<div>\n",
       "<style scoped>\n",
       "    .dataframe tbody tr th:only-of-type {\n",
       "        vertical-align: middle;\n",
       "    }\n",
       "\n",
       "    .dataframe tbody tr th {\n",
       "        vertical-align: top;\n",
       "    }\n",
       "\n",
       "    .dataframe thead th {\n",
       "        text-align: right;\n",
       "    }\n",
       "</style>\n",
       "<table border=\"1\" class=\"dataframe\">\n",
       "  <thead>\n",
       "    <tr style=\"text-align: right;\">\n",
       "      <th></th>\n",
       "      <th>URL</th>\n",
       "      <th>Price</th>\n",
       "      <th>Transmission</th>\n",
       "      <th>Year</th>\n",
       "      <th>Motor Strength (KW)</th>\n",
       "      <th>Mileage</th>\n",
       "      <th>Engine Capacity</th>\n",
       "      <th>Manufacturer</th>\n",
       "      <th>Model</th>\n",
       "      <th>Fuel Type</th>\n",
       "    </tr>\n",
       "  </thead>\n",
       "  <tbody>\n",
       "    <tr>\n",
       "      <th>0</th>\n",
       "      <td>https://olx.ba/artikal/62227396</td>\n",
       "      <td>950 KM</td>\n",
       "      <td>Manuelni</td>\n",
       "      <td>1990</td>\n",
       "      <td>200.0</td>\n",
       "      <td>333.333km</td>\n",
       "      <td>1.1</td>\n",
       "      <td>Zastava</td>\n",
       "      <td>Zastava 128</td>\n",
       "      <td>Benzin</td>\n",
       "    </tr>\n",
       "    <tr>\n",
       "      <th>1</th>\n",
       "      <td>https://olx.ba/artikal/62204473</td>\n",
       "      <td>950 KM</td>\n",
       "      <td>Manuelni</td>\n",
       "      <td>2000</td>\n",
       "      <td>40.0</td>\n",
       "      <td>333.333km</td>\n",
       "      <td>1.0</td>\n",
       "      <td>Opel</td>\n",
       "      <td>Corsa</td>\n",
       "      <td>Benzin</td>\n",
       "    </tr>\n",
       "    <tr>\n",
       "      <th>2</th>\n",
       "      <td>https://olx.ba/artikal/61478194</td>\n",
       "      <td>900 KM</td>\n",
       "      <td>Manuelni</td>\n",
       "      <td>2002</td>\n",
       "      <td>62.0</td>\n",
       "      <td>230.000km</td>\n",
       "      <td>1.3</td>\n",
       "      <td>Hyundai</td>\n",
       "      <td>Accent</td>\n",
       "      <td>Benzin</td>\n",
       "    </tr>\n",
       "    <tr>\n",
       "      <th>3</th>\n",
       "      <td>https://olx.ba/artikal/62229580</td>\n",
       "      <td>750 KM</td>\n",
       "      <td>Manuelni</td>\n",
       "      <td>2000</td>\n",
       "      <td>0.0</td>\n",
       "      <td>0km</td>\n",
       "      <td>1.4</td>\n",
       "      <td>Renault</td>\n",
       "      <td>Clio</td>\n",
       "      <td>Benzin</td>\n",
       "    </tr>\n",
       "    <tr>\n",
       "      <th>4</th>\n",
       "      <td>https://olx.ba/artikal/62201533</td>\n",
       "      <td>950 KM</td>\n",
       "      <td>Manuelni</td>\n",
       "      <td>2001</td>\n",
       "      <td>59.0</td>\n",
       "      <td>250.000km</td>\n",
       "      <td>1.9</td>\n",
       "      <td>Fiat</td>\n",
       "      <td>Punto</td>\n",
       "      <td>Dizel</td>\n",
       "    </tr>\n",
       "    <tr>\n",
       "      <th>...</th>\n",
       "      <td>...</td>\n",
       "      <td>...</td>\n",
       "      <td>...</td>\n",
       "      <td>...</td>\n",
       "      <td>...</td>\n",
       "      <td>...</td>\n",
       "      <td>...</td>\n",
       "      <td>...</td>\n",
       "      <td>...</td>\n",
       "      <td>...</td>\n",
       "    </tr>\n",
       "    <tr>\n",
       "      <th>995</th>\n",
       "      <td>https://olx.ba/artikal/58183260</td>\n",
       "      <td>60.900 KM</td>\n",
       "      <td>Automatik</td>\n",
       "      <td>2016</td>\n",
       "      <td>185.0</td>\n",
       "      <td>210.369km</td>\n",
       "      <td>3.0</td>\n",
       "      <td>Mercedes-Benz</td>\n",
       "      <td>CLS 350</td>\n",
       "      <td>Dizel</td>\n",
       "    </tr>\n",
       "    <tr>\n",
       "      <th>996</th>\n",
       "      <td>https://olx.ba/artikal/62097196</td>\n",
       "      <td>121.480 KM</td>\n",
       "      <td>Automatik</td>\n",
       "      <td>2024</td>\n",
       "      <td>187.0</td>\n",
       "      <td>1km</td>\n",
       "      <td>3.3</td>\n",
       "      <td>Mazda</td>\n",
       "      <td>CX-60</td>\n",
       "      <td>Dizel</td>\n",
       "    </tr>\n",
       "    <tr>\n",
       "      <th>997</th>\n",
       "      <td>https://olx.ba/artikal/60546460</td>\n",
       "      <td>72.500 KM</td>\n",
       "      <td>Automatik</td>\n",
       "      <td>2019</td>\n",
       "      <td>143.0</td>\n",
       "      <td>143.000km</td>\n",
       "      <td>2.2</td>\n",
       "      <td>Mercedes-Benz</td>\n",
       "      <td>GLC 220</td>\n",
       "      <td>Dizel</td>\n",
       "    </tr>\n",
       "    <tr>\n",
       "      <th>998</th>\n",
       "      <td>https://olx.ba/artikal/62096083</td>\n",
       "      <td>129.580 KM</td>\n",
       "      <td>Automatik</td>\n",
       "      <td>2024</td>\n",
       "      <td>187.0</td>\n",
       "      <td>1km</td>\n",
       "      <td>3.3</td>\n",
       "      <td>Mazda</td>\n",
       "      <td>CX-60</td>\n",
       "      <td>Dizel</td>\n",
       "    </tr>\n",
       "    <tr>\n",
       "      <th>999</th>\n",
       "      <td>https://olx.ba/artikal/62095277</td>\n",
       "      <td>90.000 KM</td>\n",
       "      <td>Automatik</td>\n",
       "      <td>2022</td>\n",
       "      <td>215.0</td>\n",
       "      <td>68.000km</td>\n",
       "      <td>2.0</td>\n",
       "      <td>BMW</td>\n",
       "      <td>330</td>\n",
       "      <td>Hibrid</td>\n",
       "    </tr>\n",
       "  </tbody>\n",
       "</table>\n",
       "<p>1000 rows × 10 columns</p>\n",
       "</div>"
      ],
      "text/plain": [
       "                                 URL       Price Transmission  Year  \\\n",
       "0    https://olx.ba/artikal/62227396      950 KM     Manuelni  1990   \n",
       "1    https://olx.ba/artikal/62204473      950 KM     Manuelni  2000   \n",
       "2    https://olx.ba/artikal/61478194      900 KM     Manuelni  2002   \n",
       "3    https://olx.ba/artikal/62229580      750 KM     Manuelni  2000   \n",
       "4    https://olx.ba/artikal/62201533      950 KM     Manuelni  2001   \n",
       "..                               ...         ...          ...   ...   \n",
       "995  https://olx.ba/artikal/58183260   60.900 KM    Automatik  2016   \n",
       "996  https://olx.ba/artikal/62097196  121.480 KM    Automatik  2024   \n",
       "997  https://olx.ba/artikal/60546460   72.500 KM    Automatik  2019   \n",
       "998  https://olx.ba/artikal/62096083  129.580 KM    Automatik  2024   \n",
       "999  https://olx.ba/artikal/62095277   90.000 KM    Automatik  2022   \n",
       "\n",
       "     Motor Strength (KW)    Mileage  Engine Capacity   Manufacturer  \\\n",
       "0                  200.0  333.333km              1.1        Zastava   \n",
       "1                   40.0  333.333km              1.0           Opel   \n",
       "2                   62.0  230.000km              1.3        Hyundai   \n",
       "3                    0.0        0km              1.4        Renault   \n",
       "4                   59.0  250.000km              1.9           Fiat   \n",
       "..                   ...        ...              ...            ...   \n",
       "995                185.0  210.369km              3.0  Mercedes-Benz   \n",
       "996                187.0        1km              3.3          Mazda   \n",
       "997                143.0  143.000km              2.2  Mercedes-Benz   \n",
       "998                187.0        1km              3.3          Mazda   \n",
       "999                215.0   68.000km              2.0            BMW   \n",
       "\n",
       "           Model Fuel Type  \n",
       "0    Zastava 128    Benzin  \n",
       "1          Corsa    Benzin  \n",
       "2         Accent    Benzin  \n",
       "3           Clio    Benzin  \n",
       "4          Punto     Dizel  \n",
       "..           ...       ...  \n",
       "995      CLS 350     Dizel  \n",
       "996        CX-60     Dizel  \n",
       "997      GLC 220     Dizel  \n",
       "998        CX-60     Dizel  \n",
       "999          330    Hibrid  \n",
       "\n",
       "[1000 rows x 10 columns]"
      ]
     },
     "execution_count": 526,
     "metadata": {},
     "output_type": "execute_result"
    }
   ],
   "source": [
    "import pandas as pd\n",
    "\n",
    "df = pd.read_csv(\"car_data copy.csv\")\n",
    "df.head(1000)\n"
   ]
  },
  {
   "cell_type": "code",
   "execution_count": 527,
   "metadata": {},
   "outputs": [
    {
     "name": "stdout",
     "output_type": "stream",
     "text": [
      "<class 'pandas.core.frame.DataFrame'>\n",
      "RangeIndex: 5450 entries, 0 to 5449\n",
      "Data columns (total 10 columns):\n",
      " #   Column               Non-Null Count  Dtype  \n",
      "---  ------               --------------  -----  \n",
      " 0   URL                  5450 non-null   object \n",
      " 1   Price                5450 non-null   object \n",
      " 2   Transmission         5450 non-null   object \n",
      " 3   Year                 5450 non-null   int64  \n",
      " 4   Motor Strength (KW)  5450 non-null   float64\n",
      " 5   Mileage              5450 non-null   object \n",
      " 6   Engine Capacity      5368 non-null   float64\n",
      " 7   Manufacturer         5450 non-null   object \n",
      " 8   Model                5450 non-null   object \n",
      " 9   Fuel Type            5450 non-null   object \n",
      "dtypes: float64(2), int64(1), object(7)\n",
      "memory usage: 425.9+ KB\n"
     ]
    }
   ],
   "source": [
    "df.info()"
   ]
  },
  {
   "cell_type": "code",
   "execution_count": 528,
   "metadata": {},
   "outputs": [
    {
     "name": "stdout",
     "output_type": "stream",
     "text": [
      "0    950.0\n",
      "1    950.0\n",
      "2    900.0\n",
      "3    750.0\n",
      "4    950.0\n",
      "Name: Price, dtype: float64\n"
     ]
    }
   ],
   "source": [
    "def clean_price(price):\n",
    "    price = price.replace('.', '')\n",
    "    if(',' in price):\n",
    "        price = price.split(',')[0]\n",
    "    else:\n",
    "        price = price.split(' ')[0]\n",
    "    if(price.isnumeric()):\n",
    "        return int(price)\n",
    "    return None\n",
    "\n",
    "\n",
    "df['Price'] = df['Price'].apply(clean_price)\n",
    "print(df['Price'].head())\n"
   ]
  },
  {
   "cell_type": "code",
   "execution_count": 529,
   "metadata": {},
   "outputs": [],
   "source": [
    "df = df.dropna()"
   ]
  },
  {
   "cell_type": "code",
   "execution_count": 530,
   "metadata": {},
   "outputs": [
    {
     "name": "stdout",
     "output_type": "stream",
     "text": [
      "<class 'pandas.core.frame.DataFrame'>\n",
      "Index: 5365 entries, 0 to 5449\n",
      "Data columns (total 10 columns):\n",
      " #   Column               Non-Null Count  Dtype  \n",
      "---  ------               --------------  -----  \n",
      " 0   URL                  5365 non-null   object \n",
      " 1   Price                5365 non-null   float64\n",
      " 2   Transmission         5365 non-null   object \n",
      " 3   Year                 5365 non-null   int64  \n",
      " 4   Motor Strength (KW)  5365 non-null   float64\n",
      " 5   Mileage              5365 non-null   object \n",
      " 6   Engine Capacity      5365 non-null   float64\n",
      " 7   Manufacturer         5365 non-null   object \n",
      " 8   Model                5365 non-null   object \n",
      " 9   Fuel Type            5365 non-null   object \n",
      "dtypes: float64(3), int64(1), object(6)\n",
      "memory usage: 461.1+ KB\n"
     ]
    }
   ],
   "source": [
    "df.info()"
   ]
  },
  {
   "cell_type": "code",
   "execution_count": 531,
   "metadata": {},
   "outputs": [
    {
     "data": {
      "text/html": [
       "<div>\n",
       "<style scoped>\n",
       "    .dataframe tbody tr th:only-of-type {\n",
       "        vertical-align: middle;\n",
       "    }\n",
       "\n",
       "    .dataframe tbody tr th {\n",
       "        vertical-align: top;\n",
       "    }\n",
       "\n",
       "    .dataframe thead th {\n",
       "        text-align: right;\n",
       "    }\n",
       "</style>\n",
       "<table border=\"1\" class=\"dataframe\">\n",
       "  <thead>\n",
       "    <tr style=\"text-align: right;\">\n",
       "      <th></th>\n",
       "      <th>URL</th>\n",
       "      <th>Price</th>\n",
       "      <th>Transmission</th>\n",
       "      <th>Year</th>\n",
       "      <th>Motor Strength (KW)</th>\n",
       "      <th>Mileage</th>\n",
       "      <th>Engine Capacity</th>\n",
       "      <th>Manufacturer</th>\n",
       "      <th>Model</th>\n",
       "      <th>Fuel Type</th>\n",
       "    </tr>\n",
       "  </thead>\n",
       "  <tbody>\n",
       "    <tr>\n",
       "      <th>0</th>\n",
       "      <td>https://olx.ba/artikal/62227396</td>\n",
       "      <td>950.0</td>\n",
       "      <td>Manuelni</td>\n",
       "      <td>1990</td>\n",
       "      <td>200.0</td>\n",
       "      <td>333.333km</td>\n",
       "      <td>1.1</td>\n",
       "      <td>Zastava</td>\n",
       "      <td>Zastava 128</td>\n",
       "      <td>Benzin</td>\n",
       "    </tr>\n",
       "    <tr>\n",
       "      <th>1</th>\n",
       "      <td>https://olx.ba/artikal/62204473</td>\n",
       "      <td>950.0</td>\n",
       "      <td>Manuelni</td>\n",
       "      <td>2000</td>\n",
       "      <td>40.0</td>\n",
       "      <td>333.333km</td>\n",
       "      <td>1.0</td>\n",
       "      <td>Opel</td>\n",
       "      <td>Corsa</td>\n",
       "      <td>Benzin</td>\n",
       "    </tr>\n",
       "    <tr>\n",
       "      <th>2</th>\n",
       "      <td>https://olx.ba/artikal/61478194</td>\n",
       "      <td>900.0</td>\n",
       "      <td>Manuelni</td>\n",
       "      <td>2002</td>\n",
       "      <td>62.0</td>\n",
       "      <td>230.000km</td>\n",
       "      <td>1.3</td>\n",
       "      <td>Hyundai</td>\n",
       "      <td>Accent</td>\n",
       "      <td>Benzin</td>\n",
       "    </tr>\n",
       "    <tr>\n",
       "      <th>3</th>\n",
       "      <td>https://olx.ba/artikal/62229580</td>\n",
       "      <td>750.0</td>\n",
       "      <td>Manuelni</td>\n",
       "      <td>2000</td>\n",
       "      <td>0.0</td>\n",
       "      <td>0km</td>\n",
       "      <td>1.4</td>\n",
       "      <td>Renault</td>\n",
       "      <td>Clio</td>\n",
       "      <td>Benzin</td>\n",
       "    </tr>\n",
       "    <tr>\n",
       "      <th>4</th>\n",
       "      <td>https://olx.ba/artikal/62201533</td>\n",
       "      <td>950.0</td>\n",
       "      <td>Manuelni</td>\n",
       "      <td>2001</td>\n",
       "      <td>59.0</td>\n",
       "      <td>250.000km</td>\n",
       "      <td>1.9</td>\n",
       "      <td>Fiat</td>\n",
       "      <td>Punto</td>\n",
       "      <td>Dizel</td>\n",
       "    </tr>\n",
       "    <tr>\n",
       "      <th>...</th>\n",
       "      <td>...</td>\n",
       "      <td>...</td>\n",
       "      <td>...</td>\n",
       "      <td>...</td>\n",
       "      <td>...</td>\n",
       "      <td>...</td>\n",
       "      <td>...</td>\n",
       "      <td>...</td>\n",
       "      <td>...</td>\n",
       "      <td>...</td>\n",
       "    </tr>\n",
       "    <tr>\n",
       "      <th>1021</th>\n",
       "      <td>https://olx.ba/artikal/55369185</td>\n",
       "      <td>91400.0</td>\n",
       "      <td>Automatik</td>\n",
       "      <td>2024</td>\n",
       "      <td>166.0</td>\n",
       "      <td>1km</td>\n",
       "      <td>2.0</td>\n",
       "      <td>Mazda</td>\n",
       "      <td>CX-5</td>\n",
       "      <td>Benzin</td>\n",
       "    </tr>\n",
       "    <tr>\n",
       "      <th>1022</th>\n",
       "      <td>https://olx.ba/artikal/58795432</td>\n",
       "      <td>64280.0</td>\n",
       "      <td>Automatik</td>\n",
       "      <td>2024</td>\n",
       "      <td>90.0</td>\n",
       "      <td>1km</td>\n",
       "      <td>2.0</td>\n",
       "      <td>Mazda</td>\n",
       "      <td>CX-30</td>\n",
       "      <td>Benzin</td>\n",
       "    </tr>\n",
       "    <tr>\n",
       "      <th>1023</th>\n",
       "      <td>https://olx.ba/artikal/58619014</td>\n",
       "      <td>62540.0</td>\n",
       "      <td>Manuelni</td>\n",
       "      <td>2024</td>\n",
       "      <td>97.0</td>\n",
       "      <td>3km</td>\n",
       "      <td>1.5</td>\n",
       "      <td>Mazda</td>\n",
       "      <td>MX-5</td>\n",
       "      <td>Benzin</td>\n",
       "    </tr>\n",
       "    <tr>\n",
       "      <th>1024</th>\n",
       "      <td>https://olx.ba/artikal/53360217</td>\n",
       "      <td>78730.0</td>\n",
       "      <td>Automatik</td>\n",
       "      <td>2024</td>\n",
       "      <td>145.0</td>\n",
       "      <td>1km</td>\n",
       "      <td>2.0</td>\n",
       "      <td>Toyota</td>\n",
       "      <td>Corolla Cross</td>\n",
       "      <td>Hibrid</td>\n",
       "    </tr>\n",
       "    <tr>\n",
       "      <th>1025</th>\n",
       "      <td>https://olx.ba/artikal/62088343</td>\n",
       "      <td>64900.0</td>\n",
       "      <td>Automatik</td>\n",
       "      <td>2014</td>\n",
       "      <td>190.0</td>\n",
       "      <td>203km</td>\n",
       "      <td>3.0</td>\n",
       "      <td>Porsche</td>\n",
       "      <td>Macan</td>\n",
       "      <td>Dizel</td>\n",
       "    </tr>\n",
       "  </tbody>\n",
       "</table>\n",
       "<p>1000 rows × 10 columns</p>\n",
       "</div>"
      ],
      "text/plain": [
       "                                  URL    Price Transmission  Year  \\\n",
       "0     https://olx.ba/artikal/62227396    950.0     Manuelni  1990   \n",
       "1     https://olx.ba/artikal/62204473    950.0     Manuelni  2000   \n",
       "2     https://olx.ba/artikal/61478194    900.0     Manuelni  2002   \n",
       "3     https://olx.ba/artikal/62229580    750.0     Manuelni  2000   \n",
       "4     https://olx.ba/artikal/62201533    950.0     Manuelni  2001   \n",
       "...                               ...      ...          ...   ...   \n",
       "1021  https://olx.ba/artikal/55369185  91400.0    Automatik  2024   \n",
       "1022  https://olx.ba/artikal/58795432  64280.0    Automatik  2024   \n",
       "1023  https://olx.ba/artikal/58619014  62540.0     Manuelni  2024   \n",
       "1024  https://olx.ba/artikal/53360217  78730.0    Automatik  2024   \n",
       "1025  https://olx.ba/artikal/62088343  64900.0    Automatik  2014   \n",
       "\n",
       "      Motor Strength (KW)    Mileage  Engine Capacity Manufacturer  \\\n",
       "0                   200.0  333.333km              1.1      Zastava   \n",
       "1                    40.0  333.333km              1.0         Opel   \n",
       "2                    62.0  230.000km              1.3      Hyundai   \n",
       "3                     0.0        0km              1.4      Renault   \n",
       "4                    59.0  250.000km              1.9         Fiat   \n",
       "...                   ...        ...              ...          ...   \n",
       "1021                166.0        1km              2.0        Mazda   \n",
       "1022                 90.0        1km              2.0        Mazda   \n",
       "1023                 97.0        3km              1.5        Mazda   \n",
       "1024                145.0        1km              2.0       Toyota   \n",
       "1025                190.0      203km              3.0      Porsche   \n",
       "\n",
       "              Model Fuel Type  \n",
       "0       Zastava 128    Benzin  \n",
       "1             Corsa    Benzin  \n",
       "2            Accent    Benzin  \n",
       "3              Clio    Benzin  \n",
       "4             Punto     Dizel  \n",
       "...             ...       ...  \n",
       "1021           CX-5    Benzin  \n",
       "1022          CX-30    Benzin  \n",
       "1023           MX-5    Benzin  \n",
       "1024  Corolla Cross    Hibrid  \n",
       "1025          Macan     Dizel  \n",
       "\n",
       "[1000 rows x 10 columns]"
      ]
     },
     "execution_count": 531,
     "metadata": {},
     "output_type": "execute_result"
    }
   ],
   "source": [
    "df.head(1000)"
   ]
  },
  {
   "cell_type": "code",
   "execution_count": 532,
   "metadata": {},
   "outputs": [
    {
     "data": {
      "text/html": [
       "<div>\n",
       "<style scoped>\n",
       "    .dataframe tbody tr th:only-of-type {\n",
       "        vertical-align: middle;\n",
       "    }\n",
       "\n",
       "    .dataframe tbody tr th {\n",
       "        vertical-align: top;\n",
       "    }\n",
       "\n",
       "    .dataframe thead th {\n",
       "        text-align: right;\n",
       "    }\n",
       "</style>\n",
       "<table border=\"1\" class=\"dataframe\">\n",
       "  <thead>\n",
       "    <tr style=\"text-align: right;\">\n",
       "      <th></th>\n",
       "      <th>URL</th>\n",
       "      <th>Price</th>\n",
       "      <th>Transmission</th>\n",
       "      <th>Year</th>\n",
       "      <th>Motor Strength (KW)</th>\n",
       "      <th>Mileage</th>\n",
       "      <th>Engine Capacity</th>\n",
       "      <th>Manufacturer</th>\n",
       "      <th>Model</th>\n",
       "      <th>Fuel Type</th>\n",
       "    </tr>\n",
       "  </thead>\n",
       "  <tbody>\n",
       "    <tr>\n",
       "      <th>159</th>\n",
       "      <td>https://olx.ba/artikal/60079744</td>\n",
       "      <td>499.0</td>\n",
       "      <td>Manuelni</td>\n",
       "      <td>2002</td>\n",
       "      <td>37.0</td>\n",
       "      <td>33.333.333km</td>\n",
       "      <td>1.3</td>\n",
       "      <td>Ford</td>\n",
       "      <td>Fiesta</td>\n",
       "      <td>Benzin</td>\n",
       "    </tr>\n",
       "    <tr>\n",
       "      <th>20</th>\n",
       "      <td>https://olx.ba/artikal/62073392</td>\n",
       "      <td>500.0</td>\n",
       "      <td>Manuelni</td>\n",
       "      <td>2000</td>\n",
       "      <td>37.0</td>\n",
       "      <td>36.520km</td>\n",
       "      <td>1.2</td>\n",
       "      <td>Fiat</td>\n",
       "      <td>Seicento</td>\n",
       "      <td>Benzin</td>\n",
       "    </tr>\n",
       "    <tr>\n",
       "      <th>41</th>\n",
       "      <td>https://olx.ba/artikal/61998889</td>\n",
       "      <td>500.0</td>\n",
       "      <td>Manuelni</td>\n",
       "      <td>1981</td>\n",
       "      <td>44.0</td>\n",
       "      <td>300.000km</td>\n",
       "      <td>1.2</td>\n",
       "      <td>Volkswagen</td>\n",
       "      <td>Golf</td>\n",
       "      <td>Benzin</td>\n",
       "    </tr>\n",
       "    <tr>\n",
       "      <th>73</th>\n",
       "      <td>https://olx.ba/artikal/61894825</td>\n",
       "      <td>500.0</td>\n",
       "      <td>Manuelni</td>\n",
       "      <td>1997</td>\n",
       "      <td>33.0</td>\n",
       "      <td>111.100km</td>\n",
       "      <td>1.2</td>\n",
       "      <td>Opel</td>\n",
       "      <td>Corsa</td>\n",
       "      <td>Benzin</td>\n",
       "    </tr>\n",
       "    <tr>\n",
       "      <th>81</th>\n",
       "      <td>https://olx.ba/artikal/61851873</td>\n",
       "      <td>550.0</td>\n",
       "      <td>Manuelni</td>\n",
       "      <td>1991</td>\n",
       "      <td>55.0</td>\n",
       "      <td>20km</td>\n",
       "      <td>1.6</td>\n",
       "      <td>Opel</td>\n",
       "      <td>Vectra</td>\n",
       "      <td>Benzin</td>\n",
       "    </tr>\n",
       "  </tbody>\n",
       "</table>\n",
       "</div>"
      ],
      "text/plain": [
       "                                 URL  Price Transmission  Year  \\\n",
       "159  https://olx.ba/artikal/60079744  499.0     Manuelni  2002   \n",
       "20   https://olx.ba/artikal/62073392  500.0     Manuelni  2000   \n",
       "41   https://olx.ba/artikal/61998889  500.0     Manuelni  1981   \n",
       "73   https://olx.ba/artikal/61894825  500.0     Manuelni  1997   \n",
       "81   https://olx.ba/artikal/61851873  550.0     Manuelni  1991   \n",
       "\n",
       "     Motor Strength (KW)       Mileage  Engine Capacity Manufacturer  \\\n",
       "159                 37.0  33.333.333km              1.3         Ford   \n",
       "20                  37.0      36.520km              1.2         Fiat   \n",
       "41                  44.0     300.000km              1.2   Volkswagen   \n",
       "73                  33.0     111.100km              1.2         Opel   \n",
       "81                  55.0          20km              1.6         Opel   \n",
       "\n",
       "        Model Fuel Type  \n",
       "159    Fiesta    Benzin  \n",
       "20   Seicento    Benzin  \n",
       "41       Golf    Benzin  \n",
       "73      Corsa    Benzin  \n",
       "81     Vectra    Benzin  "
      ]
     },
     "execution_count": 532,
     "metadata": {},
     "output_type": "execute_result"
    }
   ],
   "source": [
    "df = df[df['Price'] > 400]\n",
    "df = df.sort_values('Price')\n",
    "df.head()"
   ]
  },
  {
   "cell_type": "code",
   "execution_count": 533,
   "metadata": {},
   "outputs": [
    {
     "name": "stdout",
     "output_type": "stream",
     "text": [
      "159    2002\n",
      "20     2000\n",
      "41     1981\n",
      "73     1997\n",
      "81     1991\n",
      "Name: Year, dtype: int64\n"
     ]
    }
   ],
   "source": [
    "def clean_year(year):\n",
    "    return int(year)\n",
    "\n",
    "\n",
    "df['Year'] = df['Year'].apply(clean_year)\n",
    "print(df['Year'].head())"
   ]
  },
  {
   "cell_type": "code",
   "execution_count": 534,
   "metadata": {},
   "outputs": [
    {
     "name": "stdout",
     "output_type": "stream",
     "text": [
      "{'Manuelni', 'Automatik'}\n"
     ]
    }
   ],
   "source": [
    "lista = df['Transmission']\n",
    "a = set()\n",
    "for el in lista:\n",
    "    a.add(el)\n",
    "print(a)"
   ]
  },
  {
   "cell_type": "code",
   "execution_count": 535,
   "metadata": {},
   "outputs": [
    {
     "name": "stdout",
     "output_type": "stream",
     "text": [
      "159    0\n",
      "20     0\n",
      "41     0\n",
      "73     0\n",
      "81     0\n",
      "Name: Transmission, dtype: int64\n"
     ]
    }
   ],
   "source": [
    "def clean_transmission(transmition):\n",
    "    if(transmition == \"Manuelni\"):\n",
    "        return 0\n",
    "    elif(transmition == \"Automatik\"):\n",
    "        return 1\n",
    "    return None\n",
    "\n",
    "df['Transmission'] = df['Transmission'].apply(clean_transmission)\n",
    "print(df['Transmission'].head())"
   ]
  },
  {
   "cell_type": "code",
   "execution_count": 536,
   "metadata": {},
   "outputs": [],
   "source": [
    "df = df.dropna()"
   ]
  },
  {
   "cell_type": "code",
   "execution_count": 537,
   "metadata": {},
   "outputs": [
    {
     "name": "stdout",
     "output_type": "stream",
     "text": [
      "{0, 1}\n"
     ]
    }
   ],
   "source": [
    "lista = df['Transmission']\n",
    "a = set()\n",
    "for el in lista:\n",
    "    a.add(el)\n",
    "print(a)"
   ]
  },
  {
   "cell_type": "code",
   "execution_count": 538,
   "metadata": {},
   "outputs": [
    {
     "name": "stdout",
     "output_type": "stream",
     "text": [
      "[0.0, 0.0, 0.0, 0.0, 0.0, 0.0, 0.0, 0.0, 0.0, 0.0, 0.0, 0.0, 0.0, 0.0, 0.0, 0.0, 0.0, 0.0, 0.0, 0.0, 0.0, 0.0, 0.0, 0.0, 0.0, 0.0, 1.0, 1.0, 1.0, 1.0, 1.0, 1.0, 1.0, 1.0, 1.0, 1.0, 1.0, 1.0, 1.0, 1.0, 1.0, 1.0, 1.3, 1.4, 1.5, 1.5, 1.6, 1.6, 1.6, 1.6, 2.0, 2.0, 3.0, 3.0, 5.0, 10.0, 10.0, 25.0, 25.0, 25.0, 29.0, 29.0, 30.0, 30.0, 33.0, 33.0, 33.0, 33.0, 33.0, 33.0, 33.0, 33.0, 33.0, 33.0, 33.0, 33.0, 33.0, 33.0, 33.0, 33.0, 33.0, 33.0, 33.0, 33.0, 33.0, 33.0, 33.0, 33.0, 34.0, 34.0, 34.0, 35.0, 35.0, 35.0, 35.0, 36.0, 37.0, 37.0, 37.0, 37.0, 37.0, 37.0, 37.0, 37.0, 37.0, 37.0, 37.0, 37.0, 37.0, 37.0, 37.0, 37.0, 37.0, 37.0, 37.0, 37.0, 37.0, 37.0, 37.0, 37.0, 37.0, 37.0, 37.0, 37.0, 37.0, 38.0, 38.0, 39.0, 39.0, 39.0, 39.0, 40.0, 40.0, 40.0, 40.0, 40.0, 40.0, 40.0, 40.0, 40.0, 40.0, 40.0, 40.0, 40.0, 40.0, 40.0, 40.0, 40.0, 40.0, 40.0, 40.0, 40.0, 40.0, 40.0, 40.0, 40.0, 40.0, 40.0, 40.0, 40.0, 40.0, 40.0, 40.0, 40.0, 40.0, 40.0, 40.0, 40.0, 40.0, 40.0, 40.0, 40.0, 40.0, 40.0, 40.0, 40.0, 40.0, 40.0, 40.0, 40.0, 40.0, 40.0, 40.0, 40.0, 40.0, 40.0, 40.0, 40.0, 40.0, 40.0, 40.0, 40.0, 40.0, 40.0, 40.0, 40.0, 40.0, 40.0, 40.0, 40.0, 40.0, 40.0, 40.0, 40.0, 40.0, 40.0, 40.0, 40.0, 40.0, 40.0, 40.0, 40.0, 40.0, 40.0, 40.0, 40.0, 40.0, 40.0, 40.0, 40.0, 40.0, 40.0, 40.0, 40.0, 40.0, 40.0, 40.0, 40.0, 40.0, 40.0, 40.0, 40.0, 40.0, 40.0, 40.0, 40.0, 40.0, 40.0, 40.0, 40.0, 40.0, 40.0, 40.0, 40.0, 40.0, 40.0, 40.0, 40.0, 40.0, 40.0, 40.0, 40.0, 40.0, 40.0, 40.0, 40.0, 40.0, 40.0, 40.0, 40.0, 40.0, 40.0, 40.0, 40.0, 40.0, 40.0, 40.0, 40.0, 40.0, 40.0, 40.0, 40.0, 40.0, 40.0, 40.0, 40.0, 40.0, 40.0, 40.0, 40.0, 40.0, 40.0, 40.0, 40.0, 40.0, 40.0, 40.0, 40.0, 40.0, 40.0, 40.0, 40.0, 40.0, 40.0, 40.0, 40.0, 40.0, 40.0, 40.0, 40.0, 40.0, 40.0, 40.0, 40.0, 40.0, 40.0, 40.0, 40.0, 40.0, 40.0, 40.0, 40.0, 40.0, 40.0, 40.0, 40.0, 40.0, 40.0, 40.0, 40.0, 41.0, 41.0, 41.0, 42.0, 42.0, 42.0, 42.0, 42.0, 42.0, 42.0, 43.0, 43.0, 43.0, 43.0, 43.0, 43.0, 43.0, 43.0, 43.0, 43.0, 43.0, 43.0, 43.0, 43.0, 43.0, 43.0, 43.0, 43.0, 43.0, 43.0, 43.0, 43.0, 43.0, 43.0, 43.0, 43.0, 43.0, 43.0, 43.0, 43.0, 43.0, 44.0, 44.0, 44.0, 44.0, 44.0, 44.0, 44.0, 44.0, 44.0, 44.0, 44.0, 44.0, 44.0, 44.0, 44.0, 44.0, 44.0, 44.0, 44.0, 44.0, 44.0, 44.0, 44.0, 44.0, 44.0, 44.0, 44.0, 44.0, 44.0, 44.0, 44.0, 44.0, 44.0, 44.0, 44.0, 44.0, 44.0, 44.0, 44.0, 44.0, 44.0, 44.0, 44.0, 44.0, 44.0, 44.0, 44.0, 44.0, 44.0, 44.0, 44.0, 44.0, 44.0, 44.0, 44.0, 44.0, 44.0, 44.0, 44.0, 44.0, 44.0, 44.0, 44.0, 44.0, 44.0, 44.0, 44.0, 44.0, 44.0, 44.0, 44.0, 44.0, 44.0, 44.0, 44.0, 44.0, 44.0, 44.0, 44.0, 44.0, 44.0, 44.0, 44.0, 44.0, 44.0, 44.0, 44.0, 44.0, 44.0, 44.0, 44.0, 44.0, 44.0, 44.0, 44.0, 44.0, 44.0, 44.0, 44.0, 44.0, 44.0, 44.0, 44.0, 44.0, 44.0, 44.0, 44.0, 44.0, 44.0, 44.0, 44.0, 44.0, 44.0, 44.0, 44.0, 44.0, 44.0, 44.0, 44.0, 44.0, 44.0, 44.0, 44.0, 44.0, 44.0, 44.0, 44.0, 44.0, 44.0, 44.0, 44.0, 44.0, 44.0, 44.0, 44.0, 44.0, 44.0, 44.0, 44.0, 44.0, 44.0, 44.0, 44.0, 44.0, 44.0, 44.0, 44.0, 44.0, 44.0, 44.0, 44.0, 44.0, 44.0, 44.0, 44.0, 44.0, 44.0, 44.0, 44.0, 44.0, 44.0, 44.0, 44.0, 44.0, 44.0, 44.0, 44.0, 44.0, 44.0, 44.0, 44.0, 44.0, 44.0, 44.0, 45.0, 45.0, 45.0, 45.0, 45.0, 45.0, 45.0, 45.0, 45.0, 45.0, 45.0, 46.0, 46.0, 46.0, 46.0, 47.0, 47.0, 47.0, 47.0, 47.0, 47.0, 47.0, 47.0, 47.0, 47.0, 47.0, 47.0, 47.0, 47.0, 47.0, 47.0, 47.0, 47.0, 47.0, 47.0, 47.0, 47.0, 47.0, 47.0, 47.0, 47.0, 47.0, 47.0, 47.0, 47.0, 47.0, 47.0, 47.0, 47.0, 47.0, 47.0, 47.0, 47.0, 47.0, 47.0, 47.0, 47.0, 47.0, 47.0, 47.0, 47.0, 47.0, 47.0, 47.0, 47.0, 47.0, 47.0, 47.0, 47.0, 47.0, 47.0, 47.0, 47.0, 47.0, 48.0, 48.0, 48.0, 48.0, 48.0, 48.0, 48.0, 48.0, 48.0, 48.0, 48.0, 48.0, 48.0, 48.0, 48.0, 48.0, 48.0, 48.0, 48.0, 48.0, 48.0, 48.0, 49.0, 49.0, 49.0, 49.0, 50.0, 50.0, 50.0, 50.0, 50.0, 50.0, 50.0, 50.0, 50.0, 50.0, 50.0, 50.0, 50.0, 50.0, 50.0, 50.0, 50.0, 50.0, 50.0, 50.0, 50.0, 50.0, 50.0, 50.0, 50.0, 50.0, 50.0, 50.0, 50.0, 50.0, 50.0, 50.0, 50.0, 50.0, 50.0, 50.0, 50.0, 50.0, 50.0, 50.0, 50.0, 50.0, 50.0, 51.0, 51.0, 51.0, 51.0, 51.0, 51.0, 51.0, 51.0, 51.0, 51.0, 51.0, 51.0, 51.0, 51.0, 51.0, 51.0, 51.0, 51.0, 51.0, 51.0, 51.0, 51.0, 51.0, 51.0, 51.0, 51.0, 51.0, 51.0, 51.0, 51.0, 51.0, 51.0, 51.0, 51.0, 51.0, 51.0, 51.0, 51.0, 51.0, 51.0, 51.0, 51.0, 51.0, 51.0, 51.0, 51.0, 51.0, 51.0, 51.0, 52.0, 52.0, 52.0, 52.0, 53.0, 53.0, 53.0, 53.0, 53.0, 53.0, 54.0, 54.0, 54.0, 55.0, 55.0, 55.0, 55.0, 55.0, 55.0, 55.0, 55.0, 55.0, 55.0, 55.0, 55.0, 55.0, 55.0, 55.0, 55.0, 55.0, 55.0, 55.0, 55.0, 55.0, 55.0, 55.0, 55.0, 55.0, 55.0, 55.0, 55.0, 55.0, 55.0, 55.0, 55.0, 55.0, 55.0, 55.0, 55.0, 55.0, 55.0, 55.0, 55.0, 55.0, 55.0, 55.0, 55.0, 55.0, 55.0, 55.0, 55.0, 55.0, 55.0, 55.0, 55.0, 55.0, 55.0, 55.0, 55.0, 55.0, 55.0, 55.0, 55.0, 55.0, 55.0, 55.0, 55.0, 55.0, 55.0, 55.0, 55.0, 55.0, 55.0, 55.0, 55.0, 55.0, 55.0, 55.0, 55.0, 55.0, 55.0, 55.0, 55.0, 55.0, 55.0, 55.0, 55.0, 55.0, 55.0, 55.0, 55.0, 55.0, 55.0, 55.0, 55.0, 55.0, 55.0, 55.0, 55.0, 55.0, 55.0, 55.0, 55.0, 55.0, 55.0, 55.0, 55.0, 55.0, 55.0, 55.0, 55.0, 55.0, 55.0, 55.0, 55.0, 55.0, 55.0, 55.0, 55.0, 55.0, 55.0, 55.0, 55.0, 55.0, 55.0, 55.0, 55.0, 55.0, 55.0, 55.0, 55.0, 55.0, 55.0, 55.0, 55.0, 55.0, 55.0, 55.0, 55.0, 55.0, 55.0, 55.0, 55.0, 55.0, 55.0, 55.0, 55.0, 55.0, 55.0, 55.0, 55.0, 55.0, 55.0, 55.0, 55.0, 55.0, 55.0, 55.0, 55.0, 55.0, 55.0, 55.0, 55.0, 55.0, 55.0, 55.0, 55.0, 55.0, 55.0, 55.0, 55.0, 55.0, 55.0, 55.0, 55.0, 55.0, 55.0, 55.0, 55.0, 55.0, 55.0, 55.0, 55.0, 55.0, 55.0, 55.0, 55.0, 55.0, 56.0, 56.0, 56.0, 56.0, 56.0, 56.0, 57.0, 57.0, 57.0, 57.0, 57.0, 57.0, 57.0, 58.0, 59.0, 59.0, 59.0, 59.0, 59.0, 59.0, 59.0, 59.0, 59.0, 59.0, 59.0, 59.0, 59.0, 59.0, 59.0, 59.0, 59.0, 59.0, 59.0, 59.0, 59.0, 59.0, 59.0, 59.0, 59.0, 59.0, 59.0, 59.0, 59.0, 59.0, 59.0, 59.0, 59.0, 59.0, 59.0, 59.0, 59.0, 59.0, 59.0, 59.0, 59.0, 59.0, 59.0, 59.0, 60.0, 60.0, 60.0, 60.0, 60.0, 60.0, 60.0, 60.0, 60.0, 60.0, 60.0, 60.0, 60.0, 60.0, 60.0, 60.0, 60.0, 60.0, 60.0, 60.0, 60.0, 60.0, 60.0, 60.0, 60.0, 60.0, 60.0, 60.0, 60.0, 60.0, 60.0, 60.0, 60.0, 60.0, 62.0, 62.0, 62.0, 63.0, 63.0, 63.0, 63.0, 63.0, 63.0, 63.0, 63.0, 63.0, 63.0, 63.0, 63.0, 63.0, 64.0, 64.0, 65.0, 65.0, 65.0, 65.0, 65.0, 65.0, 65.0, 65.0, 65.0, 66.0, 66.0, 66.0, 66.0, 66.0, 66.0, 66.0, 66.0, 66.0, 66.0, 66.0, 66.0, 66.0, 66.0, 66.0, 66.0, 66.0, 66.0, 66.0, 66.0, 66.0, 66.0, 66.0, 66.0, 66.0, 66.0, 66.0, 66.0, 66.0, 66.0, 66.0, 66.0, 66.0, 66.0, 66.0, 66.0, 66.0, 66.0, 66.0, 66.0, 66.0, 66.0, 66.0, 66.0, 66.0, 66.0, 66.0, 66.0, 66.0, 66.0, 66.0, 66.0, 66.0, 66.0, 66.0, 66.0, 66.0, 66.0, 66.0, 66.0, 66.0, 66.0, 66.0, 66.0, 66.0, 66.0, 66.0, 66.0, 66.0, 66.0, 66.0, 66.0, 66.0, 66.0, 66.0, 66.0, 66.0, 66.0, 66.0, 66.0, 66.0, 66.0, 66.0, 66.0, 66.0, 66.0, 66.0, 66.0, 66.0, 66.0, 66.0, 66.0, 66.0, 66.0, 66.0, 66.0, 66.0, 66.0, 66.0, 66.0, 66.0, 66.0, 66.0, 66.0, 66.0, 66.0, 66.0, 66.0, 66.0, 66.0, 66.0, 66.0, 66.0, 66.0, 66.0, 66.0, 66.0, 66.0, 66.0, 66.0, 66.0, 66.0, 66.0, 66.0, 66.0, 66.0, 66.0, 66.0, 66.0, 66.0, 66.0, 66.0, 66.0, 66.0, 66.0, 66.0, 66.0, 66.0, 66.0, 66.0, 66.0, 66.0, 66.0, 66.0, 66.0, 66.0, 66.0, 66.0, 66.0, 66.0, 66.0, 66.0, 66.0, 66.0, 66.0, 66.0, 66.0, 66.0, 66.0, 66.0, 66.0, 66.0, 66.0, 66.0, 66.0, 66.0, 66.0, 66.0, 66.0, 66.0, 66.0, 66.0, 66.0, 66.0, 67.0, 67.0, 67.0, 69.0, 69.0, 70.0, 70.0, 70.0, 70.0, 70.0, 70.0, 70.0, 70.0, 70.0, 70.0, 70.0, 70.0, 70.0, 70.0, 70.0, 70.0, 70.0, 70.0, 70.0, 70.0, 70.0, 70.0, 70.0, 70.0, 70.0, 70.0, 70.0, 71.0, 71.0, 72.0, 72.0, 72.0, 72.0, 72.0, 74.0, 74.0, 74.0, 74.0, 74.0, 74.0, 74.0, 74.0, 74.0, 74.0, 74.0, 74.0, 74.0, 74.0, 74.0, 74.0, 74.0, 74.0, 74.0, 74.0, 74.0, 74.0, 74.0, 74.0, 74.0, 74.0, 74.0, 74.0, 74.0, 74.0, 74.0, 74.0, 74.0, 74.0, 74.0, 74.0, 74.0, 74.0, 74.0, 74.0, 74.0, 74.0, 74.0, 74.0, 74.0, 74.0, 74.0, 74.0, 74.0, 74.0, 74.0, 74.0, 74.0, 74.0, 74.0, 74.0, 74.0, 74.0, 74.0, 74.0, 74.0, 74.0, 74.0, 74.0, 74.0, 74.0, 74.0, 74.0, 74.0, 74.0, 74.0, 74.0, 74.0, 74.0, 75.0, 75.0, 75.0, 75.0, 75.0, 75.0, 75.0, 75.0, 75.0, 75.0, 75.0, 75.0, 75.0, 76.0, 76.0, 76.0, 76.0, 76.0, 76.0, 76.0, 76.0, 76.0, 76.0, 76.0, 76.0, 77.0, 77.0, 77.0, 77.0, 77.0, 77.0, 77.0, 77.0, 77.0, 77.0, 77.0, 77.0, 77.0, 77.0, 77.0, 77.0, 77.0, 77.0, 77.0, 77.0, 77.0, 77.0, 77.0, 77.0, 77.0, 77.0, 79.0, 79.0, 79.0, 79.0, 79.0, 79.0, 79.0, 80.0, 80.0, 80.0, 80.0, 80.0, 80.0, 80.0, 80.0, 80.0, 80.0, 80.0, 80.0, 80.0, 80.0, 80.0, 80.0, 81.0, 81.0, 81.0, 81.0, 81.0, 81.0, 81.0, 81.0, 81.0, 81.0, 81.0, 81.0, 81.0, 81.0, 81.0, 81.0, 81.0, 81.0, 81.0, 81.0, 81.0, 81.0, 81.0, 81.0, 81.0, 81.0, 81.0, 81.0, 81.0, 81.0, 81.0, 81.0, 81.0, 83.0, 83.0, 85.0, 85.0, 85.0, 85.0, 85.0, 85.0, 85.0, 85.0, 85.0, 85.0, 85.0, 85.0, 85.0, 85.0, 85.0, 85.0, 85.0, 85.0, 85.0, 85.0, 85.0, 85.0, 85.0, 85.0, 85.0, 85.0, 85.0, 85.0, 85.0, 85.0, 85.0, 85.0, 85.0, 85.0, 85.0, 85.0, 85.0, 85.0, 85.0, 85.0, 85.0, 85.0, 85.0, 85.0, 85.0, 85.0, 85.0, 85.0, 85.0, 85.0, 85.0, 85.0, 85.0, 85.0, 85.0, 85.0, 85.0, 85.0, 85.0, 85.0, 85.0, 85.0, 85.0, 85.0, 85.0, 85.0, 85.0, 85.0, 85.0, 85.0, 85.0, 85.0, 85.0, 85.0, 85.0, 85.0, 85.0, 85.0, 85.0, 85.0, 85.0, 85.0, 85.0, 85.0, 85.0, 85.0, 85.0, 85.0, 85.0, 85.0, 85.0, 85.0, 85.0, 85.0, 85.0, 85.0, 85.0, 85.0, 85.0, 85.0, 85.0, 85.0, 85.0, 85.0, 88.0, 88.0, 88.0, 88.0, 88.0, 88.0, 88.0, 88.0, 88.0, 88.0, 88.0, 88.0, 88.0, 88.0, 88.0, 88.0, 88.0, 88.0, 88.0, 88.0, 88.0, 88.0, 88.0, 88.0, 88.0, 88.0, 88.0, 88.0, 88.0, 88.0, 88.0, 88.0, 88.0, 88.0, 88.0, 88.0, 88.0, 88.0, 88.0, 89.0, 89.0, 89.0, 89.0, 89.0, 89.0, 90.0, 90.0, 90.0, 90.0, 90.0, 90.0, 90.0, 90.0, 90.0, 90.0, 90.0, 90.0, 90.0, 90.0, 90.0, 90.0, 90.0, 90.0, 90.0, 90.0, 90.0, 91.0, 91.0, 92.0, 92.0, 92.0, 92.0, 92.0, 92.0, 92.0, 92.0, 92.0, 92.0, 92.0, 92.0, 92.0, 92.0, 93.0, 93.0, 94.0, 94.0, 95.0, 95.0, 95.0, 95.0, 96.0, 96.0, 96.0, 96.0, 96.0, 96.0, 96.0, 96.0, 96.0, 96.0, 96.0, 96.0, 96.0, 96.0, 96.0, 96.0, 96.0, 96.0, 96.0, 96.0, 96.0, 96.0, 96.0, 96.0, 96.0, 96.0, 96.0, 96.0, 96.0, 96.0, 96.0, 96.0, 96.0, 96.0, 96.0, 96.0, 96.0, 96.0, 96.0, 96.0, 96.0, 96.0, 96.0, 96.0, 96.0, 96.0, 96.0, 96.0, 96.0, 96.0, 96.0, 96.0, 96.0, 96.0, 96.0, 96.0, 97.0, 97.0, 97.0, 97.0, 98.0, 98.0, 98.0, 98.0, 98.0, 98.0, 98.0, 98.0, 98.0, 99.0, 99.0, 99.0, 99.0, 100.0, 100.0, 100.0, 100.0, 100.0, 100.0, 100.0, 100.0, 100.0, 100.0, 100.0, 100.0, 100.0, 100.0, 100.0, 100.0, 100.0, 100.0, 100.0, 100.0, 100.0, 100.0, 101.0, 101.0, 103.0, 103.0, 103.0, 103.0, 103.0, 103.0, 103.0, 103.0, 103.0, 103.0, 103.0, 103.0, 103.0, 103.0, 103.0, 103.0, 103.0, 103.0, 103.0, 103.0, 103.0, 103.0, 103.0, 103.0, 103.0, 103.0, 103.0, 103.0, 103.0, 103.0, 103.0, 103.0, 103.0, 103.0, 103.0, 103.0, 103.0, 103.0, 103.0, 103.0, 103.0, 103.0, 103.0, 103.0, 103.0, 103.0, 103.0, 103.0, 104.0, 104.0, 105.0, 105.0, 105.0, 105.0, 105.0, 105.0, 105.0, 108.0, 108.0, 110.0, 110.0, 110.0, 110.0, 110.0, 110.0, 110.0, 110.0, 110.0, 110.0, 110.0, 110.0, 110.0, 110.0, 110.0, 110.0, 110.0, 110.0, 110.0, 110.0, 110.0, 110.0, 110.0, 110.0, 110.0, 110.0, 110.0, 110.0, 110.0, 110.0, 110.0, 110.0, 110.0, 110.0, 110.0, 110.0, 110.0, 110.0, 110.0, 110.0, 110.0, 110.0, 110.0, 110.0, 110.0, 110.0, 110.0, 110.0, 110.0, 110.0, 110.0, 110.0, 110.0, 110.0, 110.0, 110.0, 110.0, 110.0, 110.0, 110.0, 110.0, 110.0, 110.0, 110.0, 110.0, 110.0, 110.0, 110.0, 110.0, 110.0, 110.0, 110.0, 110.0, 110.0, 110.0, 110.0, 110.0, 110.0, 110.0, 110.0, 110.0, 110.0, 110.0, 110.0, 110.0, 110.0, 110.0, 110.0, 110.0, 110.0, 110.0, 110.0, 110.0, 110.0, 110.0, 110.0, 110.0, 110.0, 110.0, 110.0, 110.0, 110.0, 110.0, 110.0, 110.0, 110.0, 110.0, 110.0, 110.0, 110.0, 110.0, 110.0, 110.0, 110.0, 110.0, 110.0, 110.0, 110.0, 110.0, 110.0, 110.0, 110.0, 110.0, 110.0, 110.0, 110.0, 110.0, 110.0, 110.0, 110.0, 110.0, 110.0, 110.0, 110.0, 110.0, 110.0, 110.0, 110.0, 110.0, 110.0, 110.0, 110.0, 110.0, 110.0, 110.0, 110.0, 110.0, 110.0, 110.0, 110.0, 110.0, 110.0, 110.0, 110.0, 110.0, 110.0, 110.0, 110.0, 110.0, 110.0, 110.0, 110.0, 110.0, 110.0, 110.0, 110.0, 110.0, 110.0, 110.0, 110.0, 110.0, 110.0, 110.0, 110.0, 110.0, 110.0, 110.0, 110.0, 110.0, 110.0, 110.0, 110.0, 110.0, 110.0, 110.0, 110.0, 110.0, 110.0, 110.0, 110.0, 110.0, 110.0, 110.0, 110.0, 110.0, 110.0, 110.0, 110.0, 110.0, 110.0, 110.0, 110.0, 110.0, 110.0, 110.0, 110.0, 110.0, 110.0, 110.0, 110.0, 110.0, 110.0, 110.0, 110.0, 110.0, 110.0, 110.0, 110.0, 110.0, 110.0, 110.0, 110.0, 110.0, 110.0, 110.0, 110.0, 110.0, 110.0, 110.0, 110.0, 110.0, 110.0, 110.0, 110.0, 110.0, 110.0, 110.0, 110.0, 110.0, 110.0, 110.0, 110.0, 110.0, 110.0, 110.0, 110.0, 110.0, 110.0, 110.0, 110.0, 110.0, 110.0, 110.0, 110.0, 110.0, 110.0, 110.0, 110.0, 110.0, 110.0, 110.0, 110.0, 110.0, 110.0, 110.0, 110.0, 110.0, 110.0, 110.0, 110.0, 110.0, 110.0, 110.0, 110.0, 110.0, 110.0, 110.0, 110.0, 110.0, 110.0, 110.0, 110.0, 110.0, 110.0, 110.0, 110.0, 110.0, 110.0, 110.0, 110.0, 110.0, 110.0, 110.0, 110.0, 110.0, 110.0, 110.0, 110.0, 110.0, 110.0, 110.0, 110.0, 110.0, 110.0, 110.0, 110.0, 110.0, 110.0, 110.0, 110.0, 110.0, 110.0, 110.0, 110.0, 110.0, 110.0, 110.0, 110.0, 110.0, 110.0, 110.0, 110.0, 110.0, 110.0, 110.0, 110.0, 110.0, 110.0, 110.0, 110.0, 110.0, 110.0, 110.0, 110.0, 110.0, 110.0, 110.0, 110.0, 110.0, 110.0, 110.0, 110.0, 110.0, 110.0, 110.0, 110.0, 110.0, 110.0, 110.0, 110.0, 110.0, 110.0, 110.0, 110.0, 110.0, 110.0, 110.0, 114.0, 115.0, 115.0, 116.0, 116.0, 116.0, 116.0, 116.0, 116.0, 116.0, 116.0, 116.0, 116.0, 116.0, 116.0, 116.0, 116.0, 116.0, 116.0, 116.0, 116.0, 116.0, 116.0, 116.0, 116.0, 116.0, 116.0, 116.0, 116.0, 116.0, 120.0, 120.0, 120.0, 120.0, 120.0, 120.0, 120.0, 120.0, 120.0, 120.0, 120.0, 120.0, 120.0, 120.0, 120.0, 120.0, 120.0, 120.0, 120.0, 120.0, 120.0, 120.0, 120.0, 120.0, 120.0, 120.0, 120.0, 120.0, 120.0, 120.0, 120.0, 120.0, 120.0, 120.0, 120.0, 120.0, 120.0, 120.0, 120.0, 120.0, 120.0, 120.0, 120.0, 120.0, 120.0, 120.0, 120.0, 120.0, 120.0, 120.0, 120.0, 120.0, 120.0, 120.0, 120.0, 120.0, 120.0, 120.0, 120.0, 120.0, 120.0, 120.0, 120.0, 120.0, 120.0, 120.0, 120.0, 120.0, 120.0, 120.0, 120.0, 120.0, 120.0, 120.0, 120.0, 120.0, 120.0, 120.0, 120.0, 120.0, 120.0, 120.0, 120.0, 120.0, 120.0, 120.0, 120.0, 120.0, 120.0, 121.0, 121.0, 121.0, 121.0, 125.0, 125.0, 125.0, 125.0, 125.0, 125.0, 125.0, 125.0, 125.0, 125.0, 125.0, 125.0, 125.0, 125.0, 125.0, 125.0, 125.0, 125.0, 125.0, 125.0, 125.0, 125.0, 125.0, 125.0, 125.0, 125.0, 125.0, 125.0, 125.0, 125.0, 125.0, 125.0, 125.0, 125.0, 125.0, 125.0, 125.0, 125.0, 125.0, 125.0, 125.0, 125.0, 130.0, 130.0, 130.0, 130.0, 130.0, 130.0, 130.0, 130.0, 130.0, 130.0, 130.0, 130.0, 130.0, 130.0, 130.0, 130.0, 130.0, 130.0, 130.0, 130.0, 130.0, 130.0, 130.0, 130.0, 130.0, 130.0, 132.0, 132.0, 132.0, 132.0, 132.0, 132.0, 132.0, 132.0, 132.0, 132.0, 132.0, 132.0, 132.0, 132.0, 132.0, 132.0, 132.0, 132.0, 132.0, 132.0, 132.0, 132.0, 132.0, 132.0, 132.0, 132.0, 132.0, 132.0, 132.0, 132.0, 132.0, 132.0, 132.0, 132.0, 132.0, 132.0, 132.5, 132.5, 132.5, 132.5, 133.0, 133.0, 135.0, 135.0, 135.0, 135.0, 135.0, 135.0, 135.0, 135.0, 135.0, 135.0, 135.0, 135.0, 135.0, 135.0, 135.0, 135.0, 136.0, 136.0, 136.0, 136.0, 136.0, 136.0, 136.0, 136.0, 136.0, 136.0, 136.0, 136.0, 136.0, 136.0, 137.0, 137.0, 137.0, 137.0, 137.0, 137.0, 137.0, 137.0, 139.0, 139.0, 140.0, 140.0, 140.0, 140.0, 140.0, 140.0, 140.0, 140.0, 140.0, 140.0, 140.0, 140.0, 140.0, 140.0, 140.0, 140.0, 140.0, 140.0, 140.0, 140.0, 140.0, 140.0, 140.0, 140.0, 140.0, 140.0, 140.0, 140.0, 140.0, 140.0, 140.0, 140.0, 140.0, 140.0, 140.0, 140.0, 140.0, 140.0, 140.0, 140.0, 140.0, 140.0, 140.0, 140.0, 140.0, 140.0, 140.0, 140.0, 140.0, 140.0, 140.0, 140.0, 140.0, 140.0, 140.0, 140.0, 140.0, 140.0, 140.0, 140.0, 140.0, 140.0, 140.0, 140.0, 140.0, 140.0, 140.0, 140.0, 140.0, 140.0, 140.0, 140.0, 140.0, 140.0, 140.0, 140.0, 140.0, 140.0, 140.0, 140.0, 140.0, 140.0, 140.0, 140.0, 140.0, 140.0, 140.0, 140.0, 140.0, 140.0, 140.0, 140.0, 140.0, 140.0, 140.0, 140.0, 140.0, 140.0, 140.0, 140.0, 140.0, 140.0, 140.0, 140.0, 140.0, 140.0, 140.0, 140.0, 140.0, 140.0, 140.0, 140.0, 140.0, 140.0, 140.0, 140.0, 140.0, 140.0, 140.0, 140.0, 140.0, 140.0, 140.0, 140.0, 140.0, 140.0, 140.0, 140.0, 140.0, 140.0, 140.0, 140.0, 140.0, 140.0, 140.0, 140.0, 140.0, 140.0, 140.0, 140.0, 140.0, 140.0, 140.0, 140.0, 140.0, 140.0, 140.0, 140.0, 140.0, 140.0, 140.0, 140.0, 140.0, 140.0, 140.0, 140.0, 140.0, 140.0, 140.0, 140.0, 140.0, 140.0, 140.0, 140.0, 140.0, 140.0, 140.0, 140.0, 140.0, 140.0, 140.0, 140.0, 140.0, 140.0, 140.0, 140.0, 140.0, 140.0, 140.0, 140.0, 140.0, 140.0, 140.0, 140.0, 140.0, 140.0, 140.0, 140.0, 140.0, 140.0, 140.0, 140.0, 140.0, 140.0, 140.0, 140.0, 140.0, 140.0, 140.0, 140.0, 140.0, 140.0, 140.0, 140.0, 140.0, 140.0, 140.0, 140.0, 140.0, 140.0, 140.0, 140.0, 140.0, 140.0, 140.0, 140.0, 140.0, 140.0, 140.0, 140.0, 140.0, 140.0, 140.0, 140.0, 140.0, 140.0, 140.0, 140.0, 140.0, 140.0, 140.0, 140.0, 140.0, 140.0, 140.0, 140.0, 140.0, 140.0, 140.0, 140.0, 140.0, 140.0, 140.0, 140.0, 140.0, 140.0, 140.0, 140.0, 140.0, 140.0, 140.0, 140.0, 140.0, 140.0, 140.0, 140.0, 140.0, 140.0, 140.0, 140.0, 140.0, 140.0, 140.0, 140.0, 140.0, 140.0, 140.0, 140.0, 140.0, 140.0, 140.0, 140.0, 140.0, 140.0, 140.0, 140.0, 140.0, 140.0, 140.0, 140.0, 140.0, 140.0, 140.0, 140.0, 140.0, 140.0, 140.0, 140.0, 140.0, 140.0, 140.0, 140.0, 140.0, 140.0, 140.0, 140.0, 140.0, 140.0, 140.0, 140.0, 140.0, 140.0, 140.0, 140.0, 140.0, 140.0, 140.0, 140.0, 140.0, 140.0, 140.0, 140.0, 140.0, 140.0, 140.0, 140.0, 140.0, 140.0, 140.0, 140.0, 140.0, 140.0, 140.0, 140.0, 140.0, 140.0, 140.0, 140.0, 140.0, 140.0, 140.0, 140.0, 140.0, 140.0, 140.0, 140.0, 140.0, 140.0, 140.0, 140.0, 142.0, 142.0, 142.0, 142.0, 142.0, 142.0, 142.0, 142.0, 142.0, 142.0, 142.0, 142.0, 142.0, 142.0, 142.0, 142.0, 142.0, 142.0, 142.0, 142.0, 142.0, 142.0, 142.0, 142.0, 142.0, 142.0, 142.0, 142.0, 142.0, 142.0, 142.0, 142.0, 142.0, 142.0, 142.0, 142.0, 142.0, 142.0, 142.0, 142.0, 142.0, 142.0, 143.0, 143.0, 143.0, 143.0, 143.0, 143.0, 143.0, 143.0, 143.0, 143.0, 143.0, 143.0, 143.0, 143.0, 143.0, 143.0, 143.0, 143.0, 143.0, 143.0, 143.0, 143.0, 143.0, 143.0, 143.0, 143.0, 143.0, 143.0, 143.0, 143.0, 143.0, 143.0, 143.0, 143.0, 143.0, 143.0, 143.0, 143.0, 143.0, 143.0, 143.0, 143.0, 143.0, 143.0, 143.0, 143.0, 143.0, 143.0, 143.0, 143.0, 143.0, 143.0, 143.0, 143.0, 143.0, 143.0, 143.0, 143.0, 143.0, 143.0, 143.0, 143.0, 143.0, 143.0, 143.0, 143.0, 143.0, 143.0, 143.0, 143.0, 143.0, 143.0, 143.0, 143.0, 143.0, 143.0, 143.0, 143.0, 143.0, 143.0, 143.0, 143.0, 143.0, 143.0, 143.0, 143.0, 143.0, 143.0, 143.0, 143.0, 143.0, 143.0, 143.0, 143.0, 143.0, 143.0, 143.0, 143.0, 143.0, 143.0, 143.0, 143.0, 143.0, 143.0, 143.0, 143.0, 143.0, 143.0, 143.0, 143.0, 143.0, 143.0, 143.0, 143.0, 143.0, 143.0, 143.0, 143.0, 143.0, 143.0, 143.0, 143.0, 143.0, 143.0, 143.0, 143.0, 143.0, 143.0, 143.0, 143.0, 143.0, 143.0, 143.0, 143.0, 143.0, 143.0, 143.0, 143.0, 143.0, 143.0, 143.0, 143.0, 143.0, 143.0, 143.0, 143.0, 143.0, 143.0, 143.0, 144.0, 144.0, 144.0, 145.0, 145.0, 145.0, 145.0, 145.0, 145.0, 145.0, 145.0, 145.0, 145.0, 145.0, 145.0, 145.0, 145.0, 145.0, 145.0, 145.0, 145.0, 145.0, 145.0, 145.0, 145.0, 145.0, 145.0, 145.0, 145.0, 145.0, 145.0, 145.0, 145.0, 145.0, 145.0, 145.0, 145.0, 145.0, 145.0, 145.0, 145.0, 145.0, 145.0, 145.0, 145.0, 145.0, 145.0, 145.0, 145.0, 145.0, 145.0, 145.0, 145.0, 145.0, 145.0, 145.0, 145.0, 145.0, 145.0, 145.0, 145.0, 145.0, 145.0, 145.0, 145.0, 145.0, 145.0, 145.0, 145.0, 145.0, 145.0, 145.0, 145.0, 145.0, 145.0, 145.0, 145.0, 145.0, 145.0, 145.0, 145.0, 145.0, 145.0, 145.0, 145.0, 145.0, 145.0, 145.0, 145.0, 145.0, 145.0, 145.0, 145.0, 145.0, 145.0, 145.0, 145.0, 145.0, 145.0, 145.0, 145.0, 145.0, 145.0, 145.0, 145.0, 145.0, 145.0, 147.0, 147.0, 147.0, 147.0, 147.0, 147.0, 147.0, 147.0, 147.0, 147.0, 147.0, 147.0, 147.0, 147.0, 147.0, 147.0, 147.0, 147.0, 147.0, 147.0, 147.0, 147.0, 147.0, 147.0, 147.0, 147.0, 147.0, 147.0, 147.0, 147.0, 147.0, 147.0, 147.0, 147.0, 147.0, 147.0, 147.0, 147.0, 147.0, 147.0, 147.0, 147.0, 147.0, 147.0, 147.0, 147.0, 147.0, 147.0, 147.0, 147.0, 147.0, 147.0, 147.0, 147.0, 147.0, 147.0, 147.0, 147.0, 147.0, 147.0, 147.0, 147.0, 147.0, 147.0, 147.0, 147.0, 147.0, 147.0, 147.0, 147.0, 147.0, 147.0, 147.0, 147.0, 147.0, 147.0, 147.0, 147.0, 147.0, 147.0, 147.0, 147.0, 147.0, 147.0, 147.0, 147.0, 147.0, 147.0, 147.0, 147.0, 147.0, 147.0, 147.0, 147.0, 147.0, 147.0, 147.0, 147.0, 147.0, 147.0, 147.0, 147.0, 147.0, 147.0, 147.0, 147.0, 147.0, 147.0, 147.0, 147.0, 147.0, 147.0, 147.0, 147.0, 147.0, 147.0, 147.0, 147.0, 147.0, 147.0, 147.0, 147.0, 147.0, 147.0, 148.0, 148.0, 150.0, 150.0, 150.0, 150.0, 150.0, 150.0, 150.0, 150.0, 150.0, 150.0, 150.0, 150.0, 150.0, 150.0, 150.0, 150.0, 150.0, 150.0, 150.0, 150.0, 150.0, 150.0, 150.0, 150.0, 150.0, 150.0, 150.0, 150.0, 150.0, 150.0, 150.0, 150.0, 150.0, 150.0, 150.0, 150.0, 150.0, 150.0, 150.0, 150.0, 150.0, 150.0, 150.0, 150.0, 150.0, 150.0, 150.0, 150.0, 150.0, 150.0, 150.0, 150.0, 150.0, 150.0, 150.0, 150.0, 150.0, 150.0, 150.0, 150.0, 150.0, 150.0, 150.0, 150.0, 150.0, 150.0, 150.0, 150.0, 150.0, 150.0, 150.0, 150.0, 150.0, 150.0, 150.0, 150.0, 150.0, 150.0, 150.0, 150.0, 150.0, 150.0, 150.0, 150.0, 150.0, 150.0, 150.0, 150.0, 150.0, 150.0, 150.0, 150.0, 150.0, 150.0, 150.0, 150.0, 150.0, 150.0, 150.0, 150.0, 150.0, 150.0, 150.0, 150.0, 150.0, 150.0, 150.0, 150.0, 150.0, 150.0, 150.0, 150.0, 150.0, 150.0, 150.0, 150.0, 150.0, 150.0, 150.0, 150.0, 150.0, 150.0, 150.0, 150.0, 150.0, 150.0, 150.0, 150.0, 150.0, 150.0, 150.0, 150.0, 150.0, 150.0, 150.0, 150.0, 150.0, 150.0, 150.0, 150.0, 150.0, 150.0, 150.0, 150.0, 150.0, 150.0, 150.0, 150.0, 150.0, 150.0, 150.0, 150.0, 150.0, 150.0, 150.0, 150.0, 150.0, 150.0, 150.0, 150.0, 150.0, 150.0, 150.0, 150.0, 150.0, 150.0, 150.0, 150.0, 150.0, 151.0, 151.0, 151.0, 151.0, 151.0, 151.0, 154.0, 154.0, 154.0, 154.0, 154.0, 154.0, 154.0, 154.0, 154.0, 154.0, 154.0, 154.0, 154.0, 154.0, 154.0, 154.0, 155.0, 155.0, 155.0, 155.0, 155.0, 155.0, 155.0, 155.0, 155.0, 155.0, 155.0, 155.0, 156.0, 156.0, 157.0, 157.0, 157.0, 157.0, 157.0, 157.0, 157.0, 157.0, 157.0, 157.0, 159.0, 159.0, 160.0, 160.0, 160.0, 160.0, 160.0, 160.0, 160.0, 160.0, 160.0, 160.0, 160.0, 160.0, 160.0, 160.0, 160.0, 160.0, 160.0, 160.0, 160.0, 160.0, 160.0, 160.0, 160.0, 160.0, 160.0, 160.0, 160.0, 160.0, 160.0, 160.0, 160.0, 160.0, 160.0, 160.0, 162.0, 162.0, 162.0, 162.0, 162.0, 162.0, 163.0, 163.0, 163.0, 163.0, 163.0, 163.0, 163.0, 163.0, 163.0, 163.0, 163.0, 163.0, 163.0, 163.0, 164.0, 164.0, 164.0, 164.0, 165.0, 165.0, 165.0, 165.0, 165.0, 165.0, 165.0, 165.0, 166.0, 166.0, 170.0, 170.0, 170.0, 170.0, 170.0, 170.0, 170.0, 170.0, 170.0, 170.0, 170.0, 170.0, 170.0, 170.0, 170.0, 170.0, 170.0, 170.0, 170.0, 170.0, 170.0, 170.0, 170.0, 170.0, 170.0, 170.0, 170.0, 170.0, 170.0, 170.0, 170.0, 170.0, 170.0, 170.0, 170.0, 170.0, 170.0, 170.0, 170.0, 170.0, 170.0, 170.0, 170.0, 170.0, 170.0, 170.0, 170.0, 170.0, 170.0, 170.0, 171.0, 171.0, 172.0, 172.0, 173.0, 173.0, 173.0, 173.0, 173.0, 173.0, 173.0, 173.0, 173.0, 173.0, 173.0, 173.0, 173.0, 173.0, 173.0, 173.0, 173.0, 173.0, 173.0, 173.0, 173.0, 173.0, 173.0, 173.0, 173.0, 173.0, 173.0, 173.0, 173.0, 173.0, 173.0, 173.0, 173.0, 173.0, 173.0, 173.0, 173.0, 173.0, 173.0, 173.0, 173.0, 173.0, 173.0, 173.0, 173.0, 173.0, 173.0, 173.0, 173.0, 173.0, 173.0, 173.0, 173.0, 173.0, 173.0, 173.0, 173.0, 173.0, 173.0, 174.0, 174.0, 174.0, 174.0, 175.0, 175.0, 175.0, 175.0, 175.0, 175.0, 176.0, 176.0, 176.0, 176.0, 176.0, 176.0, 176.0, 176.0, 176.0, 176.0, 176.0, 176.0, 176.0, 176.0, 176.0, 177.0, 177.0, 177.0, 177.0, 177.0, 177.0, 177.0, 177.0, 177.0, 177.0, 177.0, 177.0, 177.0, 177.0, 177.0, 177.0, 177.0, 177.0, 177.0, 177.0, 177.0, 177.0, 177.0, 177.0, 177.0, 177.0, 177.0, 177.0, 177.0, 177.0, 177.0, 177.0, 177.0, 177.0, 177.0, 177.0, 177.0, 177.0, 177.0, 177.0, 180.0, 180.0, 180.0, 180.0, 180.0, 180.0, 180.0, 180.0, 180.0, 180.0, 180.0, 180.0, 180.0, 180.0, 180.0, 180.0, 180.0, 180.0, 180.0, 180.0, 180.0, 180.0, 180.0, 180.0, 180.0, 180.0, 180.0, 180.0, 180.0, 180.0, 180.0, 180.0, 180.0, 180.0, 180.0, 180.0, 180.0, 180.0, 180.0, 180.0, 180.0, 180.0, 180.0, 180.0, 180.0, 180.0, 180.0, 180.0, 180.0, 180.0, 180.0, 180.0, 180.0, 180.0, 180.0, 180.0, 180.0, 182.0, 182.0, 182.0, 182.0, 182.0, 182.0, 182.0, 182.0, 182.0, 182.0, 182.0, 182.0, 183.0, 183.0, 183.0, 183.0, 183.0, 183.0, 183.0, 183.0, 183.0, 183.0, 183.0, 183.0, 183.0, 183.0, 183.0, 183.0, 183.0, 183.0, 183.0, 183.0, 183.0, 183.0, 184.0, 184.0, 184.0, 184.0, 184.0, 184.0, 184.0, 184.0, 184.0, 184.0, 184.0, 184.0, 184.0, 184.0, 184.0, 184.0, 184.0, 184.0, 184.0, 184.0, 184.0, 184.0, 184.0, 184.0, 184.0, 184.0, 184.0, 184.0, 185.0, 185.0, 185.0, 185.0, 185.0, 185.0, 185.0, 185.0, 185.0, 185.0, 186.0, 186.0, 186.0, 186.0, 186.0, 186.0, 187.0, 187.0, 187.0, 187.0, 187.0, 187.0, 187.0, 187.0, 187.0, 187.0, 187.0, 187.0, 187.0, 187.0, 187.0, 187.0, 187.0, 187.0, 188.0, 188.0, 190.0, 190.0, 190.0, 190.0, 190.0, 190.0, 190.0, 190.0, 190.0, 190.0, 190.0, 190.0, 190.0, 190.0, 190.0, 190.0, 190.0, 190.0, 190.0, 190.0, 190.0, 190.0, 190.0, 190.0, 190.0, 190.0, 190.0, 190.0, 190.0, 190.0, 190.0, 190.0, 190.0, 190.0, 190.0, 190.0, 190.0, 190.0, 190.0, 190.0, 190.0, 190.0, 190.0, 190.0, 190.0, 190.0, 190.0, 190.0, 190.0, 190.0, 190.0, 190.0, 190.0, 190.0, 190.0, 190.0, 190.0, 190.0, 190.0, 190.0, 190.0, 190.0, 190.0, 190.0, 190.0, 190.0, 190.0, 190.0, 190.0, 190.0, 190.0, 190.0, 190.0, 190.0, 190.0, 190.0, 190.0, 190.0, 190.0, 190.0, 190.0, 190.0, 190.0, 190.0, 190.0, 190.0, 190.0, 190.0, 190.0, 190.0, 190.0, 190.0, 190.0, 190.0, 190.0, 190.0, 190.0, 190.0, 190.0, 190.0, 190.0, 190.0, 190.0, 190.0, 190.0, 190.0, 190.0, 190.0, 190.0, 190.0, 190.0, 190.0, 190.0, 190.0, 190.0, 190.0, 190.0, 190.0, 190.0, 190.0, 190.0, 190.0, 190.0, 190.0, 190.0, 190.0, 190.0, 190.0, 190.0, 190.0, 190.0, 190.0, 190.0, 190.0, 190.0, 190.0, 190.0, 190.0, 190.0, 190.0, 190.0, 190.0, 190.0, 190.0, 190.0, 190.0, 190.0, 190.0, 190.0, 190.0, 190.0, 190.0, 190.0, 190.0, 190.0, 190.0, 190.0, 190.0, 190.0, 190.0, 190.0, 190.0, 190.0, 190.0, 190.0, 190.0, 190.0, 190.0, 190.0, 190.0, 190.0, 190.0, 190.0, 190.0, 190.0, 190.0, 190.0, 190.0, 190.0, 190.0, 190.0, 190.0, 190.0, 190.0, 190.0, 190.0, 190.0, 190.0, 190.0, 190.0, 190.0, 190.0, 190.0, 190.0, 190.0, 190.0, 190.0, 190.0, 190.0, 190.0, 190.0, 190.0, 190.0, 190.0, 190.0, 190.0, 190.0, 190.0, 190.0, 190.0, 190.0, 190.0, 190.0, 190.0, 190.0, 190.0, 190.0, 190.0, 190.0, 190.0, 190.0, 190.0, 190.0, 190.0, 191.0, 191.0, 192.0, 192.0, 193.0, 193.0, 193.0, 193.0, 193.0, 193.0, 193.0, 193.0, 193.0, 193.0, 193.0, 193.0, 193.0, 193.0, 193.0, 193.0, 193.0, 193.0, 193.0, 193.0, 193.0, 193.0, 193.0, 193.0, 193.0, 193.0, 193.0, 193.0, 194.0, 194.0, 194.0, 194.0, 194.0, 194.0, 195.0, 195.0, 195.0, 195.0, 195.0, 195.0, 195.0, 195.0, 195.0, 195.0, 195.0, 195.0, 195.0, 195.0, 195.0, 195.0, 195.0, 195.0, 195.0, 195.0, 195.0, 195.0, 195.0, 195.0, 195.0, 195.0, 195.0, 195.0, 195.0, 195.0, 195.0, 195.0, 195.0, 195.0, 195.0, 195.0, 195.0, 195.0, 195.0, 195.0, 195.0, 195.0, 195.0, 195.0, 195.0, 195.0, 195.0, 195.0, 195.0, 195.0, 195.0, 195.0, 195.0, 195.0, 195.0, 195.0, 195.0, 195.0, 195.0, 195.0, 195.0, 195.0, 195.0, 195.0, 195.0, 195.0, 195.0, 195.0, 195.0, 195.0, 195.0, 195.0, 195.0, 195.0, 196.0, 196.0, 198.0, 198.0, 199.0, 199.0, 200.0, 200.0, 200.0, 200.0, 200.0, 200.0, 200.0, 200.0, 200.0, 200.0, 200.0, 200.0, 200.0, 200.0, 200.0, 200.0, 200.0, 200.0, 200.0, 200.0, 200.0, 200.0, 200.0, 200.0, 200.0, 200.0, 200.0, 200.0, 200.0, 200.0, 200.0, 200.0, 200.0, 200.0, 200.0, 200.0, 200.0, 200.0, 200.0, 200.0, 200.0, 200.0, 200.0, 200.0, 200.0, 200.0, 200.0, 200.0, 200.0, 200.0, 200.0, 200.0, 200.0, 200.0, 200.0, 200.0, 200.0, 200.0, 200.0, 200.0, 200.0, 200.0, 200.0, 200.0, 200.0, 200.0, 200.0, 200.0, 200.0, 200.0, 200.0, 200.0, 200.0, 201.0, 201.0, 201.0, 201.0, 202.0, 202.0, 202.0, 202.0, 206.0, 206.0, 208.0, 208.0, 209.0, 209.0, 210.0, 210.0, 210.0, 210.0, 210.0, 210.0, 210.0, 210.0, 210.0, 210.0, 210.0, 210.0, 210.0, 210.0, 210.0, 210.0, 210.0, 210.0, 210.0, 210.0, 210.0, 210.0, 210.0, 210.0, 210.0, 210.0, 210.0, 210.0, 210.0, 210.0, 210.0, 210.0, 210.0, 210.0, 210.0, 210.0, 210.0, 210.0, 210.0, 210.0, 210.0, 210.0, 210.0, 210.0, 210.0, 210.0, 210.0, 210.0, 210.0, 210.0, 210.0, 210.0, 210.0, 210.0, 210.0, 210.0, 210.0, 210.0, 210.0, 210.0, 210.0, 210.0, 210.0, 210.0, 210.0, 210.0, 210.0, 210.0, 210.0, 210.0, 210.0, 210.0, 210.0, 210.0, 210.0, 210.0, 210.0, 210.0, 210.0, 210.0, 210.0, 210.0, 210.0, 210.0, 210.0, 210.0, 210.0, 210.0, 210.0, 210.0, 210.0, 210.0, 210.0, 210.0, 210.0, 210.0, 210.0, 210.0, 210.0, 210.0, 210.0, 210.0, 210.0, 210.0, 210.0, 210.0, 210.0, 210.0, 210.0, 210.0, 210.0, 210.0, 210.0, 210.0, 210.0, 210.0, 210.0, 210.0, 210.0, 210.0, 210.0, 210.0, 210.0, 210.0, 210.0, 210.0, 210.0, 210.0, 210.0, 210.0, 210.0, 210.0, 210.0, 210.0, 210.0, 210.0, 210.0, 210.0, 210.0, 210.0, 210.0, 210.0, 210.0, 210.0, 210.0, 210.0, 210.0, 210.0, 210.0, 210.0, 210.0, 210.0, 210.0, 210.0, 210.0, 210.0, 210.0, 210.0, 210.0, 210.0, 210.0, 210.0, 210.0, 210.0, 210.0, 210.0, 210.0, 210.0, 210.0, 210.0, 210.0, 210.0, 210.0, 210.0, 210.0, 210.0, 210.0, 210.0, 210.0, 210.0, 210.0, 210.0, 210.0, 210.0, 210.0, 210.0, 210.0, 210.0, 210.0, 210.0, 210.0, 210.0, 210.0, 210.0, 210.0, 210.0, 210.0, 210.0, 210.0, 210.0, 210.0, 210.0, 210.0, 210.0, 210.0, 210.0, 210.0, 210.0, 210.0, 210.0, 210.0, 210.0, 210.0, 210.0, 210.0, 210.0, 210.0, 210.0, 210.0, 210.0, 210.0, 210.0, 210.0, 210.0, 210.0, 210.0, 210.0, 210.0, 210.0, 210.0, 210.0, 210.0, 210.0, 210.0, 210.0, 210.0, 210.0, 210.0, 210.0, 210.0, 210.0, 210.0, 210.0, 210.0, 210.0, 210.0, 210.0, 210.0, 210.0, 210.0, 210.0, 210.0, 210.0, 210.0, 210.0, 210.0, 210.0, 210.0, 210.0, 210.0, 210.0, 210.0, 210.0, 210.0, 210.0, 210.0, 210.0, 210.0, 210.0, 210.0, 210.0, 210.0, 210.0, 210.0, 210.0, 210.0, 210.0, 210.0, 210.0, 210.0, 210.0, 210.0, 210.0, 210.0, 210.0, 210.0, 210.0, 210.0, 210.0, 210.0, 210.0, 210.0, 210.0, 210.0, 210.0, 210.0, 210.0, 210.0, 210.0, 210.0, 210.0, 210.0, 210.0, 211.0, 211.0, 212.0, 212.0, 213.0, 213.0, 213.0, 213.0, 214.0, 214.0, 215.0, 215.0, 215.0, 215.0, 215.0, 215.0, 215.0, 215.0, 215.0, 215.0, 215.0, 215.0, 217.0, 217.0, 218.0, 218.0, 218.0, 218.0, 218.0, 218.0, 220.0, 220.0, 220.0, 220.0, 220.0, 220.0, 220.0, 220.0, 220.0, 220.0, 220.0, 220.0, 220.0, 220.0, 221.0, 221.0, 221.0, 221.0, 221.0, 221.0, 221.0, 221.0, 221.0, 221.0, 221.0, 221.0, 221.0, 221.0, 221.0, 221.0, 221.0, 221.0, 221.0, 221.0, 221.0, 221.0, 221.0, 221.0, 221.0, 221.0, 221.0, 221.0, 222.0, 222.0, 223.0, 223.0, 224.0, 224.0, 224.0, 224.0, 224.0, 224.0, 225.0, 225.0, 225.0, 225.0, 225.0, 225.0, 225.0, 225.0, 225.0, 225.0, 225.0, 225.0, 225.0, 225.0, 225.0, 225.0, 225.0, 225.0, 225.0, 225.0, 227.0, 227.0, 227.0, 227.0, 227.0, 227.0, 228.0, 228.0, 228.0, 228.0, 228.0, 228.0, 228.0, 228.0, 228.0, 228.0, 228.0, 228.0, 230.0, 230.0, 230.0, 230.0, 230.0, 230.0, 230.0, 230.0, 230.0, 230.0, 230.0, 230.0, 230.0, 230.0, 230.0, 230.0, 230.0, 230.0, 230.0, 230.0, 230.0, 230.0, 230.0, 230.0, 230.0, 230.0, 233.0, 233.0, 233.0, 233.0, 234.0, 234.0, 234.0, 234.0, 234.0, 235.0, 235.0, 235.0, 235.0, 235.0, 235.0, 235.0, 235.0, 235.0, 235.0, 235.0, 235.0, 235.0, 235.0, 235.0, 235.0, 235.0, 235.0, 235.0, 235.0, 235.0, 235.0, 235.0, 235.0, 235.0, 235.0, 235.0, 235.0, 235.0, 235.0, 235.0, 235.0, 235.0, 235.0, 235.0, 235.0, 236.0, 236.0, 239.0, 239.0, 239.0, 239.0, 239.0, 239.0, 240.0, 240.0, 240.0, 240.0, 240.0, 240.0, 240.0, 240.0, 241.0, 241.0, 243.0, 243.0, 243.0, 243.0, 243.0, 243.0, 243.0, 243.0, 243.0, 243.0, 243.0, 243.0, 243.0, 243.0, 243.0, 243.0, 243.0, 243.0, 243.0, 243.0, 243.0, 243.0, 243.0, 243.0, 243.0, 243.0, 243.0, 243.0, 243.0, 243.0, 243.0, 243.0, 243.0, 243.0, 243.0, 243.0, 243.0, 243.0, 243.0, 243.0, 243.0, 243.0, 245.0, 245.0, 245.0, 245.0, 245.0, 245.0, 245.0, 245.0, 245.0, 245.0, 245.0, 245.0, 245.0, 245.0, 246.0, 246.0, 248.0, 248.0, 250.0, 250.0, 250.0, 250.0, 250.0, 250.0, 250.0, 250.0, 250.0, 250.0, 250.0, 250.0, 250.0, 250.0, 250.0, 250.0, 250.0, 250.0, 250.0, 250.0, 250.0, 250.0, 250.0, 250.0, 250.0, 250.0, 250.0, 250.0, 250.0, 250.0, 250.0, 250.0, 250.0, 250.0, 250.0, 250.0, 250.0, 250.0, 250.0, 250.0, 250.0, 250.0, 250.0, 250.0, 250.0, 250.0, 250.0, 250.0, 250.0, 250.0, 250.0, 250.0, 250.0, 250.0, 250.0, 250.0, 250.0, 250.0, 250.0, 250.0, 250.0, 250.0, 250.0, 250.0, 250.0, 250.0, 250.0, 250.0, 250.0, 250.0, 250.0, 250.0, 250.0, 250.0, 250.0, 250.0, 250.0, 250.0, 250.0, 250.0, 250.0, 250.0, 250.0, 250.0, 250.0, 250.0, 250.0, 250.0, 250.0, 250.0, 250.0, 250.0, 250.0, 250.0, 250.0, 250.0, 250.0, 250.0, 250.0, 250.0, 250.0, 251.0, 251.0, 253.0, 253.0, 253.0, 253.0, 255.0, 255.0, 255.0, 255.0, 256.0, 256.0, 256.0, 256.0, 257.0, 257.0, 257.0, 257.0, 257.0, 257.0, 257.0, 257.0, 257.0, 257.0, 257.0, 257.0, 257.0, 258.0, 258.0, 259.0, 259.0, 260.0, 260.0, 260.0, 260.0, 260.0, 260.0, 260.0, 260.0, 260.0, 260.0, 260.0, 260.0, 260.0, 260.0, 260.0, 260.0, 261.0, 261.0, 262.0, 262.0, 264.0, 264.0, 264.0, 264.0, 265.0, 265.0, 268.0, 268.0, 270.0, 270.0, 270.0, 270.0, 270.0, 270.0, 270.0, 270.0, 270.0, 270.0, 270.0, 270.0, 270.0, 270.0, 270.0, 270.0, 274.0, 274.0, 280.0, 280.0, 280.0, 280.0, 280.0, 280.0, 280.0, 280.0, 280.0, 280.0, 280.0, 280.0, 280.0, 280.0, 283.0, 283.0, 283.0, 283.0, 283.0, 283.0, 283.0, 283.0, 283.0, 283.0, 283.0, 283.0, 285.0, 285.0, 286.0, 286.0, 286.0, 286.0, 286.0, 286.0, 286.0, 286.0, 286.0, 286.0, 287.0, 287.0, 287.0, 287.0, 287.0, 287.0, 287.0, 287.0, 287.0, 287.0, 290.0, 290.0, 290.0, 290.0, 292.0, 292.0, 294.0, 294.0, 294.0, 294.0, 294.0, 294.0, 294.0, 294.0, 294.0, 294.0, 294.0, 294.0, 294.0, 294.0, 294.0, 294.0, 294.0, 294.0, 294.0, 294.0, 294.0, 294.0, 294.0, 294.0, 294.0, 294.0, 294.0, 294.0, 295.0, 295.0, 295.0, 295.0, 295.0, 295.0, 298.0, 298.0, 300.0, 300.0, 300.0, 300.0, 300.0, 300.0, 300.0, 300.0, 300.0, 300.0, 300.0, 300.0, 309.0, 309.0, 309.0, 309.0, 310.0, 310.0, 310.0, 310.0, 310.0, 310.0, 310.0, 310.0, 317.0, 317.0, 317.0, 317.0, 320.0, 320.0, 320.0, 320.0, 320.0, 320.0, 320.0, 320.0, 320.0, 320.0, 320.0, 320.0, 320.0, 320.0, 320.0, 320.0, 320.0, 321.0, 321.0, 324.0, 324.0, 324.0, 324.0, 324.0, 324.0, 325.0, 325.0, 330.0, 330.0, 330.0, 330.0, 330.0, 330.0, 331.0, 331.0, 331.0, 331.0, 331.0, 331.0, 334.0, 334.0, 335.0, 335.0, 336.0, 336.0, 338.0, 338.0, 339.0, 339.0, 340.0, 340.0, 340.0, 340.0, 343.0, 343.0, 344.0, 344.0, 345.0, 345.0, 345.0, 345.0, 345.0, 345.0, 345.0, 345.0, 345.0, 345.0, 353.0, 353.0, 360.0, 360.0, 362.0, 362.0, 368.0, 368.0, 370.0, 370.0, 370.0, 370.0, 372.0, 372.0, 373.0, 373.0, 373.0, 373.0, 373.0, 373.0, 373.0, 373.0, 373.0, 373.0, 373.0, 373.0, 373.0, 373.0, 373.0, 373.0, 375.0, 375.0, 375.0, 375.0, 375.0, 375.0, 375.0, 375.0, 375.0, 375.0, 375.0, 375.0, 375.0, 375.0, 375.0, 375.0, 382.0, 382.0, 388.0, 388.0, 390.0, 390.0, 390.0, 390.0, 390.0, 390.0, 390.0, 390.0, 390.0, 390.0, 391.0, 391.0, 395.0, 395.0, 400.0, 400.0, 404.0, 404.0, 404.0, 404.0, 410.0, 411.0, 411.0, 412.0, 412.0, 412.0, 412.0, 412.0, 412.0, 418.0, 418.0, 418.0, 418.0, 420.0, 420.0, 420.0, 420.0, 423.0, 423.0, 423.0, 423.0, 425.0, 425.0, 426.0, 426.0, 428.0, 428.0, 430.0, 430.0, 430.0, 430.0, 430.0, 430.0, 430.0, 430.0, 430.0, 430.0, 430.0, 430.0, 440.0, 440.0, 441.0, 441.0, 441.0, 441.0, 441.0, 441.0, 441.0, 441.0, 447.0, 447.0, 450.0, 450.0, 450.0, 450.0, 450.0, 450.0, 450.0, 450.0, 460.0, 460.0, 460.0, 460.0, 460.0, 460.0, 460.0, 460.0, 462.0, 462.0, 463.0, 471.0, 471.0, 477.0, 477.0, 478.0, 478.0, 493.0, 493.0, 527.0, 527.0, 530.0, 530.0, 550.0, 550.0, 560.0, 560.0, 590.0, 590.0, 600.0, 600.0, 699.0, 699.0, 1000.0, 1000.0, 1200.0, 1200.0, 1390.0, 1390.0, 1600.0, 1600.0, 1900.0, 1900.0, 2000.0, 2000.0, 2993.0, 2993.0, 8855.0, 8855.0, 54539.0, 54539.0, 400000.0, 400000.0, 555555.0]\n",
      "                                  URL    Price  Transmission  Year  \\\n",
      "155   https://olx.ba/artikal/60578345    950.0             0  2000   \n",
      "5285  https://olx.ba/artikal/61596656   1200.0             0  1987   \n",
      "2603  https://olx.ba/artikal/61596656   1200.0             0  1987   \n",
      "2762  https://olx.ba/artikal/61203044   1555.0             0  1997   \n",
      "5442  https://olx.ba/artikal/61203044   1555.0             0  1997   \n",
      "5160  https://olx.ba/artikal/60910445   1700.0             0  1995   \n",
      "2478  https://olx.ba/artikal/60910445   1700.0             0  1995   \n",
      "2495  https://olx.ba/artikal/61905376   2000.0             0  2003   \n",
      "2498  https://olx.ba/artikal/61904130   2000.0             0  1988   \n",
      "5191  https://olx.ba/artikal/61711037   2000.0             0  2001   \n",
      "5180  https://olx.ba/artikal/61904130   2000.0             0  1988   \n",
      "2509  https://olx.ba/artikal/61711037   2000.0             0  2001   \n",
      "5177  https://olx.ba/artikal/61905376   2000.0             0  2003   \n",
      "975   https://olx.ba/artikal/62072110  63500.0             1  2022   \n",
      "3673  https://olx.ba/artikal/62072110  63500.0             1  2022   \n",
      "1438  https://olx.ba/artikal/61647953  65000.0             1  2015   \n",
      "4124  https://olx.ba/artikal/61647953  65000.0             1  2015   \n",
      "3338  https://olx.ba/artikal/60995314  75000.0             1  2015   \n",
      "639   https://olx.ba/artikal/60995314  75000.0             1  2015   \n",
      "\n",
      "      Motor Strength (KW)    Mileage  Engine Capacity   Manufacturer  \\\n",
      "155              555555.0        0km              1.2           Fiat   \n",
      "5285               1600.0  400.000km              1.6           Opel   \n",
      "2603               1600.0  400.000km              1.6           Opel   \n",
      "2762              54539.0    1.234km              1.4           Fiat   \n",
      "5442              54539.0    1.234km              1.4           Fiat   \n",
      "5160               1200.0  240.000km              1.2           Opel   \n",
      "2478               1200.0  240.000km              1.2           Opel   \n",
      "2495               1900.0        0km              1.9     Alfa Romeo   \n",
      "2498             400000.0  325.800km              1.6     Volkswagen   \n",
      "5191               1390.0  137.263km              1.4           Seat   \n",
      "5180             400000.0  325.800km              1.6     Volkswagen   \n",
      "2509               1390.0  137.263km              1.4           Seat   \n",
      "5177               1900.0        0km              1.9     Alfa Romeo   \n",
      "975                2000.0   15.000km              2.0           Audi   \n",
      "3673               2000.0   15.000km              2.0           Audi   \n",
      "1438               2993.0  230.000km              3.0     Land Rover   \n",
      "4124               2993.0  230.000km              3.0     Land Rover   \n",
      "3338               8855.0  160.000km              3.0  Mercedes-Benz   \n",
      "639                8855.0  160.000km              3.0  Mercedes-Benz   \n",
      "\n",
      "                  Model Fuel Type  \n",
      "155               Brava      Plin  \n",
      "5285             Ascona    Benzin  \n",
      "2603             Ascona    Benzin  \n",
      "2762            Fiorino    Benzin  \n",
      "5442            Fiorino    Benzin  \n",
      "5160              Corsa    Benzin  \n",
      "2478              Corsa    Benzin  \n",
      "2495           Alfa 147     Dizel  \n",
      "2498               Golf     Dizel  \n",
      "5191              Ibiza    Benzin  \n",
      "5180               Golf     Dizel  \n",
      "2509              Ibiza    Benzin  \n",
      "5177           Alfa 147     Dizel  \n",
      "975                  A4    Benzin  \n",
      "3673                 A4    Benzin  \n",
      "1438  Range Rover Sport     Dizel  \n",
      "4124  Range Rover Sport     Dizel  \n",
      "3338                350     Dizel  \n",
      "639                 350     Dizel  \n"
     ]
    }
   ],
   "source": [
    "lista = df['Motor Strength (KW)']\n",
    "lista = sorted(lista)\n",
    "print(lista)\n",
    "print(df[df['Motor Strength (KW)'] > 1000])"
   ]
  },
  {
   "cell_type": "code",
   "execution_count": 539,
   "metadata": {},
   "outputs": [
    {
     "data": {
      "text/plain": [
       "(array([5.344e+03, 2.000e+00, 0.000e+00, 0.000e+00, 0.000e+00, 0.000e+00,\n",
       "        0.000e+00, 0.000e+00, 0.000e+00, 2.000e+00]),\n",
       " array([     0.,  40000.,  80000., 120000., 160000., 200000., 240000.,\n",
       "        280000., 320000., 360000., 400000.]),\n",
       " <BarContainer object of 10 artists>)"
      ]
     },
     "execution_count": 539,
     "metadata": {},
     "output_type": "execute_result"
    },
    {
     "data": {
      "image/png": "[encoded data removed]",
      "text/plain": [
       "<Figure size 640x480 with 1 Axes>"
      ]
     },
     "metadata": {},
     "output_type": "display_data"
    }
   ],
   "source": [
    "import matplotlib.pyplot as plt\n",
    "lista = [int(el) for el in lista]\n",
    "lista.remove(max(lista))\n",
    "plt.hist(lista, bins=10, edgecolor='black', log=True)"
   ]
  },
  {
   "cell_type": "code",
   "execution_count": 540,
   "metadata": {},
   "outputs": [
    {
     "name": "stdout",
     "output_type": "stream",
     "text": [
      "159    37\n",
      "20     37\n",
      "41     44\n",
      "73     33\n",
      "81     55\n",
      "Name: Motor Strength (KW), dtype: int64\n"
     ]
    }
   ],
   "source": [
    "def clean_motor(power):\n",
    "    return int(power)\n",
    "\n",
    "df['Motor Strength (KW)'] = df['Motor Strength (KW)'].apply(clean_motor)\n",
    "print(df['Motor Strength (KW)'].head())"
   ]
  },
  {
   "cell_type": "code",
   "execution_count": 541,
   "metadata": {},
   "outputs": [],
   "source": [
    "df = df[df['Motor Strength (KW)'] < 700]\n",
    "df = df[df['Motor Strength (KW)'] > 30]"
   ]
  },
  {
   "cell_type": "code",
   "execution_count": 542,
   "metadata": {},
   "outputs": [
    {
     "name": "stdout",
     "output_type": "stream",
     "text": [
      "159    33333333\n",
      "20        36520\n",
      "41       300000\n",
      "73       111100\n",
      "81           20\n",
      "Name: Mileage, dtype: int64\n"
     ]
    }
   ],
   "source": [
    "def clean_mileage(mileage):\n",
    "    mileage= mileage.replace('.', '')\n",
    "    if(',' in mileage):\n",
    "        mileage = mileage.split(',')[0]\n",
    "    else:\n",
    "        mileage = mileage.split('km')[0]\n",
    "    return int(mileage)\n",
    "\n",
    "\n",
    "df['Mileage'] = df['Mileage'].apply(clean_mileage)\n",
    "print(df['Mileage'].head())"
   ]
  },
  {
   "cell_type": "code",
   "execution_count": 543,
   "metadata": {},
   "outputs": [
    {
     "data": {
      "text/plain": [
       "(array([5.262e+03, 0.000e+00, 0.000e+00, 0.000e+00, 0.000e+00, 0.000e+00,\n",
       "        0.000e+00, 0.000e+00, 0.000e+00, 2.000e+00]),\n",
       " array([0.00000000e+00, 1.11111111e+10, 2.22222222e+10, 3.33333333e+10,\n",
       "        4.44444444e+10, 5.55555556e+10, 6.66666667e+10, 7.77777778e+10,\n",
       "        8.88888889e+10, 1.00000000e+11, 1.11111111e+11]),\n",
       " <BarContainer object of 10 artists>)"
      ]
     },
     "execution_count": 543,
     "metadata": {},
     "output_type": "execute_result"
    },
    {
     "data": {
      "image/png": "[encoded data removed]",
      "text/plain": [
       "<Figure size 640x480 with 1 Axes>"
      ]
     },
     "metadata": {},
     "output_type": "display_data"
    }
   ],
   "source": [
    "lista = df['Mileage']\n",
    "lista = sorted(lista)\n",
    "plt.hist(lista, bins=10, edgecolor='black', log=True)"
   ]
  },
  {
   "cell_type": "code",
   "execution_count": 544,
   "metadata": {},
   "outputs": [
    {
     "name": "stdout",
     "output_type": "stream",
     "text": [
      "<class 'pandas.core.frame.DataFrame'>\n",
      "Index: 5264 entries, 159 to 775\n",
      "Data columns (total 10 columns):\n",
      " #   Column               Non-Null Count  Dtype  \n",
      "---  ------               --------------  -----  \n",
      " 0   URL                  5264 non-null   object \n",
      " 1   Price                5264 non-null   float64\n",
      " 2   Transmission         5264 non-null   int64  \n",
      " 3   Year                 5264 non-null   int64  \n",
      " 4   Motor Strength (KW)  5264 non-null   int64  \n",
      " 5   Mileage              5264 non-null   int64  \n",
      " 6   Engine Capacity      5264 non-null   float64\n",
      " 7   Manufacturer         5264 non-null   object \n",
      " 8   Model                5264 non-null   object \n",
      " 9   Fuel Type            5264 non-null   object \n",
      "dtypes: float64(2), int64(4), object(4)\n",
      "memory usage: 452.4+ KB\n"
     ]
    }
   ],
   "source": [
    "df.info()"
   ]
  },
  {
   "cell_type": "code",
   "execution_count": 545,
   "metadata": {},
   "outputs": [],
   "source": [
    "df = df[df['Mileage'] < 1000000]"
   ]
  },
  {
   "cell_type": "code",
   "execution_count": 546,
   "metadata": {},
   "outputs": [
    {
     "data": {
      "text/html": [
       "<div>\n",
       "<style scoped>\n",
       "    .dataframe tbody tr th:only-of-type {\n",
       "        vertical-align: middle;\n",
       "    }\n",
       "\n",
       "    .dataframe tbody tr th {\n",
       "        vertical-align: top;\n",
       "    }\n",
       "\n",
       "    .dataframe thead th {\n",
       "        text-align: right;\n",
       "    }\n",
       "</style>\n",
       "<table border=\"1\" class=\"dataframe\">\n",
       "  <thead>\n",
       "    <tr style=\"text-align: right;\">\n",
       "      <th></th>\n",
       "      <th>URL</th>\n",
       "      <th>Price</th>\n",
       "      <th>Transmission</th>\n",
       "      <th>Year</th>\n",
       "      <th>Motor Strength (KW)</th>\n",
       "      <th>Mileage</th>\n",
       "      <th>Engine Capacity</th>\n",
       "      <th>Manufacturer</th>\n",
       "      <th>Model</th>\n",
       "      <th>Fuel Type</th>\n",
       "    </tr>\n",
       "  </thead>\n",
       "  <tbody>\n",
       "    <tr>\n",
       "      <th>20</th>\n",
       "      <td>https://olx.ba/artikal/62073392</td>\n",
       "      <td>500.0</td>\n",
       "      <td>0</td>\n",
       "      <td>2000</td>\n",
       "      <td>37</td>\n",
       "      <td>36520</td>\n",
       "      <td>1.2</td>\n",
       "      <td>Fiat</td>\n",
       "      <td>Seicento</td>\n",
       "      <td>Benzin</td>\n",
       "    </tr>\n",
       "    <tr>\n",
       "      <th>41</th>\n",
       "      <td>https://olx.ba/artikal/61998889</td>\n",
       "      <td>500.0</td>\n",
       "      <td>0</td>\n",
       "      <td>1981</td>\n",
       "      <td>44</td>\n",
       "      <td>300000</td>\n",
       "      <td>1.2</td>\n",
       "      <td>Volkswagen</td>\n",
       "      <td>Golf</td>\n",
       "      <td>Benzin</td>\n",
       "    </tr>\n",
       "    <tr>\n",
       "      <th>73</th>\n",
       "      <td>https://olx.ba/artikal/61894825</td>\n",
       "      <td>500.0</td>\n",
       "      <td>0</td>\n",
       "      <td>1997</td>\n",
       "      <td>33</td>\n",
       "      <td>111100</td>\n",
       "      <td>1.2</td>\n",
       "      <td>Opel</td>\n",
       "      <td>Corsa</td>\n",
       "      <td>Benzin</td>\n",
       "    </tr>\n",
       "    <tr>\n",
       "      <th>81</th>\n",
       "      <td>https://olx.ba/artikal/61851873</td>\n",
       "      <td>550.0</td>\n",
       "      <td>0</td>\n",
       "      <td>1991</td>\n",
       "      <td>55</td>\n",
       "      <td>20</td>\n",
       "      <td>1.6</td>\n",
       "      <td>Opel</td>\n",
       "      <td>Vectra</td>\n",
       "      <td>Benzin</td>\n",
       "    </tr>\n",
       "    <tr>\n",
       "      <th>141</th>\n",
       "      <td>https://olx.ba/artikal/61405255</td>\n",
       "      <td>600.0</td>\n",
       "      <td>0</td>\n",
       "      <td>1989</td>\n",
       "      <td>33</td>\n",
       "      <td>333333</td>\n",
       "      <td>1.1</td>\n",
       "      <td>Ford</td>\n",
       "      <td>Fiesta</td>\n",
       "      <td>Benzin</td>\n",
       "    </tr>\n",
       "  </tbody>\n",
       "</table>\n",
       "</div>"
      ],
      "text/plain": [
       "                                 URL  Price  Transmission  Year  \\\n",
       "20   https://olx.ba/artikal/62073392  500.0             0  2000   \n",
       "41   https://olx.ba/artikal/61998889  500.0             0  1981   \n",
       "73   https://olx.ba/artikal/61894825  500.0             0  1997   \n",
       "81   https://olx.ba/artikal/61851873  550.0             0  1991   \n",
       "141  https://olx.ba/artikal/61405255  600.0             0  1989   \n",
       "\n",
       "     Motor Strength (KW)  Mileage  Engine Capacity Manufacturer     Model  \\\n",
       "20                    37    36520              1.2         Fiat  Seicento   \n",
       "41                    44   300000              1.2   Volkswagen      Golf   \n",
       "73                    33   111100              1.2         Opel     Corsa   \n",
       "81                    55       20              1.6         Opel    Vectra   \n",
       "141                   33   333333              1.1         Ford    Fiesta   \n",
       "\n",
       "    Fuel Type  \n",
       "20     Benzin  \n",
       "41     Benzin  \n",
       "73     Benzin  \n",
       "81     Benzin  \n",
       "141    Benzin  "
      ]
     },
     "execution_count": 546,
     "metadata": {},
     "output_type": "execute_result"
    }
   ],
   "source": [
    "df.head()"
   ]
  },
  {
   "cell_type": "code",
   "execution_count": 547,
   "metadata": {},
   "outputs": [
    {
     "data": {
      "text/plain": [
       "(array([ 436., 1213., 1947., 1251.,   80.,  145.,   58.,   22.,   28.,\n",
       "          20.]),\n",
       " array([0.8 , 1.38, 1.96, 2.54, 3.12, 3.7 , 4.28, 4.86, 5.44, 6.02, 6.6 ]),\n",
       " <BarContainer object of 10 artists>)"
      ]
     },
     "execution_count": 547,
     "metadata": {},
     "output_type": "execute_result"
    },
    {
     "data": {
      "image/png": "[encoded data removed]",
      "text/plain": [
       "<Figure size 640x480 with 1 Axes>"
      ]
     },
     "metadata": {},
     "output_type": "display_data"
    }
   ],
   "source": [
    "lista = df['Engine Capacity']\n",
    "lista = sorted(lista)\n",
    "plt.hist(lista, bins=10, edgecolor='black', log=True)"
   ]
  },
  {
   "cell_type": "code",
   "execution_count": 548,
   "metadata": {},
   "outputs": [
    {
     "data": {
      "image/png": "[encoded data removed]",
      "text/plain": [
       "<Figure size 1000x800 with 2 Axes>"
      ]
     },
     "metadata": {},
     "output_type": "display_data"
    }
   ],
   "source": [
    "import seaborn as sns\n",
    "help = df.drop(columns=['URL', 'Manufacturer', 'Model', 'Fuel Type'])\n",
    "corr_matrix = help.corr()\n",
    "plt.figure(figsize=(10, 8))\n",
    "sns.heatmap(corr_matrix, annot=True, cmap='coolwarm', linewidths=0.5)\n",
    "plt.title('Correlation Matrix Heatmap')\n",
    "plt.show()"
   ]
  },
  {
   "cell_type": "code",
   "execution_count": 549,
   "metadata": {},
   "outputs": [
    {
     "name": "stdout",
     "output_type": "stream",
     "text": [
      "{'Benzin', 'Hibrid', 'Dizel', 'Plin'}\n"
     ]
    }
   ],
   "source": [
    "lista = df['Fuel Type']\n",
    "a = set()\n",
    "for el in lista:\n",
    "    a.add(el)\n",
    "print(a)"
   ]
  },
  {
   "cell_type": "code",
   "execution_count": 550,
   "metadata": {},
   "outputs": [
    {
     "name": "stdout",
     "output_type": "stream",
     "text": [
      "{'911', '335', 'ForFour', 'Ypsilon', 'Tarraco', 'Polo', 'Fabia', 'M850', 'Hilux', 'Ranger', 'Getz', 'S 550', 'GLE 300', 'Primera', 'X5', 'S 350', 'T3 Kombi', 'Seicento', 'Touareg', 'Series 5 (Svi)', 'Giulia', 'Discovery', 'Micra', 'E 350', 'G 500', 'Taigo', 'Zafira Life', 'GLE 63 AMG', 'A8', 'Tiguan', 'Puma', '353', 'Karoq', 'Defender', 'S 63 AMG', 'Koleos', 'S-Type', 'A7', 'SL 280', 'A3', 'Note', 'X-Trail', 'Toledo', 'M8', 'ML 250', 'DS7 Crossback', 'Laguna', 'Panamera', 'RAM', 'SQ8', 'Tigra', '530 Gran Turismo', 'S 560', 'V60 Cross Country', 'Vento', 'Palio', 'Range Rover Sport', 'M550', 'E 220', 'Swift', 'T6 Multivan', 'V 220', 'Ka / Ka+', 'GLC 250 Coupe', 'Cayenne', 'Vel Satis', 'A 160', 'Tipo', 'Levante', 'Zastava 101', 'GLS 400', 'Matiz', 'Escort', 'Zafira', 'Trafic', 'Kodiaq', '607', 'Sirion', 'EQV', 'Macan', 'M3', 'GLE 350 coupe', 'DS7', 'Urus', 'Courier', 'F 350', 'B7', '626', 'Alfa 146', '3008', '525', 'GLE 400 Coupe', 'Tiguan Allspace', 'Land Cruiser', 'Touran', 'X7', 'A 140', 'Range Rover Evoque', 'R 5', 'Stilo', 'Cabriolet', 'C-HR', 'Superb', 'GLC 350', 'Highlander', '1200', 'M5', 'Sprinter', 'S60', 'GL 55 AMG', 'Octavia', 'Corolla Cross', 'Punto', 'Crafter', '300', 'i8', 'S 580', 'Mustang', 'S7', 'Boxster', 'Caddy', 'Compass', 'E 63 AMG', 'R8', 'Q3', 'GLE 250', '126', 'E 200', 'Partner', '206', '306', 'V 250', '316', 'RS6', 'A 35 AMG', 'CX-60', 'Stelvio', 'Bravo', 'GLC 43 AMG', '330', 'E 43 AMG', 'Civic', 'T7 Multivan', 'Corolla', 'C6', 'Brava', 'Ducato', 'Meriva', 'E 300', 'G 320', 'Discovery Sport', 'C 240', 'AMG GT R', 'Multipla', 'Wrangler', 'XC40', 'Alto', 'Fiesta', 'Grandland X', 'Sharan', 'Twingo', 'Range Rover', 'CLA 180', '750', 'C5 Aircross', '630', 'Marea', 'RSQ3', 'CLA 45 AMG', 'X5 M50', 'GLC 300', 'AMG GT', 'LS 500', '640', 'Alfa 156', 'GLC 63 AMG', 'CLC 220', 'Cargo', 'Megane', 'Drugi', 'V 300', 'A 170', 'Cayenne Coupe', 'Ibiza', 'Patrol', '991', 'Almera', 'GLC 200', '320', 'GLB 200', 'S90', 'Continental GT', 'Atos', '420 Gran Coupe', 'Elantra', 'CLA 220', 'Amarok', '5008', 'Arteon', 'B 180', 'Jetta', 'Grand Scenic', 'A 45 AMG', 'Legacy', 'T6 Kombi', '25', '205', 'C 180', 'Lacetti', 'Felicia', 'RSQ8', 'XC 90', 'S 450', 'Astra', 'Vito', 'Xsara', 'GLS 350', 'Sorento', '540', 'Pride', 'A6', 'GLB 220', 'DS4', 'Passat', '45', 'Justy', 'Galaxy', 'T-Roc', 'Yugo Koral', 'Impreza', 'X3', 'Neon', '640 Gran Coupe', 'Tonale', 'CLC 250', 'Campagnola', 'S 400', 'FX', 'CLS 400', 'A 180', 'X4', 'GLE 350', 'Alfa 147', 'RX 350', 'F8', 'X7 M50', 'Tucson', 'CLS 63 AMG', 'Kadett', 'Alfa 145', 'Cayman', 'Phedra', 'CLS 300', 'Atlas', 'GL 350', 'Focus', 'GLE 450 Coupe', 'NX 300', 'SQ2', 'Octavia RS', 'XC 60', 'B 200', 'CE 220', 'RS5', 'RS3', '530', 'H 100', 'Quattroporte', 'Bora', '110', 'Staria', 'CX-30', '518', 'Zastava 128', 'A 190', 'Santa Fe', 'Q2', 'M6', 'Xantia', 'SAXO', 'A 200', 'Grand Cherokee', 'H2', '6', 'E 400', 'Mondeo', '760', 'F-Pace', 'GLA 180', 'L200', 'E 250', 'V 200', '740', 'Voyager', 'C 300', 'Lanos', 'Altima', 'MX-5', 'T2', 'X1', 'ZX', 'John Cooper Works', 'GLE 450', 'S6', 'CLS 220', 'S3', 'Range Rover Velar', 'Qashqai', 'G 63 AMG', 'CX-5', 'Kona', 'Rio', '100', 'SLS AMG', 'X6 M', 'Tourneo', 'Challenger', '520', 'ix35', 'CLS 53 AMG', 'CLA 200', 'X6', 'Navigator', 'Sportage', 'GLC 220 Coupe', 'Ascona', 'GLC 250', 'X4 M', 'RAV 4', 'Espace', 'GLA 200', 'Megane Conquest', 'Octavia Scout', '406', 'GLE 400', 'GLA 220', 'Ghibli', 'Alfa 166', 'F 150', '318', 'Cordoba', 'Supra', '106', 'Rocks-e', 'Lancer', 'Corsa', 'T6 Caravelle', 'Ulysse', 'XM', 'C 220', 'Formentor', 'X 250', 'G 350', 'Agila', 'Q7', 'Austral E-Tech', 'A5', 'Tiggo 7 Pro', 'Niva', 'CLS 350', '850', 'Fox', 'Kuga', 'Kangoo', 'S 250', 'Scenic', 'C5', '992', 'A4', 'Berlingo', 'A4 Allroad', '730', 'C 200', 'Sierra', 'Accent', 'D-Max', '4-Runner', 'Lupo', '405', 'GLC 220', '488', '650', 'V40', 'Yaris', 'Ateca', 'Spark', '190', 'SQ5', 'S 300', 'Q8', 'Tiggo 8 Pro', 'SQ7', 'Vectra', 'M4', '107', 'E-Pace', 'Lybra', 'G 400', 'Arosa', 'Q5', '80', 'GLC AMG', 'Santana', 'Clio', '307', 'GLC 350 Coupe', 'SLC 450', 'Golf', '3'}\n"
     ]
    }
   ],
   "source": [
    "lista = df['Model']\n",
    "a = set()\n",
    "for el in lista:\n",
    "    a.add(el)\n",
    "print(a)"
   ]
  },
  {
   "cell_type": "code",
   "execution_count": 551,
   "metadata": {},
   "outputs": [
    {
     "name": "stdout",
     "output_type": "stream",
     "text": [
      "{'Lexus', 'Hyundai', 'Lincoln', 'Toyota', 'Subaru', 'MINI', 'Audi', 'BMW', 'Mercedes-Benz', 'Land Rover', 'Bentley', 'Jeep', 'Peugeot', 'Isuzu', 'Zastava', 'Rover', 'Alpina', 'Fiat', 'Smart', 'Alfa Romeo', 'Lada', 'Cupra', 'Jaguar', 'Dodge', 'Citroen', 'Porsche', 'Lancia', 'Ford', 'Wartburg', 'Kia', 'Daewoo', 'DS automobiles', 'Mazda', 'Nissan', 'Opel', 'Suzuki', 'Mitsubishi', 'Maserati', 'Chrysler', 'Volkswagen', 'Chery', 'Drugi', 'Lamborghini', 'Corvette', 'Hummer', 'Honda', 'Škoda', 'Volvo', 'Renault', 'Chevrolet', 'Seat', 'Ferrari', 'Daihatsu'}\n"
     ]
    }
   ],
   "source": [
    "lista = df['Manufacturer']\n",
    "a = set()\n",
    "for el in lista:\n",
    "    a.add(el)\n",
    "print(a)"
   ]
  },
  {
   "cell_type": "code",
   "execution_count": 552,
   "metadata": {},
   "outputs": [],
   "source": [
    "df = df.drop(columns=['URL'])"
   ]
  },
  {
   "cell_type": "code",
   "execution_count": 553,
   "metadata": {},
   "outputs": [
    {
     "name": "stdout",
     "output_type": "stream",
     "text": [
      "<class 'pandas.core.frame.DataFrame'>\n",
      "RangeIndex: 4250 entries, 0 to 4249\n",
      "Data columns (total 9 columns):\n",
      " #   Column               Non-Null Count  Dtype  \n",
      "---  ------               --------------  -----  \n",
      " 0   Price                4250 non-null   float64\n",
      " 1   Transmission         4250 non-null   int64  \n",
      " 2   Year                 4250 non-null   int64  \n",
      " 3   Motor Strength (KW)  4250 non-null   int64  \n",
      " 4   Mileage              4250 non-null   int64  \n",
      " 5   Engine Capacity      4250 non-null   float64\n",
      " 6   Manufacturer         4250 non-null   object \n",
      " 7   Model                4250 non-null   object \n",
      " 8   Fuel Type            4250 non-null   object \n",
      "dtypes: float64(2), int64(4), object(3)\n",
      "memory usage: 299.0+ KB\n"
     ]
    }
   ],
   "source": [
    "grouped = df.groupby(['Manufacturer', 'Model']).size().reset_index(name='Count')\n",
    "filtered = grouped[grouped['Count'] >= 10]\n",
    "df = pd.merge(df, filtered[['Manufacturer', 'Model']], on=['Manufacturer', 'Model'], how='inner')\n",
    "\n",
    "df.info()"
   ]
  },
  {
   "cell_type": "code",
   "execution_count": 554,
   "metadata": {},
   "outputs": [
    {
     "name": "stdout",
     "output_type": "stream",
     "text": [
      "{'Hyundai', 'Toyota', 'Audi', 'BMW', 'Mercedes-Benz', 'Land Rover', 'Jeep', 'Peugeot', 'Isuzu', 'Zastava', 'Fiat', 'Cupra', 'Alfa Romeo', 'Jaguar', 'Citroen', 'Porsche', 'Ford', 'Kia', 'DS automobiles', 'Mazda', 'Nissan', 'Opel', 'Volkswagen', 'Hummer', 'Škoda', 'Volvo', 'Renault', 'Seat'}\n"
     ]
    }
   ],
   "source": [
    "lista = df['Manufacturer']\n",
    "manufacturers = set()\n",
    "for el in lista:\n",
    "    manufacturers.add(el)\n",
    "print(manufacturers)"
   ]
  },
  {
   "cell_type": "code",
   "execution_count": 555,
   "metadata": {},
   "outputs": [
    {
     "name": "stdout",
     "output_type": "stream",
     "text": [
      "{'Range Rover Velar', 'GLE 400 Coupe', 'Qashqai', 'Land Cruiser', 'CX-5', 'Amarok', 'Range Rover Evoque', 'Polo', 'Arteon', 'Stilo', 'C-HR', 'Ranger', 'Jetta', '520', 'GLC 350', 'CLA 200', 'X6', 'Highlander', 'X5', 'Sportage', 'GLC 220 Coupe', 'S 350', 'Felicia', 'GLC 250', 'M5', 'Touareg', 'RAV 4', 'XC 90', '406', 'Astra', 'GLE 400', 'Xsara', 'Octavia', 'Corolla Cross', 'Punto', 'E 350', 'A6', 'Passat', 'Mustang', 'T-Roc', 'Yugo Koral', 'A8', 'Tiguan', 'Compass', 'X3', 'Q3', 'Karoq', 'S 63 AMG', '206', '306', 'V 250', 'S 400', 'A7', 'CLS 400', 'Corsa', 'A 180', 'X4', 'GLE 350', 'Alfa 147', 'CX-60', 'Tucson', 'Stelvio', 'A3', 'Bravo', 'Kadett', 'C 220', 'Formentor', 'G 350', 'Q7', 'A5', 'DS7 Crossback', 'Focus', 'Laguna', 'CLS 350', 'Panamera', 'SQ8', 'XC 60', 'Scenic', 'Range Rover Sport', 'Wrangler', 'A4', 'XC40', 'E 220', '530', '730', 'Fiesta', 'Accent', 'Twingo', 'D-Max', 'GLC 250 Coupe', 'GLC 220', 'Range Rover', 'Cayenne', 'CX-30', 'SQ5', 'Q8', 'SQ7', 'Vectra', 'SAXO', 'M4', 'H2', 'Kodiaq', 'Mondeo', 'Q5', 'F-Pace', 'GLC 300', '740', 'Macan', '80', 'Alfa 156', 'GLE 350 coupe', 'Clio', '307', 'GLC 350 Coupe', 'Megane', 'A 170', 'Golf', 'Ibiza', 'S6', '320', 'S3', 'S90'}\n"
     ]
    }
   ],
   "source": [
    "lista = df['Model']\n",
    "models = set()\n",
    "for el in lista:\n",
    "    models.add(el)\n",
    "print(models)"
   ]
  },
  {
   "cell_type": "code",
   "execution_count": 556,
   "metadata": {},
   "outputs": [
    {
     "name": "stdout",
     "output_type": "stream",
     "text": [
      "0       Volkswagen\n",
      "1             Opel\n",
      "2             Opel\n",
      "3             Ford\n",
      "4       Volkswagen\n",
      "           ...    \n",
      "4245    Land Rover\n",
      "4246       Porsche\n",
      "4247       Porsche\n",
      "4248          Audi\n",
      "4249          Audi\n",
      "Name: Manufacturer, Length: 4250, dtype: object\n"
     ]
    }
   ],
   "source": [
    "print(df['Manufacturer'])"
   ]
  },
  {
   "cell_type": "code",
   "execution_count": 557,
   "metadata": {},
   "outputs": [
    {
     "name": "stdout",
     "output_type": "stream",
     "text": [
      "(4250, 160)\n",
      "(4250, 169)\n"
     ]
    }
   ],
   "source": [
    "df_copy = df.copy()\n",
    "df= pd.get_dummies(df, columns=['Model', 'Manufacturer', 'Fuel Type'])\n",
    "print(df.shape)\n",
    "df = pd.concat([df, df_copy], axis=1, join='outer')\n",
    "print(df.shape)"
   ]
  },
  {
   "cell_type": "code",
   "execution_count": 558,
   "metadata": {},
   "outputs": [
    {
     "name": "stdout",
     "output_type": "stream",
     "text": [
      "(4250, 163)\n"
     ]
    }
   ],
   "source": [
    "df = df.loc[:,~df.columns.duplicated()].copy()\n",
    "print(df.shape)"
   ]
  },
  {
   "cell_type": "code",
   "execution_count": 559,
   "metadata": {},
   "outputs": [
    {
     "name": "stdout",
     "output_type": "stream",
     "text": [
      "0       Volkswagen\n",
      "1             Opel\n",
      "2             Opel\n",
      "3             Ford\n",
      "4       Volkswagen\n",
      "           ...    \n",
      "4245    Land Rover\n",
      "4246       Porsche\n",
      "4247       Porsche\n",
      "4248          Audi\n",
      "4249          Audi\n",
      "Name: Manufacturer, Length: 4250, dtype: object\n"
     ]
    }
   ],
   "source": [
    "print(df['Manufacturer'])"
   ]
  },
  {
   "cell_type": "code",
   "execution_count": 560,
   "metadata": {},
   "outputs": [],
   "source": [
    "from sklearn.model_selection import train_test_split\n",
    "df_train = pd.DataFrame()\n",
    "df_test = pd.DataFrame()\n",
    "\n",
    "for model in models:\n",
    "    for manufacturer in manufacturers:\n",
    "        model_manufacturer_pairs = df[(df['Manufacturer'] == manufacturer) & (df['Model'] == model)]\n",
    "        if(len(model_manufacturer_pairs) != 0):\n",
    "            train_pairs, test_pairs = train_test_split(model_manufacturer_pairs, test_size=0.2, random_state=12)\n",
    "\n",
    "            df_train = pd.concat([df_train, train_pairs])\n",
    "            df_test = pd.concat([df_test, test_pairs])\n",
    "\n",
    "\n"
   ]
  },
  {
   "cell_type": "code",
   "execution_count": 561,
   "metadata": {},
   "outputs": [
    {
     "name": "stdout",
     "output_type": "stream",
     "text": [
      "(3354, 163) (896, 163)\n"
     ]
    }
   ],
   "source": [
    "print(df_train.shape, df_test.shape)"
   ]
  },
  {
   "cell_type": "code",
   "execution_count": 562,
   "metadata": {},
   "outputs": [],
   "source": [
    "df_train = df_train.drop(columns=[\"Manufacturer\", \"Model\", \"Fuel Type\"])\n",
    "df_test = df_test.drop(columns=[\"Manufacturer\", \"Model\", \"Fuel Type\"])"
   ]
  },
  {
   "cell_type": "code",
   "execution_count": 563,
   "metadata": {},
   "outputs": [
    {
     "data": {
      "text/plain": [
       "(3354, 160)"
      ]
     },
     "execution_count": 563,
     "metadata": {},
     "output_type": "execute_result"
    }
   ],
   "source": [
    "df_train.shape"
   ]
  },
  {
   "cell_type": "code",
   "execution_count": 564,
   "metadata": {},
   "outputs": [
    {
     "data": {
      "text/plain": [
       "(896, 160)"
      ]
     },
     "execution_count": 564,
     "metadata": {},
     "output_type": "execute_result"
    }
   ],
   "source": [
    "df_test.shape"
   ]
  },
  {
   "cell_type": "code",
   "execution_count": 565,
   "metadata": {},
   "outputs": [],
   "source": [
    "df_train = df_train.dropna()\n",
    "df_test = df_test.dropna()"
   ]
  },
  {
   "cell_type": "code",
   "execution_count": 567,
   "metadata": {},
   "outputs": [
    {
     "name": "stdout",
     "output_type": "stream",
     "text": [
      "Transformed df_train:\n",
      "         Price  Transmission      Year  Motor Strength (KW)   Mileage  \\\n",
      "3220  0.189189           1.0  0.942857             0.258528  0.151000   \n",
      "2996  0.176176           1.0  0.942857             0.177738  0.134000   \n",
      "2647  0.156757           1.0  0.914286             0.177738  0.115000   \n",
      "3504  0.219199           1.0  0.942857             0.258528  0.097653   \n",
      "2946  0.170971           1.0  0.928571             0.258528  0.096125   \n",
      "\n",
      "      Engine Capacity  Model_206  Model_306  Model_307  Model_320  ...  \\\n",
      "3220         0.215686      False      False      False      False  ...   \n",
      "2996         0.215686      False      False      False      False  ...   \n",
      "2647         0.215686      False      False      False      False  ...   \n",
      "3504         0.215686      False      False      False      False  ...   \n",
      "2946         0.215686      False      False      False      False  ...   \n",
      "\n",
      "      Manufacturer_Seat  Manufacturer_Toyota  Manufacturer_Volkswagen  \\\n",
      "3220              False                False                    False   \n",
      "2996              False                False                    False   \n",
      "2647              False                False                    False   \n",
      "3504              False                False                    False   \n",
      "2946              False                False                    False   \n",
      "\n",
      "      Manufacturer_Volvo  Manufacturer_Zastava  Manufacturer_Škoda  \\\n",
      "3220               False                 False               False   \n",
      "2996               False                 False               False   \n",
      "2647               False                 False               False   \n",
      "3504               False                 False               False   \n",
      "2946               False                 False               False   \n",
      "\n",
      "      Fuel Type_Benzin  Fuel Type_Dizel  Fuel Type_Hibrid  Fuel Type_Plin  \n",
      "3220             False             True             False           False  \n",
      "2996             False             True             False           False  \n",
      "2647             False             True             False           False  \n",
      "3504             False             True             False           False  \n",
      "2946             False             True             False           False  \n",
      "\n",
      "[5 rows x 160 columns]\n",
      "\n",
      "Transformed df_test:\n",
      "         Price  Transmission      Year  Motor Strength (KW)   Mileage  \\\n",
      "3304  0.197177           1.0  0.942857             0.258528  0.110587   \n",
      "3373  0.199197           1.0  0.914286             0.258528  0.133010   \n",
      "3371  0.199197           1.0  0.914286             0.258528  0.133010   \n",
      "3436  0.209209           1.0  0.928571             0.337522  0.100300   \n",
      "3197  0.189189           1.0  0.942857             0.258528  0.151000   \n",
      "\n",
      "      Engine Capacity  Model_206  Model_306  Model_307  Model_320  ...  \\\n",
      "3304         0.215686      False      False      False      False  ...   \n",
      "3373         0.215686      False      False      False      False  ...   \n",
      "3371         0.215686      False      False      False      False  ...   \n",
      "3436         0.411765      False      False      False      False  ...   \n",
      "3197         0.215686      False      False      False      False  ...   \n",
      "\n",
      "      Manufacturer_Seat  Manufacturer_Toyota  Manufacturer_Volkswagen  \\\n",
      "3304              False                False                    False   \n",
      "3373              False                False                    False   \n",
      "3371              False                False                    False   \n",
      "3436              False                False                    False   \n",
      "3197              False                False                    False   \n",
      "\n",
      "      Manufacturer_Volvo  Manufacturer_Zastava  Manufacturer_Škoda  \\\n",
      "3304               False                 False               False   \n",
      "3373               False                 False               False   \n",
      "3371               False                 False               False   \n",
      "3436               False                 False               False   \n",
      "3197               False                 False               False   \n",
      "\n",
      "      Fuel Type_Benzin  Fuel Type_Dizel  Fuel Type_Hibrid  Fuel Type_Plin  \n",
      "3304             False             True             False           False  \n",
      "3373             False             True             False           False  \n",
      "3371             False             True             False           False  \n",
      "3436             False             True             False           False  \n",
      "3197             False             True             False           False  \n",
      "\n",
      "[5 rows x 160 columns]\n"
     ]
    }
   ],
   "source": [
    "from sklearn.preprocessing import MinMaxScaler\n",
    "\n",
    "non_bool_columns = df_train.select_dtypes(include=['int64', 'float64']).columns\n",
    "\n",
    "scaler = MinMaxScaler()\n",
    "\n",
    "scaler.fit(df_train[non_bool_columns])\n",
    "\n",
    "df_train[non_bool_columns] = scaler.transform(df_train[non_bool_columns])\n",
    "df_test[non_bool_columns] = scaler.transform(df_test[non_bool_columns])\n",
    "\n",
    "print(\"Transformed df_train:\")\n",
    "print(df_train.head())\n",
    "\n",
    "print(\"\\nTransformed df_test:\")\n",
    "print(df_test.head())\n"
   ]
  },
  {
   "cell_type": "code",
   "execution_count": 568,
   "metadata": {},
   "outputs": [
    {
     "name": "stdout",
     "output_type": "stream",
     "text": [
      "(3354, 159) (896, 159)\n"
     ]
    },
    {
     "name": "stderr",
     "output_type": "stream",
     "text": [
      "/home/emin/Desktop/EmaMasinskoProjekat/.venv/lib/python3.10/site-packages/keras/src/layers/core/dense.py:87: UserWarning: Do not pass an `input_shape`/`input_dim` argument to a layer. When using Sequential models, prefer using an `Input(shape)` object as the first layer in the model instead.\n",
      "  super().__init__(activity_regularizer=activity_regularizer, **kwargs)\n"
     ]
    }
   ],
   "source": [
    "import numpy as np\n",
    "import pandas as pd\n",
    "import matplotlib.pyplot as plt\n",
    "from keras.models import Sequential\n",
    "from keras.layers import Dense\n",
    "from keras.optimizers import Adam\n",
    "\n",
    "\n",
    "X_train = df_train.drop(columns=['Price'])  \n",
    "y_train = df_train['Price']\n",
    "X_test = df_test.drop(columns=['Price'])\n",
    "y_test = df_test['Price']\n",
    "\n",
    "print(X_train.shape, X_test.shape)\n",
    "\n",
    "\n",
    "model = Sequential([\n",
    "    Dense(64, input_shape=(X_train.shape[1],), activation='relu'),\n",
    "    Dense(32, activation='relu'),\n",
    "    Dense(1)  # Output layer for regression\n",
    "])\n",
    "\n",
    "model.compile(optimizer=Adam(learning_rate=0.001), loss='mae')"
   ]
  },
  {
   "cell_type": "code",
   "execution_count": 569,
   "metadata": {},
   "outputs": [
    {
     "name": "stdout",
     "output_type": "stream",
     "text": [
      "Epoch 1/10\n",
      "\u001b[1m84/84\u001b[0m \u001b[32m━━━━━━━━━━━━━━━━━━━━\u001b[0m\u001b[37m\u001b[0m \u001b[1m0s\u001b[0m 1ms/step - loss: 0.0841 - val_loss: 0.0467\n",
      "Epoch 2/10\n",
      "\u001b[1m84/84\u001b[0m \u001b[32m━━━━━━━━━━━━━━━━━━━━\u001b[0m\u001b[37m\u001b[0m \u001b[1m0s\u001b[0m 525us/step - loss: 0.0339 - val_loss: 0.0496\n",
      "Epoch 3/10\n",
      "\u001b[1m84/84\u001b[0m \u001b[32m━━━━━━━━━━━━━━━━━━━━\u001b[0m\u001b[37m\u001b[0m \u001b[1m0s\u001b[0m 518us/step - loss: 0.0302 - val_loss: 0.0482\n",
      "Epoch 4/10\n",
      "\u001b[1m84/84\u001b[0m \u001b[32m━━━━━━━━━━━━━━━━━━━━\u001b[0m\u001b[37m\u001b[0m \u001b[1m0s\u001b[0m 532us/step - loss: 0.0276 - val_loss: 0.0471\n",
      "Epoch 5/10\n",
      "\u001b[1m84/84\u001b[0m \u001b[32m━━━━━━━━━━━━━━━━━━━━\u001b[0m\u001b[37m\u001b[0m \u001b[1m0s\u001b[0m 559us/step - loss: 0.0288 - val_loss: 0.0443\n",
      "Epoch 6/10\n",
      "\u001b[1m84/84\u001b[0m \u001b[32m━━━━━━━━━━━━━━━━━━━━\u001b[0m\u001b[37m\u001b[0m \u001b[1m0s\u001b[0m 481us/step - loss: 0.0273 - val_loss: 0.0497\n",
      "Epoch 7/10\n",
      "\u001b[1m84/84\u001b[0m \u001b[32m━━━━━━━━━━━━━━━━━━━━\u001b[0m\u001b[37m\u001b[0m \u001b[1m0s\u001b[0m 542us/step - loss: 0.0278 - val_loss: 0.0458\n",
      "Epoch 8/10\n",
      "\u001b[1m84/84\u001b[0m \u001b[32m━━━━━━━━━━━━━━━━━━━━\u001b[0m\u001b[37m\u001b[0m \u001b[1m0s\u001b[0m 495us/step - loss: 0.0242 - val_loss: 0.0502\n",
      "Epoch 9/10\n",
      "\u001b[1m84/84\u001b[0m \u001b[32m━━━━━━━━━━━━━━━━━━━━\u001b[0m\u001b[37m\u001b[0m \u001b[1m0s\u001b[0m 528us/step - loss: 0.0253 - val_loss: 0.0486\n",
      "Epoch 10/10\n",
      "\u001b[1m84/84\u001b[0m \u001b[32m━━━━━━━━━━━━━━━━━━━━\u001b[0m\u001b[37m\u001b[0m \u001b[1m0s\u001b[0m 473us/step - loss: 0.0251 - val_loss: 0.0483\n",
      "\u001b[1m28/28\u001b[0m \u001b[32m━━━━━━━━━━━━━━━━━━━━\u001b[0m\u001b[37m\u001b[0m \u001b[1m0s\u001b[0m 253us/step\n"
     ]
    }
   ],
   "source": [
    "history = model.fit(X_train, y_train, validation_split=0.2, epochs=10, batch_size=32, verbose=1)\n",
    "y_pred = model.predict(X_test)"
   ]
  },
  {
   "cell_type": "code",
   "execution_count": 483,
   "metadata": {},
   "outputs": [
    {
     "data": {
      "image/png": "[encoded data removed]",
      "text/plain": [
       "<Figure size 1200x600 with 1 Axes>"
      ]
     },
     "metadata": {},
     "output_type": "display_data"
    }
   ],
   "source": [
    "plt.figure(figsize=(12, 6))\n",
    "plt.subplot(1, 2, 1)\n",
    "plt.plot(history.history['loss'], label='Training Loss')\n",
    "plt.plot(history.history['val_loss'], label='Validation Loss')\n",
    "plt.title('Training and Validation Loss')\n",
    "plt.xlabel('Epochs')\n",
    "plt.ylabel('Loss')\n",
    "plt.legend()\n",
    "plt.tight_layout()\n",
    "plt.show()"
   ]
  },
  {
   "cell_type": "code",
   "execution_count": 484,
   "metadata": {},
   "outputs": [
    {
     "name": "stdout",
     "output_type": "stream",
     "text": [
      "\u001b[1m28/28\u001b[0m \u001b[32m━━━━━━━━━━━━━━━━━━━━\u001b[0m\u001b[37m\u001b[0m \u001b[1m0s\u001b[0m 310us/step - loss: 0.0216\n",
      "Test Loss: 0.0245\n"
     ]
    }
   ],
   "source": [
    "test_loss = model.evaluate(X_test, y_test, verbose=1)\n",
    "print(f\"Test Loss: {test_loss:.4f}\")"
   ]
  },
  {
   "cell_type": "code",
   "execution_count": 570,
   "metadata": {},
   "outputs": [
    {
     "name": "stdout",
     "output_type": "stream",
     "text": [
      "3304    0.197177\n",
      "3373    0.199197\n",
      "3371    0.199197\n",
      "3436    0.209209\n",
      "3197    0.189189\n",
      "          ...   \n",
      "3056    0.178979\n",
      "3066    0.178979\n",
      "3541    0.225499\n",
      "1973    0.135115\n",
      "3958    0.299259\n",
      "Name: Price, Length: 896, dtype: float64\n"
     ]
    }
   ],
   "source": [
    "print(df_test[\"Price\"])"
   ]
  },
  {
   "cell_type": "code",
   "execution_count": 572,
   "metadata": {},
   "outputs": [
    {
     "name": "stdout",
     "output_type": "stream",
     "text": [
      "Mean Absolute Error: 0.028401642277740915\n"
     ]
    }
   ],
   "source": [
    "import numpy as np\n",
    "import matplotlib.pyplot as plt\n",
    "from sklearn.linear_model import LinearRegression\n",
    "from sklearn.metrics import mean_absolute_error\n",
    "\n",
    "# Create linear regression object\n",
    "model = LinearRegression()\n",
    "\n",
    "# Train the model using the training sets\n",
    "model.fit(X_train, y_train)\n",
    "\n",
    "y_pred = model.predict(X_test)\n",
    "\n",
    "mae = mean_absolute_error(y_test, y_pred)\n",
    "print(f\"Mean Absolute Error: {mae}\")"
   ]
  },
  {
   "cell_type": "code",
   "execution_count": null,
   "metadata": {},
   "outputs": [],
   "source": []
  }
 ],
 "metadata": {
  "kernelspec": {
   "display_name": ".venv",
   "language": "python",
   "name": "python3"
  },
  "language_info": {
   "codemirror_mode": {
    "name": "ipython",
    "version": 3
   },
   "file_extension": ".py",
   "mimetype": "text/x-python",
   "name": "python",
   "nbconvert_exporter": "python",
   "pygments_lexer": "ipython3",
   "version": "3.10.12"
  }
 },
 "nbformat": 4,
 "nbformat_minor": 2
}
