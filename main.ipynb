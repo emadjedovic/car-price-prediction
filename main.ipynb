{
 "cells": [
  {
   "cell_type": "code",
   "execution_count": 3,
   "metadata": {},
   "outputs": [
    {
     "name": "stdout",
     "output_type": "stream",
     "text": [
      "['https://olx.ba/pretraga?attr=&attr_encoded=1&category_id=18&page=1&price_to=1001&price_from=1', 'https://olx.ba/pretraga?attr=&attr_encoded=1&category_id=18&page=2&price_to=1001&price_from=1', 'https://olx.ba/pretraga?attr=&attr_encoded=1&category_id=18&page=3&price_to=1001&price_from=1', 'https://olx.ba/pretraga?attr=&attr_encoded=1&category_id=18&page=4&price_to=1001&price_from=1', 'https://olx.ba/pretraga?attr=&attr_encoded=1&category_id=18&page=5&price_to=1001&price_from=1']\n"
     ]
    }
   ],
   "source": [
    "# Generate a list of links to 51 OLX pages containing cars\n",
    "def get_page_urls():\n",
    "    price_lo = 0\n",
    "    page_urls = []\n",
    "    for price_lo in range(1, 59000, 1000):\n",
    "        for page in range(1, 51):\n",
    "            page_urls.append(f\"https://olx.ba/pretraga?attr=&attr_encoded=1&category_id=18&page={page}&price_to={price_lo + 1000}&price_from={price_lo}\")\n",
    "        for page in range(1, 51):\n",
    "             page_urls.append(f\"https://olx.ba/pretraga?attr=&attr_encoded=1&category_id=18&page={page}&price_from=59000\")\n",
    "    return page_urls\n",
    "\n",
    "page_urls = get_page_urls()\n",
    "print(page_urls[:5])"
   ]
  },
  {
   "cell_type": "code",
   "execution_count": 4,
   "metadata": {},
   "outputs": [
    {
     "name": "stdout",
     "output_type": "stream",
     "text": [
      "5900\n"
     ]
    }
   ],
   "source": [
    "# The number of pages containing cars (40 of them?)\n",
    "print(len(page_urls))"
   ]
  },
  {
   "cell_type": "markdown",
   "metadata": {},
   "source": [
    "### WEB SCRAPING"
   ]
  },
  {
   "cell_type": "code",
   "execution_count": 5,
   "metadata": {},
   "outputs": [
    {
     "name": "stderr",
     "output_type": "stream",
     "text": [
      "100%|██████████| 100/100 [16:45<00:00, 10.05s/it]\n"
     ]
    },
    {
     "name": "stdout",
     "output_type": "stream",
     "text": [
      "Finished processing all links.\n"
     ]
    }
   ],
   "source": [
    "from selenium import webdriver\n",
    "from selenium.webdriver.common.by import By\n",
    "from selenium.webdriver.support.ui import WebDriverWait\n",
    "from selenium.webdriver.support import expected_conditions as EC\n",
    "import time\n",
    "from tqdm import tqdm\n",
    "\n",
    "# Boilerplate\n",
    "firefox_options = webdriver.FirefoxOptions()\n",
    "firefox_options.add_argument(\"--headless\") \n",
    "driver = webdriver.Firefox(options=firefox_options)\n",
    "\n",
    "# Define the batch number for processing links\n",
    "batch_num = 2\n",
    "\n",
    "# Define the file path to save urls to each car-article\n",
    "article_urls_file_path = 'article_urls.txt'\n",
    "\n",
    "# Iterate over each link and extract data\n",
    "for page_url in tqdm(page_urls[100*(batch_num - 1):100*batch_num], total=len(page_urls[100*(batch_num - 1):100*batch_num])):\n",
    "    page_url = page_url.strip()  # Remove any leading/trailing whitespace\n",
    "    if not page_url:\n",
    "        continue  # Skip empty lines\n",
    "\n",
    "    try:\n",
    "        # Open the URL\n",
    "        driver.get(page_url)\n",
    "        \n",
    "        # Wait for the page to fully load\n",
    "        WebDriverWait(driver, 10).until(EC.presence_of_element_located((By.TAG_NAME, \"body\")))\n",
    "        \n",
    "        # Give some extra time for JavaScript to execute\n",
    "        time.sleep(2)\n",
    "\n",
    "        a_tags = driver.find_elements(By.XPATH, \"//a[contains(@href, '/artikal/')]\")\n",
    "\n",
    "        # Extract the href attribute and store in a list\n",
    "        href_urls = [a_tag.get_attribute('href') for a_tag in a_tags]\n",
    "        with open(article_urls_file_path, 'a') as file:\n",
    "            for temp in href_urls:\n",
    "                file.write(temp + \"\\n\")\n",
    "        \n",
    "    except Exception as e:\n",
    "        print(f\"Failed to retrieve {page_url}: {e}\")\n",
    "\n",
    "# Quit the WebDriver session\n",
    "driver.quit()\n",
    "\n",
    "print(\"Finished processing all links.\")\n"
   ]
  },
  {
   "cell_type": "markdown",
   "metadata": {},
   "source": [
    "### CREATING A CSV FILE (EXPORTING CAR DATA)"
   ]
  },
  {
   "cell_type": "code",
   "execution_count": 2,
   "metadata": {},
   "outputs": [
    {
     "name": "stderr",
     "output_type": "stream",
     "text": [
      " 17%|█▋        | 463/2722 [58:59<251:45:23, 401.21s/it]"
     ]
    },
    {
     "name": "stdout",
     "output_type": "stream",
     "text": [
      "Failed to retrieve https://olx.ba/artikal/61737772: Message: Navigation timed out after 300000 ms\n",
      "Stacktrace:\n",
      "RemoteError@chrome://remote/content/shared/RemoteError.sys.mjs:8:8\n",
      "WebDriverError@chrome://remote/content/shared/webdriver/Errors.sys.mjs:193:5\n",
      "TimeoutError@chrome://remote/content/shared/webdriver/Errors.sys.mjs:740:5\n",
      "bail@chrome://remote/content/marionette/sync.sys.mjs:211:19\n",
      "\n"
     ]
    },
    {
     "name": "stderr",
     "output_type": "stream",
     "text": [
      " 19%|█▉        | 523/2722 [1:03:58<4:28:59,  7.34s/it] \n"
     ]
    },
    {
     "ename": "KeyboardInterrupt",
     "evalue": "",
     "output_type": "error",
     "traceback": [
      "\u001b[1;31m---------------------------------------------------------------------------\u001b[0m",
      "\u001b[1;31mKeyboardInterrupt\u001b[0m                         Traceback (most recent call last)",
      "Cell \u001b[1;32mIn[2], line 49\u001b[0m\n\u001b[0;32m     46\u001b[0m WebDriverWait(driver, \u001b[38;5;241m10\u001b[39m)\u001b[38;5;241m.\u001b[39muntil(EC\u001b[38;5;241m.\u001b[39mpresence_of_element_located((By\u001b[38;5;241m.\u001b[39mTAG_NAME, \u001b[38;5;124m\"\u001b[39m\u001b[38;5;124mbody\u001b[39m\u001b[38;5;124m\"\u001b[39m)))\n\u001b[0;32m     48\u001b[0m \u001b[38;5;66;03m# Give some extra time for JavaScript to execute (adjust if necessary)\u001b[39;00m\n\u001b[1;32m---> 49\u001b[0m \u001b[43mtime\u001b[49m\u001b[38;5;241;43m.\u001b[39;49m\u001b[43msleep\u001b[49m\u001b[43m(\u001b[49m\u001b[38;5;241;43m2\u001b[39;49m\u001b[43m)\u001b[49m\n\u001b[0;32m     51\u001b[0m \u001b[38;5;66;03m# Extract the required information\u001b[39;00m\n\u001b[0;32m     52\u001b[0m \u001b[38;5;28;01mtry\u001b[39;00m:\n\u001b[0;32m     53\u001b[0m     \u001b[38;5;66;03m# Extract Price\u001b[39;00m\n",
      "\u001b[1;31mKeyboardInterrupt\u001b[0m: "
     ]
    }
   ],
   "source": [
    "import csv\n",
    "from selenium import webdriver\n",
    "from selenium.webdriver.common.by import By\n",
    "from selenium.webdriver.support.ui import WebDriverWait\n",
    "from selenium.webdriver.support import expected_conditions as EC\n",
    "import time\n",
    "from tqdm import tqdm\n",
    "\n",
    "# Boilerplate\n",
    "firefox_options = webdriver.FirefoxOptions()\n",
    "firefox_options.add_argument(\"--headless\")\n",
    "driver = webdriver.Firefox(options=firefox_options)\n",
    "\n",
    "# Define the input file path (of car articles)\n",
    "input_file_path = \"article_urls.txt\"\n",
    "\n",
    "# Define the output CSV file path\n",
    "output_file_path = 'car_data_new.csv'\n",
    "\n",
    "# Open the input file and read all lines\n",
    "with open(input_file_path, 'r') as file:\n",
    "    urls = file.readlines()\n",
    "\n",
    "# Define headers for the CSV file\n",
    "headers = [\"URL\", \"Price\", \"Transmission\", \"Year\", \"Motor Strength (KW)\", \"Mileage\", \"Engine Capacity\", \"Manufacturer\", \"Model\", \"Fuel Type\"]\n",
    "\n",
    "# Open the CSV file for writing\n",
    "with open(output_file_path, 'a', newline='', encoding='utf-8') as csvfile:\n",
    "    # Create a CSV writer object\n",
    "    csvwriter = csv.writer(csvfile)\n",
    "    \n",
    "    # Write the headers to the CSV file\n",
    "    csvwriter.writerow(headers)\n",
    "\n",
    "    # Iterate over each link and extract data\n",
    "    for url in tqdm(urls, total=len(urls)):\n",
    "        url = url.strip()  # Remove any leading/trailing whitespace\n",
    "        if not url:\n",
    "            continue  # Skip empty lines\n",
    "\n",
    "        try:\n",
    "            # Open the URL\n",
    "            driver.get(url)\n",
    "            \n",
    "            # Wait for the page to fully load\n",
    "            WebDriverWait(driver, 10).until(EC.presence_of_element_located((By.TAG_NAME, \"body\")))\n",
    "            \n",
    "            # Give some extra time for JavaScript to execute (adjust if necessary)\n",
    "            time.sleep(2)\n",
    "\n",
    "            # Extract the required information\n",
    "            try:\n",
    "                # Extract Price\n",
    "                price_element = driver.find_element(By.CSS_SELECTOR, \"span.price-heading.vat\")\n",
    "                price = price_element.text\n",
    "            except:\n",
    "                price = \"N/A\"\n",
    "            \n",
    "            try:\n",
    "                # Extract Transmission\n",
    "                transmission_element = driver.find_element(By.XPATH, \"//td[text()='Transmisija']/following-sibling::td\")\n",
    "                transmission = transmission_element.text.strip()\n",
    "            except:\n",
    "                transmission = \"N/A\"\n",
    "            \n",
    "            try:\n",
    "                # Extract Year\n",
    "                year_element = driver.find_element(By.XPATH, \"//td[text()='Godište']/following-sibling::td\")\n",
    "                year = year_element.text.strip()\n",
    "            except:\n",
    "                year = \"N/A\"\n",
    "            \n",
    "            try:\n",
    "                # Extract Motor Strength\n",
    "                motor_strength_element = driver.find_element(By.XPATH, \"//td[text()='Snaga motora (KW)']/following-sibling::td\")\n",
    "                motor_strength = motor_strength_element.text.strip()\n",
    "            except:\n",
    "                motor_strength = \"N/A\"\n",
    "\n",
    "            try:\n",
    "                # Extract Mileage\n",
    "                mileage_element = driver.find_element(By.XPATH, \"//td[text()='Kilometraža']/following-sibling::td\")\n",
    "                mileage = mileage_element.text.strip()\n",
    "            except:\n",
    "                mileage = \"N/A\"\n",
    "\n",
    "            try:\n",
    "                # Extract Engine Capacity\n",
    "                engine_capacity_element = driver.find_element(By.XPATH, \"//td[text()='Kubikaža']/following-sibling::td\")\n",
    "                engine_capacity = engine_capacity_element.text.strip()\n",
    "            except:\n",
    "                engine_capacity = \"N/A\"\n",
    "\n",
    "            try:\n",
    "                # Extract Manufacturer\n",
    "                manufacturer_element = driver.find_element(By.XPATH, \"//td[text()='Proizvođač']/following-sibling::td/a\")\n",
    "                manufacturer = manufacturer_element.text.strip()\n",
    "            except:\n",
    "                manufacturer = \"N/A\"\n",
    "\n",
    "            try:\n",
    "                # Extract Model\n",
    "                model_element = driver.find_element(By.XPATH, \"//td[text()='Model']/following-sibling::td/a\")\n",
    "                model = model_element.text.strip()\n",
    "            except:\n",
    "                model = \"N/A\"\n",
    "\n",
    "            try:\n",
    "                # Extract Fuel Type\n",
    "                fuel_type_element = driver.find_element(By.XPATH, \"//td[text()='Gorivo']/following-sibling::td\")\n",
    "                fuel_type = fuel_type_element.text.strip()\n",
    "            except:\n",
    "                fuel_type = \"N/A\"\n",
    "\n",
    "            if fuel_type == \"N/A\" or model == \"N/A\" or manufacturer == \"N/A\" or price == \"N/A\" or transmission == \"N/A\" or year == \"N/A\" or motor_strength == \"N/A\" or mileage == \"N/A\" or engine_capacity == \"N/A\":\n",
    "                continue\n",
    "            \n",
    "            # Write the extracted information to the CSV file\n",
    "            row = [url, price, transmission, year, motor_strength, mileage, engine_capacity, manufacturer, model, fuel_type]\n",
    "            csvwriter.writerow(row)\n",
    "\n",
    "        except Exception as e:\n",
    "            print(f\"Failed to retrieve {url}: {e}\")\n",
    "\n",
    "# Quit the WebDriver session\n",
    "driver.quit()\n",
    "\n",
    "print(\"Finished processing all links.\")\n"
   ]
  }
 ],
 "metadata": {
  "kernelspec": {
   "display_name": ".venv",
   "language": "python",
   "name": "python3"
  },
  "language_info": {
   "codemirror_mode": {
    "name": "ipython",
    "version": 3
   },
   "file_extension": ".py",
   "mimetype": "text/x-python",
   "name": "python",
   "nbconvert_exporter": "python",
   "pygments_lexer": "ipython3",
   "version": "3.12.2"
  }
 },
 "nbformat": 4,
 "nbformat_minor": 2
}
