{
 "cells": [
  {
   "cell_type": "code",
   "execution_count": 12,
   "metadata": {},
   "outputs": [
    {
     "name": "stdout",
     "output_type": "stream",
     "text": [
      "['https://olx.ba/pretraga?attr=&attr_encoded=1&category_id=18&page=1&price_to=1001&price_from=1', 'https://olx.ba/pretraga?attr=&attr_encoded=1&category_id=18&page=2&price_to=1001&price_from=1', 'https://olx.ba/pretraga?attr=&attr_encoded=1&category_id=18&page=3&price_to=1001&price_from=1', 'https://olx.ba/pretraga?attr=&attr_encoded=1&category_id=18&page=4&price_to=1001&price_from=1', 'https://olx.ba/pretraga?attr=&attr_encoded=1&category_id=18&page=5&price_to=1001&price_from=1']\n"
     ]
    }
   ],
   "source": [
    "def link_generator():\n",
    "    price_lo = 0\n",
    "    help = []\n",
    "    for price_lo in range(1, 59000, 1000):\n",
    "        for page in range(1, 51):\n",
    "            help.append(f\"https://olx.ba/pretraga?attr=&attr_encoded=1&category_id=18&page={page}&price_to={price_lo + 1000}&price_from={price_lo}\")\n",
    "        for page in range(1, 51):\n",
    "             help.append(f\"https://olx.ba/pretraga?attr=&attr_encoded=1&category_id=18&page={page}&price_from=59000\")\n",
    "    return help\n",
    "\n",
    "link_helpers = link_generator()\n",
    "print(link_helpers[:5])"
   ]
  },
  {
   "cell_type": "code",
   "execution_count": 21,
   "metadata": {},
   "outputs": [
    {
     "name": "stdout",
     "output_type": "stream",
     "text": [
      "5900\n"
     ]
    }
   ],
   "source": [
    "print(len(link_helpers))"
   ]
  },
  {
   "cell_type": "code",
   "execution_count": 25,
   "metadata": {},
   "outputs": [
    {
     "name": "stderr",
     "output_type": "stream",
     "text": [
      " 42%|████▏     | 83/200 [06:42<12:07,  6.22s/it]"
     ]
    }
   ],
   "source": [
    "from selenium import webdriver\n",
    "from selenium.webdriver.common.by import By\n",
    "from selenium.webdriver.support.ui import WebDriverWait\n",
    "from selenium.webdriver.support import expected_conditions as EC\n",
    "import time\n",
    "from tqdm import tqdm\n",
    "\n",
    "\n",
    "firefox_options = webdriver.FirefoxOptions()\n",
    "firefox_options.add_argument(\"--headless\") \n",
    "\n",
    "driver = webdriver.Firefox(options=firefox_options)\n",
    "\n",
    "\n",
    "batch_num = 2\n",
    "\n",
    "\n",
    "links_file_path = 'links1.txt'\n",
    "\n",
    "# Define headers for the CSV file\n",
    "\n",
    "\n",
    "# Open the CSV file for writing\n",
    "\n",
    "    # Iterate over each link and extract data\n",
    "for link in tqdm(link_helpers[100*(batch_num - 1):100*batch_num], total=len(link_helpers[100*(batch_num - 1):100*batch_num])):\n",
    "    link = link.strip()  # Remove any leading/trailing whitespace\n",
    "    if not link:\n",
    "        continue  # Skip empty lines\n",
    "\n",
    "    try:\n",
    "        # Open the URL\n",
    "        driver.get(link)\n",
    "        \n",
    "        # Wait for the page to fully load\n",
    "        WebDriverWait(driver, 10).until(EC.presence_of_element_located((By.TAG_NAME, \"body\")))\n",
    "        \n",
    "        # Give some extra time for JavaScript to execute (adjust if necessary)\n",
    "        time.sleep(2)\n",
    "\n",
    "        a_tags = driver.find_elements(By.XPATH, \"//a[contains(@href, '/artikal/')]\")\n",
    "\n",
    "        # Extract the href attribute and store in a list\n",
    "        links = [a_tag.get_attribute('href') for a_tag in a_tags]\n",
    "        with open(links_file_path, 'a') as file:\n",
    "            for temp in links:\n",
    "                file.write(temp + \"\\n\")\n",
    "        \n",
    "    except Exception as e:\n",
    "        print(f\"Failed to retrieve {link}: {e}\")\n",
    "\n",
    "# Quit the WebDriver session\n",
    "driver.quit()\n",
    "\n",
    "print(\"Finished processing all links.\")\n"
   ]
  },
  {
   "cell_type": "code",
   "execution_count": 24,
   "metadata": {},
   "outputs": [
    {
     "name": "stderr",
     "output_type": "stream",
     "text": [
      " 66%|██████▋   | 1409/2122 [1:16:21<19:12:03, 96.95s/it]"
     ]
    },
    {
     "name": "stdout",
     "output_type": "stream",
     "text": [
      "Failed to retrieve https://olx.ba/artikal/56702120: Message: Navigation timed out after 300000 ms\n",
      "Stacktrace:\n",
      "RemoteError@chrome://remote/content/shared/RemoteError.sys.mjs:8:8\n",
      "WebDriverError@chrome://remote/content/shared/webdriver/Errors.sys.mjs:193:5\n",
      "TimeoutError@chrome://remote/content/shared/webdriver/Errors.sys.mjs:740:5\n",
      "bail@chrome://remote/content/marionette/sync.sys.mjs:211:19\n",
      "\n"
     ]
    },
    {
     "name": "stderr",
     "output_type": "stream",
     "text": [
      " 98%|█████████▊| 2075/2122 [1:53:16<1:12:10, 92.14s/it] "
     ]
    },
    {
     "name": "stdout",
     "output_type": "stream",
     "text": [
      "Failed to retrieve https://olx.ba/artikal/54415254: Message: Navigation timed out after 300000 ms\n",
      "Stacktrace:\n",
      "RemoteError@chrome://remote/content/shared/RemoteError.sys.mjs:8:8\n",
      "WebDriverError@chrome://remote/content/shared/webdriver/Errors.sys.mjs:193:5\n",
      "TimeoutError@chrome://remote/content/shared/webdriver/Errors.sys.mjs:740:5\n",
      "bail@chrome://remote/content/marionette/sync.sys.mjs:211:19\n",
      "\n"
     ]
    },
    {
     "name": "stderr",
     "output_type": "stream",
     "text": [
      "100%|██████████| 2122/2122 [1:55:32<00:00,  3.27s/it]  \n"
     ]
    },
    {
     "name": "stdout",
     "output_type": "stream",
     "text": [
      "Finished processing all links.\n"
     ]
    }
   ],
   "source": [
    "import csv\n",
    "from selenium import webdriver\n",
    "from selenium.webdriver.common.by import By\n",
    "from selenium.webdriver.support.ui import WebDriverWait\n",
    "from selenium.webdriver.support import expected_conditions as EC\n",
    "import time\n",
    "from tqdm import tqdm\n",
    "\n",
    "# Set up the Firefox options for headless mode (optional)\n",
    "firefox_options = webdriver.FirefoxOptions()\n",
    "firefox_options.add_argument(\"--headless\")  # Use headless mode for no GUI\n",
    "\n",
    "# Initialize the WebDriver for Firefox using the geckodriver from PATH\n",
    "driver = webdriver.Firefox(options=firefox_options)\n",
    "\n",
    "# Define the input file path\n",
    "input_file_path = links_file_path  # Ensure this file exists with URLs\n",
    "\n",
    "# Define the output CSV file path\n",
    "output_file_path = 'car_data.csv'\n",
    "\n",
    "# Open the input file and read all lines\n",
    "with open(input_file_path, 'r') as file:\n",
    "    links = file.readlines()\n",
    "\n",
    "# Define headers for the CSV file\n",
    "headers = [\"URL\", \"Price\", \"Transmission\", \"Year\", \"Motor Strength (KW)\", \"Mileage\", \"Engine Capacity\", \"Manufacturer\", \"Model\", \"Fuel Type\"]\n",
    "\n",
    "# Open the CSV file for writing\n",
    "with open(output_file_path, 'a', newline='', encoding='utf-8') as csvfile:\n",
    "    # Create a CSV writer object\n",
    "    csvwriter = csv.writer(csvfile)\n",
    "    \n",
    "    # Write the headers to the CSV file\n",
    "    csvwriter.writerow(headers)\n",
    "\n",
    "    # Iterate over each link and extract data\n",
    "    for link in tqdm(links, total=len(links)):\n",
    "        link = link.strip()  # Remove any leading/trailing whitespace\n",
    "        if not link:\n",
    "            continue  # Skip empty lines\n",
    "\n",
    "        try:\n",
    "            # Open the URL\n",
    "            driver.get(link)\n",
    "            \n",
    "            # Wait for the page to fully load\n",
    "            WebDriverWait(driver, 10).until(EC.presence_of_element_located((By.TAG_NAME, \"body\")))\n",
    "            \n",
    "            # Give some extra time for JavaScript to execute (adjust if necessary)\n",
    "            time.sleep(2)\n",
    "\n",
    "            # Extract the required information\n",
    "            try:\n",
    "                # Extract Price\n",
    "                price_element = driver.find_element(By.CSS_SELECTOR, \"span.price-heading.vat\")\n",
    "                price = price_element.text\n",
    "            except:\n",
    "                price = \"N/A\"\n",
    "            \n",
    "            try:\n",
    "                # Extract Transmission\n",
    "                transmission_element = driver.find_element(By.XPATH, \"//td[text()='Transmisija']/following-sibling::td\")\n",
    "                transmission = transmission_element.text.strip()\n",
    "            except:\n",
    "                transmission = \"N/A\"\n",
    "            \n",
    "            try:\n",
    "                # Extract Year\n",
    "                year_element = driver.find_element(By.XPATH, \"//td[text()='Godište']/following-sibling::td\")\n",
    "                year = year_element.text.strip()\n",
    "            except:\n",
    "                year = \"N/A\"\n",
    "            \n",
    "            try:\n",
    "                # Extract Motor Strength\n",
    "                motor_strength_element = driver.find_element(By.XPATH, \"//td[text()='Snaga motora (KW)']/following-sibling::td\")\n",
    "                motor_strength = motor_strength_element.text.strip()\n",
    "            except:\n",
    "                motor_strength = \"N/A\"\n",
    "\n",
    "            try:\n",
    "                # Extract Mileage\n",
    "                mileage_element = driver.find_element(By.XPATH, \"//td[text()='Kilometraža']/following-sibling::td\")\n",
    "                mileage = mileage_element.text.strip()\n",
    "            except:\n",
    "                mileage = \"N/A\"\n",
    "\n",
    "            try:\n",
    "                # Extract Engine Capacity\n",
    "                engine_capacity_element = driver.find_element(By.XPATH, \"//td[text()='Kubikaža']/following-sibling::td\")\n",
    "                engine_capacity = engine_capacity_element.text.strip()\n",
    "            except:\n",
    "                engine_capacity = \"N/A\"\n",
    "\n",
    "            try:\n",
    "                # Extract Manufacturer\n",
    "                manufacturer_element = driver.find_element(By.XPATH, \"//td[text()='Proizvođač']/following-sibling::td/a\")\n",
    "                manufacturer = manufacturer_element.text.strip()\n",
    "            except:\n",
    "                manufacturer = \"N/A\"\n",
    "\n",
    "            try:\n",
    "                # Extract Model\n",
    "                model_element = driver.find_element(By.XPATH, \"//td[text()='Model']/following-sibling::td/a\")\n",
    "                model = model_element.text.strip()\n",
    "            except:\n",
    "                model = \"N/A\"\n",
    "\n",
    "            try:\n",
    "                # Extract Fuel Type\n",
    "                fuel_type_element = driver.find_element(By.XPATH, \"//td[text()='Gorivo']/following-sibling::td\")\n",
    "                fuel_type = fuel_type_element.text.strip()\n",
    "            except:\n",
    "                fuel_type = \"N/A\"\n",
    "\n",
    "            if fuel_type == \"N/A\" or model == \"N/A\" or manufacturer == \"N/A\" or price == \"N/A\" or transmission == \"N/A\" or year == \"N/A\" or motor_strength == \"N/A\" or mileage == \"N/A\" or engine_capacity == \"N/A\":\n",
    "                continue\n",
    "            \n",
    "            # Write the extracted information to the CSV file\n",
    "            row = [link, price, transmission, year, motor_strength, mileage, engine_capacity, manufacturer, model, fuel_type]\n",
    "            csvwriter.writerow(row)\n",
    "\n",
    "        except Exception as e:\n",
    "            print(f\"Failed to retrieve {link}: {e}\")\n",
    "\n",
    "# Quit the WebDriver session\n",
    "driver.quit()\n",
    "\n",
    "print(\"Finished processing all links.\")\n"
   ]
  },
  {
   "cell_type": "code",
   "execution_count": null,
   "metadata": {},
   "outputs": [],
   "source": []
  }
 ],
 "metadata": {
  "kernelspec": {
   "display_name": ".venv",
   "language": "python",
   "name": "python3"
  },
  "language_info": {
   "codemirror_mode": {
    "name": "ipython",
    "version": 3
   },
   "file_extension": ".py",
   "mimetype": "text/x-python",
   "name": "python",
   "nbconvert_exporter": "python",
   "pygments_lexer": "ipython3",
   "version": "3.10.12"
  }
 },
 "nbformat": 4,
 "nbformat_minor": 2
}
