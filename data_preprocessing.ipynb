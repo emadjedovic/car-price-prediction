{
 "cells": [
  {
   "cell_type": "markdown",
   "metadata": {},
   "source": [
    "Load data from a CSV file into a pandas DataFrame, display the first 1000 rows and basic information of the DataFrame:"
   ]
  },
  {
   "cell_type": "code",
   "execution_count": null,
   "metadata": {},
   "outputs": [],
   "source": [
    "import pandas as pd\n",
    "\n",
    "df = pd.read_csv(\"car_data.csv\")\n",
    "\n",
    "df.info()"
   ]
  },
  {
   "cell_type": "code",
   "execution_count": null,
   "metadata": {},
   "outputs": [],
   "source": [
    "df.head(1000)"
   ]
  },
  {
   "cell_type": "markdown",
   "metadata": {},
   "source": [
    "### PRICE"
   ]
  },
  {
   "cell_type": "markdown",
   "metadata": {},
   "source": [
    "Apply the cleaning function to the 'Price' column:"
   ]
  },
  {
   "cell_type": "code",
   "execution_count": null,
   "metadata": {},
   "outputs": [],
   "source": [
    "def clean_price(price):\n",
    "    price = price.replace('.', '')\n",
    "    if(',' in price):\n",
    "        price = price.split(',')[0]\n",
    "    else:\n",
    "        price = price.split(' ')[0]\n",
    "    if(price.isnumeric()):\n",
    "        return int(price)\n",
    "    return None\n",
    "\n",
    "df['Price'] = df['Price'].apply(clean_price)"
   ]
  },
  {
   "cell_type": "markdown",
   "metadata": {},
   "source": [
    "Calculate and print minimum and maximum price:"
   ]
  },
  {
   "cell_type": "code",
   "execution_count": null,
   "metadata": {},
   "outputs": [],
   "source": [
    "min_price = df['Price'].min()\n",
    "max_price = df['Price'].max()\n",
    "\n",
    "print(\"Minimum price:\", min_price)\n",
    "print(\"Maximum price:\", max_price)"
   ]
  },
  {
   "cell_type": "markdown",
   "metadata": {},
   "source": [
    "Filter prices outside the range 400 to 1000000:"
   ]
  },
  {
   "cell_type": "code",
   "execution_count": null,
   "metadata": {},
   "outputs": [],
   "source": [
    "df = df[df['Price'] > 400]\n",
    "df = df[df['Price'] < 1000000]\n",
    "\n",
    "min_price = df['Price'].min()\n",
    "max_price = df['Price'].max()\n",
    "\n",
    "print(\"Minimum price:\", min_price)\n",
    "print(\"Maximum price:\", max_price)"
   ]
  },
  {
   "cell_type": "code",
   "execution_count": null,
   "metadata": {},
   "outputs": [],
   "source": [
    "df.info()"
   ]
  },
  {
   "cell_type": "markdown",
   "metadata": {},
   "source": [
    "Drop rows with NaN values:"
   ]
  },
  {
   "cell_type": "code",
   "execution_count": null,
   "metadata": {},
   "outputs": [],
   "source": [
    "df = df.dropna()\n",
    "df.info()"
   ]
  },
  {
   "cell_type": "markdown",
   "metadata": {},
   "source": [
    "Scatter plot of price counts:"
   ]
  },
  {
   "cell_type": "code",
   "execution_count": null,
   "metadata": {},
   "outputs": [],
   "source": [
    "import matplotlib.pyplot as plt\n",
    "\n",
    "price_counts = df['Price'].value_counts()\n",
    "\n",
    "plt.figure(figsize=(10, 4))\n",
    "plt.scatter(price_counts.index, price_counts.values, alpha=0.8)\n",
    "plt.xlabel('Price')\n",
    "plt.ylabel('Frequency')\n",
    "plt.grid(True)\n",
    "plt.show()"
   ]
  },
  {
   "cell_type": "markdown",
   "metadata": {},
   "source": [
    "### YEAR"
   ]
  },
  {
   "cell_type": "markdown",
   "metadata": {},
   "source": [
    "Apply the cleaning function to the 'Year' column:"
   ]
  },
  {
   "cell_type": "code",
   "execution_count": null,
   "metadata": {},
   "outputs": [],
   "source": [
    "def clean_year(year):\n",
    "    return int(year)\n",
    "\n",
    "df['Year'] = df['Year'].apply(clean_year)"
   ]
  },
  {
   "cell_type": "markdown",
   "metadata": {},
   "source": [
    "Calculate and print minimum and maximum year:"
   ]
  },
  {
   "cell_type": "code",
   "execution_count": null,
   "metadata": {},
   "outputs": [],
   "source": [
    "min_year = df['Year'].min()\n",
    "max_year = df['Year'].max()\n",
    "\n",
    "print(\"Minimum year:\", min_year)\n",
    "print(\"Maximum year:\", max_year)"
   ]
  },
  {
   "cell_type": "markdown",
   "metadata": {},
   "source": [
    "Drop rows with NaN values:"
   ]
  },
  {
   "cell_type": "code",
   "execution_count": null,
   "metadata": {},
   "outputs": [],
   "source": [
    "df = df.dropna()\n",
    "df.info()"
   ]
  },
  {
   "cell_type": "markdown",
   "metadata": {},
   "source": [
    "Histogram of 'Year' column:"
   ]
  },
  {
   "cell_type": "code",
   "execution_count": null,
   "metadata": {},
   "outputs": [],
   "source": [
    "import matplotlib.pyplot as plt\n",
    "\n",
    "plt.hist(df['Year'], bins=30, edgecolor='black')\n",
    "plt.title('Year Distribution')\n",
    "plt.xlabel('Year')\n",
    "plt.ylabel('Frequency')\n",
    "plt.show()"
   ]
  },
  {
   "cell_type": "markdown",
   "metadata": {},
   "source": [
    "### TRANSMISSION"
   ]
  },
  {
   "cell_type": "markdown",
   "metadata": {},
   "source": [
    "Extract and print unique values in the 'Transmission' column:"
   ]
  },
  {
   "cell_type": "code",
   "execution_count": null,
   "metadata": {},
   "outputs": [],
   "source": [
    "transmissions_list = df['Transmission']\n",
    "\n",
    "transmissions_set = set()\n",
    "\n",
    "for el in transmissions_list:\n",
    "    transmissions_set.add(el)\n",
    "\n",
    "print(transmissions_set)"
   ]
  },
  {
   "cell_type": "markdown",
   "metadata": {},
   "source": [
    "Apply the cleaning function to the 'Transmission' column:"
   ]
  },
  {
   "cell_type": "code",
   "execution_count": null,
   "metadata": {},
   "outputs": [],
   "source": [
    "\n",
    "def clean_transmission(transmission):\n",
    "    if(transmission == \"Manuelni\"):\n",
    "        return 0\n",
    "    elif(transmission == \"Automatik\"):\n",
    "        return 1\n",
    "    return None\n",
    "\n",
    "df['Transmission'] = df['Transmission'].apply(clean_transmission)\n",
    "df.head(30)"
   ]
  },
  {
   "cell_type": "markdown",
   "metadata": {},
   "source": [
    "Drop rows with NaN values:"
   ]
  },
  {
   "cell_type": "code",
   "execution_count": null,
   "metadata": {},
   "outputs": [],
   "source": [
    "df = df.dropna()\n",
    "df.info()"
   ]
  },
  {
   "cell_type": "code",
   "execution_count": null,
   "metadata": {},
   "outputs": [],
   "source": [
    "# Plot pie chart of 'Transmission' column\n",
    "transmission_counts = df['Transmission'].value_counts()\n",
    "plt.figure(figsize=(5, 5))\n",
    "plt.pie(transmission_counts, labels=['Manual', 'Automatic'], autopct='%1.1f%%', startangle=140)\n",
    "plt.title('Transmission Type Distribution')\n",
    "plt.show()"
   ]
  },
  {
   "cell_type": "markdown",
   "metadata": {},
   "source": [
    "### MOTOR STRENGTH (KW)"
   ]
  },
  {
   "cell_type": "markdown",
   "metadata": {},
   "source": [
    "Calculate and print minimum and maximum motor strength (KW):"
   ]
  },
  {
   "cell_type": "code",
   "execution_count": null,
   "metadata": {},
   "outputs": [],
   "source": [
    "min_kw = df['Motor Strength (KW)'].min()\n",
    "max_kw = df['Motor Strength (KW)'].max()\n",
    "\n",
    "print(\"Minimum motor strength (KW):\", min_kw)\n",
    "print(\"Maximum motor strength (KW):\", max_kw)"
   ]
  },
  {
   "cell_type": "markdown",
   "metadata": {},
   "source": [
    "Filter motor strength values outside the range 30 to 900:"
   ]
  },
  {
   "cell_type": "code",
   "execution_count": null,
   "metadata": {},
   "outputs": [],
   "source": [
    "df = df[df['Motor Strength (KW)'] > 30]\n",
    "df = df[df['Motor Strength (KW)'] < 900]\n",
    "\n",
    "min_kw = df['Motor Strength (KW)'].min()\n",
    "max_kw = df['Motor Strength (KW)'].max()\n",
    "\n",
    "print(\"Minimum motor strength (KW):\", min_kw)\n",
    "print(\"Maximum motor strength (KW):\", max_kw)"
   ]
  },
  {
   "cell_type": "markdown",
   "metadata": {},
   "source": [
    "Apply the cleaning function to the 'Motor Strength (KW)' column:"
   ]
  },
  {
   "cell_type": "code",
   "execution_count": null,
   "metadata": {},
   "outputs": [],
   "source": [
    "def clean_motor(power):\n",
    "    return int(power)\n",
    "\n",
    "df['Motor Strength (KW)'] = df['Motor Strength (KW)'].apply(clean_motor)\n",
    "df.head(10)"
   ]
  },
  {
   "cell_type": "markdown",
   "metadata": {},
   "source": [
    "Filter rows based on 'Motor Strength (KW)' values:"
   ]
  },
  {
   "cell_type": "code",
   "execution_count": null,
   "metadata": {},
   "outputs": [],
   "source": [
    "df = df[df['Motor Strength (KW)'] < 700]\n",
    "df = df[df['Motor Strength (KW)'] > 30]"
   ]
  },
  {
   "cell_type": "markdown",
   "metadata": {},
   "source": [
    "Drop rows with NaN values:"
   ]
  },
  {
   "cell_type": "code",
   "execution_count": null,
   "metadata": {},
   "outputs": [],
   "source": [
    "df = df.dropna()\n",
    "df.info()"
   ]
  },
  {
   "cell_type": "markdown",
   "metadata": {},
   "source": [
    "Histogram of 'Motor Strength (KW)' column:"
   ]
  },
  {
   "cell_type": "code",
   "execution_count": null,
   "metadata": {},
   "outputs": [],
   "source": [
    "plt.hist(df['Motor Strength (KW)'], bins=100, edgecolor='black')\n",
    "plt.title('Motor Strength (KW) Distribution')\n",
    "plt.xlabel('Motor Strength (KW)')\n",
    "plt.ylabel('Frequency')\n",
    "plt.show()"
   ]
  },
  {
   "cell_type": "markdown",
   "metadata": {},
   "source": [
    "### MILEAGE"
   ]
  },
  {
   "cell_type": "markdown",
   "metadata": {},
   "source": [
    "Apply the cleaning function to the 'Mileage' column:"
   ]
  },
  {
   "cell_type": "code",
   "execution_count": null,
   "metadata": {},
   "outputs": [],
   "source": [
    "def clean_mileage(mileage):\n",
    "    mileage = mileage.replace('.', '')\n",
    "    if(',' in mileage):\n",
    "        mileage = mileage.split(',')[0]\n",
    "    else:\n",
    "        mileage = mileage.split('km')[0]\n",
    "    return int(mileage)\n",
    "\n",
    "df['Mileage'] = df['Mileage'].apply(clean_mileage)"
   ]
  },
  {
   "cell_type": "markdown",
   "metadata": {},
   "source": [
    "Calculate and print minimum and maximum mileage:"
   ]
  },
  {
   "cell_type": "code",
   "execution_count": null,
   "metadata": {},
   "outputs": [],
   "source": [
    "min_mileage = df['Mileage'].min()\n",
    "max_mileage = df['Mileage'].max()\n",
    "\n",
    "print(\"Minimum mileage:\", min_mileage)\n",
    "print(\"Maximum mileage:\", max_mileage)"
   ]
  },
  {
   "cell_type": "markdown",
   "metadata": {},
   "source": [
    "Filter mileage values greater than 1000000 and sort by mileage in descending order:"
   ]
  },
  {
   "cell_type": "code",
   "execution_count": null,
   "metadata": {},
   "outputs": [],
   "source": [
    "df = df[df['Mileage'] < 1000000]\n",
    "df = df.sort_values(by='Mileage', ascending=False)\n",
    "df.head(10)"
   ]
  },
  {
   "cell_type": "markdown",
   "metadata": {},
   "source": [
    "Drop rows with NaN values:"
   ]
  },
  {
   "cell_type": "code",
   "execution_count": null,
   "metadata": {},
   "outputs": [],
   "source": [
    "df = df.dropna()\n",
    "df.info()"
   ]
  },
  {
   "cell_type": "code",
   "execution_count": null,
   "metadata": {},
   "outputs": [],
   "source": [
    "# Plot histogram of 'Mileage' column\n",
    "plt.hist(df['Mileage'], bins=50, edgecolor='black')\n",
    "plt.title('Mileage Distribution')\n",
    "plt.xlabel('Mileage')\n",
    "plt.ylabel('Frequency')\n",
    "plt.show()"
   ]
  },
  {
   "cell_type": "markdown",
   "metadata": {},
   "source": [
    "### ENGINE CAPACITY"
   ]
  },
  {
   "cell_type": "markdown",
   "metadata": {},
   "source": [
    "Create a histogram of the 'Engine Capacity' column:"
   ]
  },
  {
   "cell_type": "code",
   "execution_count": null,
   "metadata": {},
   "outputs": [],
   "source": [
    "# Create a histogram of the 'Engine Capacity' column\n",
    "engine_capacity_list = df['Engine Capacity']\n",
    "engine_capacity_list = sorted(engine_capacity_list)\n",
    "plt.hist(engine_capacity_list, bins=10, edgecolor='black', log=True)\n",
    "plt.title('Engine Capacity Distribution')\n",
    "plt.xlabel('Engine Capacity')\n",
    "plt.ylabel('Frequency')\n",
    "plt.show()"
   ]
  },
  {
   "cell_type": "markdown",
   "metadata": {},
   "source": [
    "Drop rows with NaN values:"
   ]
  },
  {
   "cell_type": "code",
   "execution_count": null,
   "metadata": {},
   "outputs": [],
   "source": [
    "df = df.dropna()\n",
    "df.info()"
   ]
  },
  {
   "cell_type": "markdown",
   "metadata": {},
   "source": [
    "### CORRELATION MATRIX HEATMAP"
   ]
  },
  {
   "cell_type": "markdown",
   "metadata": {},
   "source": [
    "Exclude the non-numeric columns and visualize the correlation matrix:"
   ]
  },
  {
   "cell_type": "code",
   "execution_count": null,
   "metadata": {},
   "outputs": [],
   "source": [
    "import seaborn as sns\n",
    "\n",
    "non_numeric_columns=['URL', 'Manufacturer', 'Model', 'Fuel Type']\n",
    "corr_columns = df.drop(columns=non_numeric_columns)\n",
    "corr_matrix = corr_columns.corr()\n",
    "\n",
    "plt.figure(figsize=(10, 8))\n",
    "sns.heatmap(corr_matrix, annot=True, cmap='coolwarm', linewidths=0.5)\n",
    "plt.title('Correlation Matrix Heatmap')\n",
    "plt.show()"
   ]
  },
  {
   "cell_type": "markdown",
   "metadata": {},
   "source": [
    "### OTHER"
   ]
  },
  {
   "cell_type": "code",
   "execution_count": null,
   "metadata": {},
   "outputs": [],
   "source": [
    "df = df.drop(columns=['URL'])"
   ]
  },
  {
   "cell_type": "markdown",
   "metadata": {},
   "source": [
    "Display unique values in 'Fuel Type', 'Model', and 'Manufacturer' columns:"
   ]
  },
  {
   "cell_type": "code",
   "execution_count": null,
   "metadata": {},
   "outputs": [],
   "source": [
    "fuel_type_list = df['Fuel Type']\n",
    "fuel_type_set = set()\n",
    "for el in fuel_type_list:\n",
    "    fuel_type_set.add(el)\n",
    "print(fuel_type_set)\n",
    "\n",
    "manufacturers_list = df['Manufacturer']\n",
    "manufacturers_set = set()\n",
    "for el in manufacturers_list:\n",
    "    manufacturers_set.add(el)\n",
    "print(manufacturers_set)\n",
    "\n",
    "models_list = df['Model']\n",
    "models_set = set()\n",
    "for el in models_list:\n",
    "    models_set.add(el)\n",
    "print(models_set)"
   ]
  },
  {
   "cell_type": "markdown",
   "metadata": {},
   "source": [
    "Filter and merge data based on 'Manufacturer' and 'Model':"
   ]
  },
  {
   "cell_type": "code",
   "execution_count": null,
   "metadata": {},
   "outputs": [],
   "source": [
    "grouped = df.groupby(['Manufacturer', 'Model']).size().reset_index(name='Count')\n",
    "filtered = grouped[grouped['Count'] >= 10] # increase the number with a larger dataset\n",
    "df = pd.merge(df, filtered[['Manufacturer', 'Model']], on=['Manufacturer', 'Model'], how='inner')\n",
    "\n",
    "df.info()"
   ]
  },
  {
   "cell_type": "markdown",
   "metadata": {},
   "source": [
    "Encode categorical columns (one-hot-encoding):"
   ]
  },
  {
   "cell_type": "code",
   "execution_count": null,
   "metadata": {},
   "outputs": [],
   "source": [
    "df_copy = df.copy()\n",
    "df = pd.get_dummies(df, columns=['Model', 'Manufacturer', 'Fuel Type'])\n",
    "print(df.shape)\n",
    "\n",
    "# Concatenate the original and encoded dataframes\n",
    "df = pd.concat([df, df_copy], axis=1, join='outer')\n",
    "print(df.shape)"
   ]
  },
  {
   "cell_type": "markdown",
   "metadata": {},
   "source": [
    "Remove duplicate columns:"
   ]
  },
  {
   "cell_type": "code",
   "execution_count": null,
   "metadata": {},
   "outputs": [],
   "source": [
    "df = df.loc[:, ~df.columns.duplicated()].copy()\n",
    "print(df.shape)"
   ]
  },
  {
   "cell_type": "markdown",
   "metadata": {},
   "source": [
    "Save the cleaned data to a new CSV file:"
   ]
  },
  {
   "cell_type": "code",
   "execution_count": null,
   "metadata": {},
   "outputs": [],
   "source": [
    "df.to_csv('cleaned_car_data.csv', index=False)\n",
    "print(\"Data preprocessing completed.\")"
   ]
  }
 ],
 "metadata": {
  "kernelspec": {
   "display_name": "base",
   "language": "python",
   "name": "python3"
  },
  "language_info": {
   "codemirror_mode": {
    "name": "ipython",
    "version": 3
   },
   "file_extension": ".py",
   "mimetype": "text/x-python",
   "name": "python",
   "nbconvert_exporter": "python",
   "pygments_lexer": "ipython3",
   "version": "3.12.2"
  }
 },
 "nbformat": 4,
 "nbformat_minor": 2
}
