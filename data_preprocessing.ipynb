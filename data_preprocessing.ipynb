{
 "cells": [
  {
   "cell_type": "code",
   "execution_count": 1,
   "metadata": {},
   "outputs": [
    {
     "data": {
      "text/html": [
       "<div>\n",
       "<style scoped>\n",
       "    .dataframe tbody tr th:only-of-type {\n",
       "        vertical-align: middle;\n",
       "    }\n",
       "\n",
       "    .dataframe tbody tr th {\n",
       "        vertical-align: top;\n",
       "    }\n",
       "\n",
       "    .dataframe thead th {\n",
       "        text-align: right;\n",
       "    }\n",
       "</style>\n",
       "<table border=\"1\" class=\"dataframe\">\n",
       "  <thead>\n",
       "    <tr style=\"text-align: right;\">\n",
       "      <th></th>\n",
       "      <th>URL</th>\n",
       "      <th>Price</th>\n",
       "      <th>Transmission</th>\n",
       "      <th>Year</th>\n",
       "      <th>Motor Strength (KW)</th>\n",
       "      <th>Mileage</th>\n",
       "      <th>Engine Capacity</th>\n",
       "      <th>Manufacturer</th>\n",
       "      <th>Model</th>\n",
       "      <th>Fuel Type</th>\n",
       "    </tr>\n",
       "  </thead>\n",
       "  <tbody>\n",
       "    <tr>\n",
       "      <th>0</th>\n",
       "      <td>https://olx.ba/artikal/61899115</td>\n",
       "      <td>1.950 KM</td>\n",
       "      <td>Manuelni</td>\n",
       "      <td>2001</td>\n",
       "      <td>44.0</td>\n",
       "      <td>200.000km</td>\n",
       "      <td>1.2</td>\n",
       "      <td>Fiat</td>\n",
       "      <td>Punto</td>\n",
       "      <td>Benzin</td>\n",
       "    </tr>\n",
       "    <tr>\n",
       "      <th>1</th>\n",
       "      <td>https://olx.ba/artikal/62283007</td>\n",
       "      <td>1.450 KM</td>\n",
       "      <td>Automatik</td>\n",
       "      <td>2001</td>\n",
       "      <td>116.0</td>\n",
       "      <td>312.000km</td>\n",
       "      <td>2.2</td>\n",
       "      <td>Peugeot</td>\n",
       "      <td>607</td>\n",
       "      <td>Benzin</td>\n",
       "    </tr>\n",
       "    <tr>\n",
       "      <th>2</th>\n",
       "      <td>https://olx.ba/artikal/60503295</td>\n",
       "      <td>1.850 KM</td>\n",
       "      <td>Manuelni</td>\n",
       "      <td>1997</td>\n",
       "      <td>45.0</td>\n",
       "      <td>200.000km</td>\n",
       "      <td>1.2</td>\n",
       "      <td>Opel</td>\n",
       "      <td>Corsa</td>\n",
       "      <td>Benzin</td>\n",
       "    </tr>\n",
       "    <tr>\n",
       "      <th>3</th>\n",
       "      <td>https://olx.ba/artikal/62100159</td>\n",
       "      <td>1.650 KM</td>\n",
       "      <td>Manuelni</td>\n",
       "      <td>1998</td>\n",
       "      <td>47.0</td>\n",
       "      <td>290.000km</td>\n",
       "      <td>1.9</td>\n",
       "      <td>Volkswagen</td>\n",
       "      <td>Golf</td>\n",
       "      <td>Dizel</td>\n",
       "    </tr>\n",
       "    <tr>\n",
       "      <th>4</th>\n",
       "      <td>https://olx.ba/artikal/51469509</td>\n",
       "      <td>1.250 KM</td>\n",
       "      <td>Manuelni</td>\n",
       "      <td>2001</td>\n",
       "      <td>110.0</td>\n",
       "      <td>202.000km</td>\n",
       "      <td>2.0</td>\n",
       "      <td>Alfa Romeo</td>\n",
       "      <td>Alfa 156</td>\n",
       "      <td>Benzin</td>\n",
       "    </tr>\n",
       "    <tr>\n",
       "      <th>...</th>\n",
       "      <td>...</td>\n",
       "      <td>...</td>\n",
       "      <td>...</td>\n",
       "      <td>...</td>\n",
       "      <td>...</td>\n",
       "      <td>...</td>\n",
       "      <td>...</td>\n",
       "      <td>...</td>\n",
       "      <td>...</td>\n",
       "      <td>...</td>\n",
       "    </tr>\n",
       "    <tr>\n",
       "      <th>510</th>\n",
       "      <td>https://olx.ba/artikal/60450846</td>\n",
       "      <td>1.850 KM</td>\n",
       "      <td>Manuelni</td>\n",
       "      <td>2004</td>\n",
       "      <td>47.0</td>\n",
       "      <td>380.000km</td>\n",
       "      <td>1.9</td>\n",
       "      <td>Škoda</td>\n",
       "      <td>Fabia</td>\n",
       "      <td>Dizel</td>\n",
       "    </tr>\n",
       "    <tr>\n",
       "      <th>511</th>\n",
       "      <td>https://olx.ba/artikal/61839141</td>\n",
       "      <td>1.650 KM</td>\n",
       "      <td>Manuelni</td>\n",
       "      <td>2000</td>\n",
       "      <td>40.0</td>\n",
       "      <td>185.000km</td>\n",
       "      <td>1.0</td>\n",
       "      <td>Opel</td>\n",
       "      <td>Corsa</td>\n",
       "      <td>Benzin</td>\n",
       "    </tr>\n",
       "    <tr>\n",
       "      <th>512</th>\n",
       "      <td>https://olx.ba/artikal/60960602</td>\n",
       "      <td>1.450 KM</td>\n",
       "      <td>Manuelni</td>\n",
       "      <td>2001</td>\n",
       "      <td>66.0</td>\n",
       "      <td>0km</td>\n",
       "      <td>2.0</td>\n",
       "      <td>Peugeot</td>\n",
       "      <td>206</td>\n",
       "      <td>Dizel</td>\n",
       "    </tr>\n",
       "    <tr>\n",
       "      <th>513</th>\n",
       "      <td>https://olx.ba/artikal/56128555</td>\n",
       "      <td>1.500 KM</td>\n",
       "      <td>Manuelni</td>\n",
       "      <td>1986</td>\n",
       "      <td>74.0</td>\n",
       "      <td>283.680km</td>\n",
       "      <td>1.8</td>\n",
       "      <td>Audi</td>\n",
       "      <td>80</td>\n",
       "      <td>Plin</td>\n",
       "    </tr>\n",
       "    <tr>\n",
       "      <th>514</th>\n",
       "      <td>https://olx.ba/artikal/59707421</td>\n",
       "      <td>1.300 KM</td>\n",
       "      <td>Manuelni</td>\n",
       "      <td>1987</td>\n",
       "      <td>40.0</td>\n",
       "      <td>350.000km</td>\n",
       "      <td>1.3</td>\n",
       "      <td>Volkswagen</td>\n",
       "      <td>Golf</td>\n",
       "      <td>Benzin</td>\n",
       "    </tr>\n",
       "  </tbody>\n",
       "</table>\n",
       "<p>515 rows × 10 columns</p>\n",
       "</div>"
      ],
      "text/plain": [
       "                                 URL     Price Transmission  Year  \\\n",
       "0    https://olx.ba/artikal/61899115  1.950 KM     Manuelni  2001   \n",
       "1    https://olx.ba/artikal/62283007  1.450 KM    Automatik  2001   \n",
       "2    https://olx.ba/artikal/60503295  1.850 KM     Manuelni  1997   \n",
       "3    https://olx.ba/artikal/62100159  1.650 KM     Manuelni  1998   \n",
       "4    https://olx.ba/artikal/51469509  1.250 KM     Manuelni  2001   \n",
       "..                               ...       ...          ...   ...   \n",
       "510  https://olx.ba/artikal/60450846  1.850 KM     Manuelni  2004   \n",
       "511  https://olx.ba/artikal/61839141  1.650 KM     Manuelni  2000   \n",
       "512  https://olx.ba/artikal/60960602  1.450 KM     Manuelni  2001   \n",
       "513  https://olx.ba/artikal/56128555  1.500 KM     Manuelni  1986   \n",
       "514  https://olx.ba/artikal/59707421  1.300 KM     Manuelni  1987   \n",
       "\n",
       "     Motor Strength (KW)    Mileage  Engine Capacity Manufacturer     Model  \\\n",
       "0                   44.0  200.000km              1.2         Fiat     Punto   \n",
       "1                  116.0  312.000km              2.2      Peugeot       607   \n",
       "2                   45.0  200.000km              1.2         Opel     Corsa   \n",
       "3                   47.0  290.000km              1.9   Volkswagen      Golf   \n",
       "4                  110.0  202.000km              2.0   Alfa Romeo  Alfa 156   \n",
       "..                   ...        ...              ...          ...       ...   \n",
       "510                 47.0  380.000km              1.9        Škoda     Fabia   \n",
       "511                 40.0  185.000km              1.0         Opel     Corsa   \n",
       "512                 66.0        0km              2.0      Peugeot       206   \n",
       "513                 74.0  283.680km              1.8         Audi        80   \n",
       "514                 40.0  350.000km              1.3   Volkswagen      Golf   \n",
       "\n",
       "    Fuel Type  \n",
       "0      Benzin  \n",
       "1      Benzin  \n",
       "2      Benzin  \n",
       "3       Dizel  \n",
       "4      Benzin  \n",
       "..        ...  \n",
       "510     Dizel  \n",
       "511    Benzin  \n",
       "512     Dizel  \n",
       "513      Plin  \n",
       "514    Benzin  \n",
       "\n",
       "[515 rows x 10 columns]"
      ]
     },
     "execution_count": 1,
     "metadata": {},
     "output_type": "execute_result"
    }
   ],
   "source": [
    "import pandas as pd\n",
    "\n",
    "df = pd.read_csv(\"car_data_new.csv\")\n",
    "df.head(1000)"
   ]
  },
  {
   "cell_type": "code",
   "execution_count": 2,
   "metadata": {},
   "outputs": [
    {
     "name": "stdout",
     "output_type": "stream",
     "text": [
      "<class 'pandas.core.frame.DataFrame'>\n",
      "RangeIndex: 515 entries, 0 to 514\n",
      "Data columns (total 10 columns):\n",
      " #   Column               Non-Null Count  Dtype  \n",
      "---  ------               --------------  -----  \n",
      " 0   URL                  515 non-null    object \n",
      " 1   Price                515 non-null    object \n",
      " 2   Transmission         515 non-null    object \n",
      " 3   Year                 515 non-null    int64  \n",
      " 4   Motor Strength (KW)  515 non-null    float64\n",
      " 5   Mileage              515 non-null    object \n",
      " 6   Engine Capacity      515 non-null    float64\n",
      " 7   Manufacturer         515 non-null    object \n",
      " 8   Model                515 non-null    object \n",
      " 9   Fuel Type            515 non-null    object \n",
      "dtypes: float64(2), int64(1), object(7)\n",
      "memory usage: 40.4+ KB\n"
     ]
    }
   ],
   "source": [
    "df.info()"
   ]
  },
  {
   "cell_type": "markdown",
   "metadata": {},
   "source": [
    "### PRICE"
   ]
  },
  {
   "cell_type": "code",
   "execution_count": 3,
   "metadata": {},
   "outputs": [
    {
     "name": "stdout",
     "output_type": "stream",
     "text": [
      "0    1950\n",
      "1    1450\n",
      "2    1850\n",
      "3    1650\n",
      "4    1250\n",
      "Name: Price, dtype: int64\n"
     ]
    }
   ],
   "source": [
    "def clean_price(price):\n",
    "    price = price.replace('.', '')\n",
    "    if(',' in price):\n",
    "        price = price.split(',')[0]\n",
    "    else:\n",
    "        price = price.split(' ')[0]\n",
    "    if(price.isnumeric()):\n",
    "        return int(price)\n",
    "    return None\n",
    "\n",
    "df['Price'] = df['Price'].apply(clean_price)\n",
    "print(df['Price'].head())"
   ]
  },
  {
   "cell_type": "code",
   "execution_count": 4,
   "metadata": {},
   "outputs": [
    {
     "name": "stdout",
     "output_type": "stream",
     "text": [
      "<class 'pandas.core.frame.DataFrame'>\n",
      "RangeIndex: 515 entries, 0 to 514\n",
      "Data columns (total 10 columns):\n",
      " #   Column               Non-Null Count  Dtype  \n",
      "---  ------               --------------  -----  \n",
      " 0   URL                  515 non-null    object \n",
      " 1   Price                515 non-null    int64  \n",
      " 2   Transmission         515 non-null    object \n",
      " 3   Year                 515 non-null    int64  \n",
      " 4   Motor Strength (KW)  515 non-null    float64\n",
      " 5   Mileage              515 non-null    object \n",
      " 6   Engine Capacity      515 non-null    float64\n",
      " 7   Manufacturer         515 non-null    object \n",
      " 8   Model                515 non-null    object \n",
      " 9   Fuel Type            515 non-null    object \n",
      "dtypes: float64(2), int64(2), object(6)\n",
      "memory usage: 40.4+ KB\n"
     ]
    }
   ],
   "source": [
    "df = df.dropna()\n",
    "df.info()"
   ]
  },
  {
   "cell_type": "code",
   "execution_count": 5,
   "metadata": {},
   "outputs": [
    {
     "data": {
      "text/html": [
       "<div>\n",
       "<style scoped>\n",
       "    .dataframe tbody tr th:only-of-type {\n",
       "        vertical-align: middle;\n",
       "    }\n",
       "\n",
       "    .dataframe tbody tr th {\n",
       "        vertical-align: top;\n",
       "    }\n",
       "\n",
       "    .dataframe thead th {\n",
       "        text-align: right;\n",
       "    }\n",
       "</style>\n",
       "<table border=\"1\" class=\"dataframe\">\n",
       "  <thead>\n",
       "    <tr style=\"text-align: right;\">\n",
       "      <th></th>\n",
       "      <th>URL</th>\n",
       "      <th>Price</th>\n",
       "      <th>Transmission</th>\n",
       "      <th>Year</th>\n",
       "      <th>Motor Strength (KW)</th>\n",
       "      <th>Mileage</th>\n",
       "      <th>Engine Capacity</th>\n",
       "      <th>Manufacturer</th>\n",
       "      <th>Model</th>\n",
       "      <th>Fuel Type</th>\n",
       "    </tr>\n",
       "  </thead>\n",
       "  <tbody>\n",
       "    <tr>\n",
       "      <th>0</th>\n",
       "      <td>https://olx.ba/artikal/61899115</td>\n",
       "      <td>1950</td>\n",
       "      <td>Manuelni</td>\n",
       "      <td>2001</td>\n",
       "      <td>44.0</td>\n",
       "      <td>200.000km</td>\n",
       "      <td>1.2</td>\n",
       "      <td>Fiat</td>\n",
       "      <td>Punto</td>\n",
       "      <td>Benzin</td>\n",
       "    </tr>\n",
       "    <tr>\n",
       "      <th>1</th>\n",
       "      <td>https://olx.ba/artikal/62283007</td>\n",
       "      <td>1450</td>\n",
       "      <td>Automatik</td>\n",
       "      <td>2001</td>\n",
       "      <td>116.0</td>\n",
       "      <td>312.000km</td>\n",
       "      <td>2.2</td>\n",
       "      <td>Peugeot</td>\n",
       "      <td>607</td>\n",
       "      <td>Benzin</td>\n",
       "    </tr>\n",
       "    <tr>\n",
       "      <th>2</th>\n",
       "      <td>https://olx.ba/artikal/60503295</td>\n",
       "      <td>1850</td>\n",
       "      <td>Manuelni</td>\n",
       "      <td>1997</td>\n",
       "      <td>45.0</td>\n",
       "      <td>200.000km</td>\n",
       "      <td>1.2</td>\n",
       "      <td>Opel</td>\n",
       "      <td>Corsa</td>\n",
       "      <td>Benzin</td>\n",
       "    </tr>\n",
       "    <tr>\n",
       "      <th>3</th>\n",
       "      <td>https://olx.ba/artikal/62100159</td>\n",
       "      <td>1650</td>\n",
       "      <td>Manuelni</td>\n",
       "      <td>1998</td>\n",
       "      <td>47.0</td>\n",
       "      <td>290.000km</td>\n",
       "      <td>1.9</td>\n",
       "      <td>Volkswagen</td>\n",
       "      <td>Golf</td>\n",
       "      <td>Dizel</td>\n",
       "    </tr>\n",
       "    <tr>\n",
       "      <th>4</th>\n",
       "      <td>https://olx.ba/artikal/51469509</td>\n",
       "      <td>1250</td>\n",
       "      <td>Manuelni</td>\n",
       "      <td>2001</td>\n",
       "      <td>110.0</td>\n",
       "      <td>202.000km</td>\n",
       "      <td>2.0</td>\n",
       "      <td>Alfa Romeo</td>\n",
       "      <td>Alfa 156</td>\n",
       "      <td>Benzin</td>\n",
       "    </tr>\n",
       "    <tr>\n",
       "      <th>...</th>\n",
       "      <td>...</td>\n",
       "      <td>...</td>\n",
       "      <td>...</td>\n",
       "      <td>...</td>\n",
       "      <td>...</td>\n",
       "      <td>...</td>\n",
       "      <td>...</td>\n",
       "      <td>...</td>\n",
       "      <td>...</td>\n",
       "      <td>...</td>\n",
       "    </tr>\n",
       "    <tr>\n",
       "      <th>510</th>\n",
       "      <td>https://olx.ba/artikal/60450846</td>\n",
       "      <td>1850</td>\n",
       "      <td>Manuelni</td>\n",
       "      <td>2004</td>\n",
       "      <td>47.0</td>\n",
       "      <td>380.000km</td>\n",
       "      <td>1.9</td>\n",
       "      <td>Škoda</td>\n",
       "      <td>Fabia</td>\n",
       "      <td>Dizel</td>\n",
       "    </tr>\n",
       "    <tr>\n",
       "      <th>511</th>\n",
       "      <td>https://olx.ba/artikal/61839141</td>\n",
       "      <td>1650</td>\n",
       "      <td>Manuelni</td>\n",
       "      <td>2000</td>\n",
       "      <td>40.0</td>\n",
       "      <td>185.000km</td>\n",
       "      <td>1.0</td>\n",
       "      <td>Opel</td>\n",
       "      <td>Corsa</td>\n",
       "      <td>Benzin</td>\n",
       "    </tr>\n",
       "    <tr>\n",
       "      <th>512</th>\n",
       "      <td>https://olx.ba/artikal/60960602</td>\n",
       "      <td>1450</td>\n",
       "      <td>Manuelni</td>\n",
       "      <td>2001</td>\n",
       "      <td>66.0</td>\n",
       "      <td>0km</td>\n",
       "      <td>2.0</td>\n",
       "      <td>Peugeot</td>\n",
       "      <td>206</td>\n",
       "      <td>Dizel</td>\n",
       "    </tr>\n",
       "    <tr>\n",
       "      <th>513</th>\n",
       "      <td>https://olx.ba/artikal/56128555</td>\n",
       "      <td>1500</td>\n",
       "      <td>Manuelni</td>\n",
       "      <td>1986</td>\n",
       "      <td>74.0</td>\n",
       "      <td>283.680km</td>\n",
       "      <td>1.8</td>\n",
       "      <td>Audi</td>\n",
       "      <td>80</td>\n",
       "      <td>Plin</td>\n",
       "    </tr>\n",
       "    <tr>\n",
       "      <th>514</th>\n",
       "      <td>https://olx.ba/artikal/59707421</td>\n",
       "      <td>1300</td>\n",
       "      <td>Manuelni</td>\n",
       "      <td>1987</td>\n",
       "      <td>40.0</td>\n",
       "      <td>350.000km</td>\n",
       "      <td>1.3</td>\n",
       "      <td>Volkswagen</td>\n",
       "      <td>Golf</td>\n",
       "      <td>Benzin</td>\n",
       "    </tr>\n",
       "  </tbody>\n",
       "</table>\n",
       "<p>515 rows × 10 columns</p>\n",
       "</div>"
      ],
      "text/plain": [
       "                                 URL  Price Transmission  Year  \\\n",
       "0    https://olx.ba/artikal/61899115   1950     Manuelni  2001   \n",
       "1    https://olx.ba/artikal/62283007   1450    Automatik  2001   \n",
       "2    https://olx.ba/artikal/60503295   1850     Manuelni  1997   \n",
       "3    https://olx.ba/artikal/62100159   1650     Manuelni  1998   \n",
       "4    https://olx.ba/artikal/51469509   1250     Manuelni  2001   \n",
       "..                               ...    ...          ...   ...   \n",
       "510  https://olx.ba/artikal/60450846   1850     Manuelni  2004   \n",
       "511  https://olx.ba/artikal/61839141   1650     Manuelni  2000   \n",
       "512  https://olx.ba/artikal/60960602   1450     Manuelni  2001   \n",
       "513  https://olx.ba/artikal/56128555   1500     Manuelni  1986   \n",
       "514  https://olx.ba/artikal/59707421   1300     Manuelni  1987   \n",
       "\n",
       "     Motor Strength (KW)    Mileage  Engine Capacity Manufacturer     Model  \\\n",
       "0                   44.0  200.000km              1.2         Fiat     Punto   \n",
       "1                  116.0  312.000km              2.2      Peugeot       607   \n",
       "2                   45.0  200.000km              1.2         Opel     Corsa   \n",
       "3                   47.0  290.000km              1.9   Volkswagen      Golf   \n",
       "4                  110.0  202.000km              2.0   Alfa Romeo  Alfa 156   \n",
       "..                   ...        ...              ...          ...       ...   \n",
       "510                 47.0  380.000km              1.9        Škoda     Fabia   \n",
       "511                 40.0  185.000km              1.0         Opel     Corsa   \n",
       "512                 66.0        0km              2.0      Peugeot       206   \n",
       "513                 74.0  283.680km              1.8         Audi        80   \n",
       "514                 40.0  350.000km              1.3   Volkswagen      Golf   \n",
       "\n",
       "    Fuel Type  \n",
       "0      Benzin  \n",
       "1      Benzin  \n",
       "2      Benzin  \n",
       "3       Dizel  \n",
       "4      Benzin  \n",
       "..        ...  \n",
       "510     Dizel  \n",
       "511    Benzin  \n",
       "512     Dizel  \n",
       "513      Plin  \n",
       "514    Benzin  \n",
       "\n",
       "[515 rows x 10 columns]"
      ]
     },
     "execution_count": 5,
     "metadata": {},
     "output_type": "execute_result"
    }
   ],
   "source": [
    "df.head(1000)"
   ]
  },
  {
   "cell_type": "code",
   "execution_count": 6,
   "metadata": {},
   "outputs": [
    {
     "data": {
      "text/html": [
       "<div>\n",
       "<style scoped>\n",
       "    .dataframe tbody tr th:only-of-type {\n",
       "        vertical-align: middle;\n",
       "    }\n",
       "\n",
       "    .dataframe tbody tr th {\n",
       "        vertical-align: top;\n",
       "    }\n",
       "\n",
       "    .dataframe thead th {\n",
       "        text-align: right;\n",
       "    }\n",
       "</style>\n",
       "<table border=\"1\" class=\"dataframe\">\n",
       "  <thead>\n",
       "    <tr style=\"text-align: right;\">\n",
       "      <th></th>\n",
       "      <th>URL</th>\n",
       "      <th>Price</th>\n",
       "      <th>Transmission</th>\n",
       "      <th>Year</th>\n",
       "      <th>Motor Strength (KW)</th>\n",
       "      <th>Mileage</th>\n",
       "      <th>Engine Capacity</th>\n",
       "      <th>Manufacturer</th>\n",
       "      <th>Model</th>\n",
       "      <th>Fuel Type</th>\n",
       "    </tr>\n",
       "  </thead>\n",
       "  <tbody>\n",
       "    <tr>\n",
       "      <th>439</th>\n",
       "      <td>https://olx.ba/artikal/46016719</td>\n",
       "      <td>1050</td>\n",
       "      <td>Manuelni</td>\n",
       "      <td>1994</td>\n",
       "      <td>66.0</td>\n",
       "      <td>500.000km</td>\n",
       "      <td>1.8</td>\n",
       "      <td>Volkswagen</td>\n",
       "      <td>Golf</td>\n",
       "      <td>Plin</td>\n",
       "    </tr>\n",
       "    <tr>\n",
       "      <th>41</th>\n",
       "      <td>https://olx.ba/artikal/62217327</td>\n",
       "      <td>1050</td>\n",
       "      <td>Manuelni</td>\n",
       "      <td>2001</td>\n",
       "      <td>55.0</td>\n",
       "      <td>260.000km</td>\n",
       "      <td>1.4</td>\n",
       "      <td>Seat</td>\n",
       "      <td>Cordoba</td>\n",
       "      <td>Benzin</td>\n",
       "    </tr>\n",
       "    <tr>\n",
       "      <th>142</th>\n",
       "      <td>https://olx.ba/artikal/62229080</td>\n",
       "      <td>1050</td>\n",
       "      <td>Manuelni</td>\n",
       "      <td>1987</td>\n",
       "      <td>44.0</td>\n",
       "      <td>450.000km</td>\n",
       "      <td>1.6</td>\n",
       "      <td>Volkswagen</td>\n",
       "      <td>Golf</td>\n",
       "      <td>Dizel</td>\n",
       "    </tr>\n",
       "    <tr>\n",
       "      <th>496</th>\n",
       "      <td>https://olx.ba/artikal/61861898</td>\n",
       "      <td>1050</td>\n",
       "      <td>Manuelni</td>\n",
       "      <td>2000</td>\n",
       "      <td>10.0</td>\n",
       "      <td>22.222km</td>\n",
       "      <td>1.0</td>\n",
       "      <td>Seat</td>\n",
       "      <td>Arosa</td>\n",
       "      <td>Benzin</td>\n",
       "    </tr>\n",
       "    <tr>\n",
       "      <th>91</th>\n",
       "      <td>https://olx.ba/artikal/62276184</td>\n",
       "      <td>1100</td>\n",
       "      <td>Manuelni</td>\n",
       "      <td>2000</td>\n",
       "      <td>66.0</td>\n",
       "      <td>32.569.856km</td>\n",
       "      <td>1.4</td>\n",
       "      <td>Seat</td>\n",
       "      <td>Ibiza</td>\n",
       "      <td>Benzin</td>\n",
       "    </tr>\n",
       "  </tbody>\n",
       "</table>\n",
       "</div>"
      ],
      "text/plain": [
       "                                 URL  Price Transmission  Year  \\\n",
       "439  https://olx.ba/artikal/46016719   1050     Manuelni  1994   \n",
       "41   https://olx.ba/artikal/62217327   1050     Manuelni  2001   \n",
       "142  https://olx.ba/artikal/62229080   1050     Manuelni  1987   \n",
       "496  https://olx.ba/artikal/61861898   1050     Manuelni  2000   \n",
       "91   https://olx.ba/artikal/62276184   1100     Manuelni  2000   \n",
       "\n",
       "     Motor Strength (KW)       Mileage  Engine Capacity Manufacturer    Model  \\\n",
       "439                 66.0     500.000km              1.8   Volkswagen     Golf   \n",
       "41                  55.0     260.000km              1.4         Seat  Cordoba   \n",
       "142                 44.0     450.000km              1.6   Volkswagen     Golf   \n",
       "496                 10.0      22.222km              1.0         Seat    Arosa   \n",
       "91                  66.0  32.569.856km              1.4         Seat    Ibiza   \n",
       "\n",
       "    Fuel Type  \n",
       "439      Plin  \n",
       "41     Benzin  \n",
       "142     Dizel  \n",
       "496    Benzin  \n",
       "91     Benzin  "
      ]
     },
     "execution_count": 6,
     "metadata": {},
     "output_type": "execute_result"
    }
   ],
   "source": [
    "df = df[df['Price'] > 400]\n",
    "df = df.sort_values('Price')\n",
    "df.head()"
   ]
  },
  {
   "cell_type": "markdown",
   "metadata": {},
   "source": [
    "### YEAR"
   ]
  },
  {
   "cell_type": "code",
   "execution_count": 7,
   "metadata": {},
   "outputs": [
    {
     "name": "stdout",
     "output_type": "stream",
     "text": [
      "439    1994\n",
      "41     2001\n",
      "142    1987\n",
      "496    2000\n",
      "91     2000\n",
      "Name: Year, dtype: int64\n"
     ]
    }
   ],
   "source": [
    "def clean_year(year):\n",
    "    return int(year)\n",
    "\n",
    "df['Year'] = df['Year'].apply(clean_year)\n",
    "print(df['Year'].head())"
   ]
  },
  {
   "cell_type": "markdown",
   "metadata": {},
   "source": [
    "### TRANSMISSION"
   ]
  },
  {
   "cell_type": "code",
   "execution_count": 8,
   "metadata": {},
   "outputs": [
    {
     "name": "stdout",
     "output_type": "stream",
     "text": [
      "{'Manuelni', 'Automatik'}\n"
     ]
    }
   ],
   "source": [
    "transmissions_list = df['Transmission']\n",
    "transmissions_set = set()\n",
    "for el in transmissions_list:\n",
    "    transmissions_set.add(el)\n",
    "print(transmissions_set)\n"
   ]
  },
  {
   "cell_type": "code",
   "execution_count": 9,
   "metadata": {},
   "outputs": [
    {
     "name": "stdout",
     "output_type": "stream",
     "text": [
      "439    0\n",
      "41     0\n",
      "142    0\n",
      "496    0\n",
      "91     0\n",
      "Name: Transmission, dtype: int64\n"
     ]
    }
   ],
   "source": [
    "\n",
    "def clean_transmission(transmission):\n",
    "    if(transmission == \"Manuelni\"):\n",
    "        return 0\n",
    "    elif(transmission == \"Automatik\"):\n",
    "        return 1\n",
    "    return None\n",
    "\n",
    "df['Transmission'] = df['Transmission'].apply(clean_transmission)\n",
    "print(df['Transmission'].head())"
   ]
  },
  {
   "cell_type": "code",
   "execution_count": 10,
   "metadata": {},
   "outputs": [
    {
     "name": "stdout",
     "output_type": "stream",
     "text": [
      "{0, 1}\n"
     ]
    }
   ],
   "source": [
    "df = df.dropna()\n",
    "\n",
    "transmissions_list = df['Transmission']\n",
    "transmissions_set = set()\n",
    "for el in transmissions_list:\n",
    "    transmissions_set.add(el)\n",
    "print(transmissions_set)"
   ]
  },
  {
   "cell_type": "markdown",
   "metadata": {},
   "source": [
    "### MOTOR STRENGTH (KW)"
   ]
  },
  {
   "cell_type": "code",
   "execution_count": 11,
   "metadata": {},
   "outputs": [
    {
     "name": "stdout",
     "output_type": "stream",
     "text": [
      "[0.0, 0.0, 0.0, 0.0, 0.0, 0.0, 1.0, 1.5, 2.0, 2.0, 5.0, 10.0, 11.0, 25.0, 30.0, 33.0, 33.0, 33.0, 33.0, 33.0, 33.0, 35.0, 35.0, 37.0, 37.0, 37.0, 37.0, 37.0, 37.0, 39.0, 39.0, 40.0, 40.0, 40.0, 40.0, 40.0, 40.0, 40.0, 40.0, 40.0, 40.0, 40.0, 40.0, 40.0, 40.0, 40.0, 40.0, 40.0, 40.0, 40.0, 40.0, 40.0, 40.0, 40.0, 40.0, 40.0, 40.0, 40.0, 40.0, 40.0, 40.0, 40.0, 40.0, 40.0, 40.0, 40.0, 40.0, 40.0, 40.0, 40.0, 40.0, 40.0, 40.0, 40.0, 40.0, 40.0, 40.0, 40.0, 41.0, 42.0, 42.0, 43.0, 43.0, 43.0, 43.0, 43.0, 43.0, 43.0, 43.0, 43.0, 43.0, 43.0, 43.0, 43.0, 43.0, 44.0, 44.0, 44.0, 44.0, 44.0, 44.0, 44.0, 44.0, 44.0, 44.0, 44.0, 44.0, 44.0, 44.0, 44.0, 44.0, 44.0, 44.0, 44.0, 44.0, 44.0, 44.0, 44.0, 44.0, 44.0, 44.0, 44.0, 44.0, 44.0, 44.0, 44.0, 44.0, 44.0, 44.0, 44.0, 44.0, 44.0, 44.0, 44.0, 44.0, 44.0, 44.0, 44.0, 44.0, 44.0, 44.0, 44.0, 44.0, 44.0, 44.0, 44.0, 44.0, 44.0, 45.0, 45.0, 45.0, 45.0, 45.0, 46.0, 46.0, 46.0, 47.0, 47.0, 47.0, 47.0, 47.0, 47.0, 47.0, 47.0, 47.0, 47.0, 47.0, 47.0, 47.0, 47.0, 47.0, 47.0, 47.0, 47.0, 47.0, 47.0, 47.0, 47.0, 47.0, 48.0, 48.0, 48.0, 48.0, 48.0, 48.0, 48.0, 48.0, 48.0, 48.0, 50.0, 50.0, 50.0, 50.0, 50.0, 50.0, 50.0, 50.0, 50.0, 50.0, 50.0, 50.0, 50.0, 51.0, 51.0, 51.0, 51.0, 51.0, 51.0, 51.0, 51.0, 51.0, 51.0, 51.0, 51.0, 52.0, 52.0, 54.0, 55.0, 55.0, 55.0, 55.0, 55.0, 55.0, 55.0, 55.0, 55.0, 55.0, 55.0, 55.0, 55.0, 55.0, 55.0, 55.0, 55.0, 55.0, 55.0, 55.0, 55.0, 55.0, 55.0, 55.0, 55.0, 55.0, 55.0, 55.0, 55.0, 55.0, 55.0, 55.0, 55.0, 55.0, 55.0, 55.0, 55.0, 55.0, 55.0, 55.0, 55.0, 55.0, 55.0, 55.0, 55.0, 55.0, 55.0, 55.0, 55.0, 55.0, 55.0, 55.0, 55.0, 55.0, 55.0, 55.0, 55.0, 55.0, 55.0, 55.0, 57.0, 57.0, 59.0, 59.0, 59.0, 59.0, 59.0, 59.0, 59.0, 59.0, 59.0, 59.0, 59.0, 59.0, 59.0, 59.0, 59.0, 60.0, 60.0, 60.0, 60.0, 60.0, 60.0, 60.0, 60.0, 63.0, 63.0, 63.0, 63.0, 63.0, 65.0, 65.0, 65.0, 65.0, 66.0, 66.0, 66.0, 66.0, 66.0, 66.0, 66.0, 66.0, 66.0, 66.0, 66.0, 66.0, 66.0, 66.0, 66.0, 66.0, 66.0, 66.0, 66.0, 66.0, 66.0, 66.0, 66.0, 66.0, 66.0, 66.0, 66.0, 66.0, 66.0, 66.0, 66.0, 66.0, 66.0, 66.0, 66.0, 66.0, 66.0, 66.0, 66.0, 66.0, 66.0, 66.0, 66.0, 66.0, 66.0, 66.0, 66.0, 66.0, 66.0, 66.0, 66.0, 66.0, 66.0, 66.0, 66.0, 70.0, 70.0, 70.0, 70.0, 70.0, 70.0, 70.0, 70.0, 71.0, 72.0, 72.0, 74.0, 74.0, 74.0, 74.0, 74.0, 74.0, 74.0, 74.0, 74.0, 74.0, 74.0, 74.0, 74.0, 74.0, 74.0, 74.0, 74.0, 74.0, 74.0, 74.0, 74.0, 74.0, 74.0, 74.0, 75.0, 75.0, 75.0, 75.0, 75.0, 76.0, 77.0, 77.0, 77.0, 77.0, 77.0, 77.0, 77.0, 79.0, 79.0, 79.0, 79.0, 80.0, 80.0, 80.0, 80.0, 80.0, 80.0, 80.0, 81.0, 81.0, 81.0, 81.0, 81.0, 81.0, 81.0, 81.0, 81.0, 83.0, 84.0, 85.0, 85.0, 85.0, 85.0, 85.0, 85.0, 85.0, 85.0, 85.0, 85.0, 85.0, 85.0, 85.0, 85.0, 85.0, 85.0, 85.0, 85.0, 85.0, 85.0, 85.0, 85.0, 85.0, 85.0, 85.0, 85.0, 85.0, 88.0, 88.0, 88.0, 88.0, 88.0, 88.0, 88.0, 89.0, 90.0, 90.0, 90.0, 91.0, 92.0, 92.0, 92.0, 93.0, 94.0, 95.0, 96.0, 96.0, 96.0, 96.0, 98.0, 98.0, 98.0, 99.0, 100.0, 100.0, 100.0, 100.0, 103.0, 103.0, 105.0, 105.0, 108.0, 110.0, 110.0, 110.0, 110.0, 110.0, 110.0, 110.0, 110.0, 116.0, 120.0, 130.0, 150.0, 222.0, 300.0, 1200.0, 1390.0, 1900.0]\n",
      "                                 URL  Price  Transmission  Year  \\\n",
      "445  https://olx.ba/artikal/60910445   1700             0  1995   \n",
      "471  https://olx.ba/artikal/61711037   2000             0  2001   \n",
      "460  https://olx.ba/artikal/61905376   2000             0  2003   \n",
      "\n",
      "     Motor Strength (KW)    Mileage  Engine Capacity Manufacturer     Model  \\\n",
      "445               1200.0  240.000km              1.2         Opel     Corsa   \n",
      "471               1390.0  137.263km              1.4         Seat     Ibiza   \n",
      "460               1900.0        0km              1.9   Alfa Romeo  Alfa 147   \n",
      "\n",
      "    Fuel Type  \n",
      "445    Benzin  \n",
      "471    Benzin  \n",
      "460     Dizel  \n"
     ]
    }
   ],
   "source": [
    "motor_strength_list = df['Motor Strength (KW)']\n",
    "motor_strength_list = sorted(motor_strength_list)\n",
    "print(motor_strength_list)\n",
    "print(df[df['Motor Strength (KW)'] > 1000])"
   ]
  },
  {
   "cell_type": "code",
   "execution_count": 12,
   "metadata": {},
   "outputs": [
    {
     "data": {
      "text/plain": [
       "(array([509.,   2.,   1.,   0.,   0.,   0.,   0.,   0.,   1.,   1.]),\n",
       " array([   0.,  139.,  278.,  417.,  556.,  695.,  834.,  973., 1112.,\n",
       "        1251., 1390.]),\n",
       " <BarContainer object of 10 artists>)"
      ]
     },
     "execution_count": 12,
     "metadata": {},
     "output_type": "execute_result"
    },
    {
     "data": {
      "image/png": "[encoded data removed]",
      "text/plain": [
       "<Figure size 640x480 with 1 Axes>"
      ]
     },
     "metadata": {},
     "output_type": "display_data"
    }
   ],
   "source": [
    "import matplotlib.pyplot as plt\n",
    "\n",
    "# Convert 'Motor Strength (KW)' column to integers and plot histogram\n",
    "motor_strength_int = [int(el) for el in motor_strength_list]\n",
    "motor_strength_int.remove(max(motor_strength_int))\n",
    "plt.hist(motor_strength_int, bins=10, edgecolor='black', log=True)"
   ]
  },
  {
   "cell_type": "code",
   "execution_count": 13,
   "metadata": {},
   "outputs": [
    {
     "name": "stdout",
     "output_type": "stream",
     "text": [
      "439    66\n",
      "41     55\n",
      "142    44\n",
      "496    10\n",
      "91     66\n",
      "Name: Motor Strength (KW), dtype: int64\n"
     ]
    }
   ],
   "source": [
    "def clean_motor(power):\n",
    "    return int(power)\n",
    "\n",
    "df['Motor Strength (KW)'] = df['Motor Strength (KW)'].apply(clean_motor)\n",
    "print(df['Motor Strength (KW)'].head())"
   ]
  },
  {
   "cell_type": "code",
   "execution_count": 14,
   "metadata": {},
   "outputs": [],
   "source": [
    "# Filter rows based on 'Motor Strength (KW)' values\n",
    "df = df[df['Motor Strength (KW)'] < 700]\n",
    "df = df[df['Motor Strength (KW)'] > 30]"
   ]
  },
  {
   "cell_type": "markdown",
   "metadata": {},
   "source": [
    "### MILEAGE"
   ]
  },
  {
   "cell_type": "code",
   "execution_count": 15,
   "metadata": {},
   "outputs": [
    {
     "name": "stdout",
     "output_type": "stream",
     "text": [
      "439      500000\n",
      "41       260000\n",
      "142      450000\n",
      "91     32569856\n",
      "181      313009\n",
      "Name: Mileage, dtype: int64\n"
     ]
    }
   ],
   "source": [
    "def clean_mileage(mileage):\n",
    "    mileage = mileage.replace('.', '')\n",
    "    if(',' in mileage):\n",
    "        mileage = mileage.split(',')[0]\n",
    "    else:\n",
    "        mileage = mileage.split('km')[0]\n",
    "    return int(mileage)\n",
    "\n",
    "df['Mileage'] = df['Mileage'].apply(clean_mileage)\n",
    "print(df['Mileage'].head())"
   ]
  },
  {
   "cell_type": "code",
   "execution_count": 16,
   "metadata": {},
   "outputs": [
    {
     "data": {
      "text/plain": [
       "(array([496.,   0.,   0.,   0.,   0.,   0.,   0.,   0.,   0.,   1.]),\n",
       " array([0.00000000e+00, 1.11111111e+10, 2.22222222e+10, 3.33333333e+10,\n",
       "        4.44444444e+10, 5.55555556e+10, 6.66666667e+10, 7.77777778e+10,\n",
       "        8.88888889e+10, 1.00000000e+11, 1.11111111e+11]),\n",
       " <BarContainer object of 10 artists>)"
      ]
     },
     "execution_count": 16,
     "metadata": {},
     "output_type": "execute_result"
    },
    {
     "data": {
      "image/png": "[encoded data removed]",
      "text/plain": [
       "<Figure size 640x480 with 1 Axes>"
      ]
     },
     "metadata": {},
     "output_type": "display_data"
    }
   ],
   "source": [
    "# Display and plot the 'Mileage' column\n",
    "mileage_list = df['Mileage']\n",
    "mileage_list = sorted(mileage_list)\n",
    "plt.hist(mileage_list, bins=10, edgecolor='black', log=True)"
   ]
  },
  {
   "cell_type": "code",
   "execution_count": 17,
   "metadata": {},
   "outputs": [
    {
     "name": "stdout",
     "output_type": "stream",
     "text": [
      "<class 'pandas.core.frame.DataFrame'>\n",
      "Index: 497 entries, 439 to 8\n",
      "Data columns (total 10 columns):\n",
      " #   Column               Non-Null Count  Dtype  \n",
      "---  ------               --------------  -----  \n",
      " 0   URL                  497 non-null    object \n",
      " 1   Price                497 non-null    int64  \n",
      " 2   Transmission         497 non-null    int64  \n",
      " 3   Year                 497 non-null    int64  \n",
      " 4   Motor Strength (KW)  497 non-null    int64  \n",
      " 5   Mileage              497 non-null    int64  \n",
      " 6   Engine Capacity      497 non-null    float64\n",
      " 7   Manufacturer         497 non-null    object \n",
      " 8   Model                497 non-null    object \n",
      " 9   Fuel Type            497 non-null    object \n",
      "dtypes: float64(1), int64(5), object(4)\n",
      "memory usage: 42.7+ KB\n"
     ]
    }
   ],
   "source": [
    "df.info()"
   ]
  },
  {
   "cell_type": "code",
   "execution_count": 18,
   "metadata": {},
   "outputs": [
    {
     "data": {
      "text/html": [
       "<div>\n",
       "<style scoped>\n",
       "    .dataframe tbody tr th:only-of-type {\n",
       "        vertical-align: middle;\n",
       "    }\n",
       "\n",
       "    .dataframe tbody tr th {\n",
       "        vertical-align: top;\n",
       "    }\n",
       "\n",
       "    .dataframe thead th {\n",
       "        text-align: right;\n",
       "    }\n",
       "</style>\n",
       "<table border=\"1\" class=\"dataframe\">\n",
       "  <thead>\n",
       "    <tr style=\"text-align: right;\">\n",
       "      <th></th>\n",
       "      <th>URL</th>\n",
       "      <th>Price</th>\n",
       "      <th>Transmission</th>\n",
       "      <th>Year</th>\n",
       "      <th>Motor Strength (KW)</th>\n",
       "      <th>Mileage</th>\n",
       "      <th>Engine Capacity</th>\n",
       "      <th>Manufacturer</th>\n",
       "      <th>Model</th>\n",
       "      <th>Fuel Type</th>\n",
       "    </tr>\n",
       "  </thead>\n",
       "  <tbody>\n",
       "    <tr>\n",
       "      <th>439</th>\n",
       "      <td>https://olx.ba/artikal/46016719</td>\n",
       "      <td>1050</td>\n",
       "      <td>0</td>\n",
       "      <td>1994</td>\n",
       "      <td>66</td>\n",
       "      <td>500000</td>\n",
       "      <td>1.8</td>\n",
       "      <td>Volkswagen</td>\n",
       "      <td>Golf</td>\n",
       "      <td>Plin</td>\n",
       "    </tr>\n",
       "    <tr>\n",
       "      <th>41</th>\n",
       "      <td>https://olx.ba/artikal/62217327</td>\n",
       "      <td>1050</td>\n",
       "      <td>0</td>\n",
       "      <td>2001</td>\n",
       "      <td>55</td>\n",
       "      <td>260000</td>\n",
       "      <td>1.4</td>\n",
       "      <td>Seat</td>\n",
       "      <td>Cordoba</td>\n",
       "      <td>Benzin</td>\n",
       "    </tr>\n",
       "    <tr>\n",
       "      <th>142</th>\n",
       "      <td>https://olx.ba/artikal/62229080</td>\n",
       "      <td>1050</td>\n",
       "      <td>0</td>\n",
       "      <td>1987</td>\n",
       "      <td>44</td>\n",
       "      <td>450000</td>\n",
       "      <td>1.6</td>\n",
       "      <td>Volkswagen</td>\n",
       "      <td>Golf</td>\n",
       "      <td>Dizel</td>\n",
       "    </tr>\n",
       "    <tr>\n",
       "      <th>181</th>\n",
       "      <td>https://olx.ba/artikal/62209884</td>\n",
       "      <td>1100</td>\n",
       "      <td>0</td>\n",
       "      <td>1996</td>\n",
       "      <td>74</td>\n",
       "      <td>313009</td>\n",
       "      <td>1.6</td>\n",
       "      <td>Audi</td>\n",
       "      <td>A4</td>\n",
       "      <td>Benzin</td>\n",
       "    </tr>\n",
       "    <tr>\n",
       "      <th>27</th>\n",
       "      <td>https://olx.ba/artikal/62277300</td>\n",
       "      <td>1100</td>\n",
       "      <td>0</td>\n",
       "      <td>1997</td>\n",
       "      <td>47</td>\n",
       "      <td>300000</td>\n",
       "      <td>1.8</td>\n",
       "      <td>Ford</td>\n",
       "      <td>Courier</td>\n",
       "      <td>Dizel</td>\n",
       "    </tr>\n",
       "  </tbody>\n",
       "</table>\n",
       "</div>"
      ],
      "text/plain": [
       "                                 URL  Price  Transmission  Year  \\\n",
       "439  https://olx.ba/artikal/46016719   1050             0  1994   \n",
       "41   https://olx.ba/artikal/62217327   1050             0  2001   \n",
       "142  https://olx.ba/artikal/62229080   1050             0  1987   \n",
       "181  https://olx.ba/artikal/62209884   1100             0  1996   \n",
       "27   https://olx.ba/artikal/62277300   1100             0  1997   \n",
       "\n",
       "     Motor Strength (KW)  Mileage  Engine Capacity Manufacturer    Model  \\\n",
       "439                   66   500000              1.8   Volkswagen     Golf   \n",
       "41                    55   260000              1.4         Seat  Cordoba   \n",
       "142                   44   450000              1.6   Volkswagen     Golf   \n",
       "181                   74   313009              1.6         Audi       A4   \n",
       "27                    47   300000              1.8         Ford  Courier   \n",
       "\n",
       "    Fuel Type  \n",
       "439      Plin  \n",
       "41     Benzin  \n",
       "142     Dizel  \n",
       "181    Benzin  \n",
       "27      Dizel  "
      ]
     },
     "execution_count": 18,
     "metadata": {},
     "output_type": "execute_result"
    }
   ],
   "source": [
    "df = df[df['Mileage'] < 1000000]\n",
    "df.head()"
   ]
  },
  {
   "cell_type": "markdown",
   "metadata": {},
   "source": [
    "### ENGINE CAPACITY"
   ]
  },
  {
   "cell_type": "code",
   "execution_count": 19,
   "metadata": {},
   "outputs": [
    {
     "data": {
      "text/plain": [
       "(array([ 24.,  66.,  19.,  62., 108.,  42., 142.,   0.,  13.,   5.]),\n",
       " array([0.9 , 1.06, 1.22, 1.38, 1.54, 1.7 , 1.86, 2.02, 2.18, 2.34, 2.5 ]),\n",
       " <BarContainer object of 10 artists>)"
      ]
     },
     "execution_count": 19,
     "metadata": {},
     "output_type": "execute_result"
    },
    {
     "data": {
      "image/png": "[encoded data removed]",
      "text/plain": [
       "<Figure size 640x480 with 1 Axes>"
      ]
     },
     "metadata": {},
     "output_type": "display_data"
    }
   ],
   "source": [
    "# Display and plot the 'Engine Capacity' column\n",
    "engine_capacity_list = df['Engine Capacity']\n",
    "engine_capacity_list = sorted(engine_capacity_list)\n",
    "plt.hist(engine_capacity_list, bins=10, edgecolor='black', log=True)"
   ]
  },
  {
   "cell_type": "markdown",
   "metadata": {},
   "source": [
    "### CORRELATION MATRIX HEATMAP"
   ]
  },
  {
   "cell_type": "code",
   "execution_count": 20,
   "metadata": {},
   "outputs": [
    {
     "data": {
      "image/png": "[encoded data removed]",
      "text/plain": [
       "<Figure size 1000x800 with 2 Axes>"
      ]
     },
     "metadata": {},
     "output_type": "display_data"
    }
   ],
   "source": [
    "import seaborn as sns\n",
    "\n",
    "help = df.drop(columns=['URL', 'Manufacturer', 'Model', 'Fuel Type'])\n",
    "corr_matrix = help.corr()\n",
    "plt.figure(figsize=(10, 8))\n",
    "sns.heatmap(corr_matrix, annot=True, cmap='coolwarm', linewidths=0.5)\n",
    "plt.title('Correlation Matrix Heatmap')\n",
    "plt.show()"
   ]
  },
  {
   "cell_type": "markdown",
   "metadata": {},
   "source": [
    "### OTHER"
   ]
  },
  {
   "cell_type": "code",
   "execution_count": 21,
   "metadata": {},
   "outputs": [
    {
     "name": "stdout",
     "output_type": "stream",
     "text": [
      "{'Benzin', 'Plin', 'Dizel'}\n",
      "{'Nissan', 'Subaru', 'Renault', 'Chevrolet', 'Kia', 'Zastava', 'Lancia', 'Škoda', 'Alfa Romeo', 'Lada', 'Daewoo', 'Opel', 'Fiat', 'Mercedes-Benz', 'Ford', 'Volvo', 'Peugeot', 'Mazda', 'Suzuki', 'Honda', 'Hyundai', 'Audi', 'Seat', 'BMW', 'Citroen', 'Volkswagen'}\n",
      "{'E 220', 'Yugo Koral', 'Courier', 'Justy', 'A6', 'Golf', 'Laguna', 'Felicia', '626', 'Astra', 'SAXO', '306', 'Bravo', 'Almera', 'Toledo', '318', 'Ulysse', 'Lanos', 'V40', 'R 5', 'Polo', 'Legacy', 'Vectra', 'Rocks-e', 'A 170', 'Xsara Picasso', 'C 180', 'C 220', 'Lybra', '406', 'A 180', 'Kangoo', 'Phedra', 'Twingo', 'Partner', 'C 200', 'Scenic', 'C5', 'Alto', 'Drugi', '206', 'Alfa 147', 'Punto', 'Sierra', 'Swift', 'Fiesta', 'A 140', 'A4', 'Vento', 'Espace', 'Escort', '407', 'Impreza', 'H 100', 'Cordoba', 'Clio', 'Alfa 146', 'Xantia', '307', 'Primera', 'Stilo', 'Spark', 'Lupo', 'Sharan', 'Galaxy', 'E 230', 'Ka / Ka+', 'Brava', 'Seicento', 'CE 220', 'Accent', '520', 'Marea', 'A 190', 'Megane', 'Atos', 'Fabia', 'Jetta', 'Focus', 'Mondeo', 'XM', 'Alfa 156', 'Civic', 'Kadett', '607', 'Ibiza', 'C4', 'Berlingo', '80', '316', 'Caddy', 'Niva', 'Corsa', 'Arosa', 'Zastava 101', 'Xsara', 'Agila', 'Passat', 'Tigra', 'Tipo', '106', 'Rio', '112'}\n"
     ]
    }
   ],
   "source": [
    "# Display unique values in 'Fuel Type', 'Model', and 'Manufacturer' columns\n",
    "\n",
    "fuel_type_list = df['Fuel Type']\n",
    "fuel_type_set = set()\n",
    "for el in fuel_type_list:\n",
    "    fuel_type_set.add(el)\n",
    "print(fuel_type_set)\n",
    "\n",
    "manufacturers_list = df['Manufacturer']\n",
    "manufacturers_set = set()\n",
    "for el in manufacturers_list:\n",
    "    manufacturers_set.add(el)\n",
    "print(manufacturers_set)\n",
    "\n",
    "models_list = df['Model']\n",
    "models_set = set()\n",
    "for el in models_list:\n",
    "    models_set.add(el)\n",
    "print(models_set)"
   ]
  },
  {
   "cell_type": "code",
   "execution_count": 22,
   "metadata": {},
   "outputs": [
    {
     "name": "stdout",
     "output_type": "stream",
     "text": [
      "<class 'pandas.core.frame.DataFrame'>\n",
      "RangeIndex: 342 entries, 0 to 341\n",
      "Data columns (total 9 columns):\n",
      " #   Column               Non-Null Count  Dtype  \n",
      "---  ------               --------------  -----  \n",
      " 0   Price                342 non-null    int64  \n",
      " 1   Transmission         342 non-null    int64  \n",
      " 2   Year                 342 non-null    int64  \n",
      " 3   Motor Strength (KW)  342 non-null    int64  \n",
      " 4   Mileage              342 non-null    int64  \n",
      " 5   Engine Capacity      342 non-null    float64\n",
      " 6   Manufacturer         342 non-null    object \n",
      " 7   Model                342 non-null    object \n",
      " 8   Fuel Type            342 non-null    object \n",
      "dtypes: float64(1), int64(5), object(3)\n",
      "memory usage: 24.2+ KB\n"
     ]
    }
   ],
   "source": [
    "df = df.drop(columns=['URL'])\n",
    "\n",
    "# Filter and merge data based on 'Manufacturer' and 'Model'\n",
    "grouped = df.groupby(['Manufacturer', 'Model']).size().reset_index(name='Count')\n",
    "filtered = grouped[grouped['Count'] >= 5] # increase the number with a larger dataset\n",
    "df = pd.merge(df, filtered[['Manufacturer', 'Model']], on=['Manufacturer', 'Model'], how='inner')\n",
    "\n",
    "df.info()"
   ]
  },
  {
   "cell_type": "code",
   "execution_count": 23,
   "metadata": {},
   "outputs": [
    {
     "name": "stdout",
     "output_type": "stream",
     "text": [
      "{'Seat', 'Audi', 'Ford', 'Škoda', 'Alfa Romeo', 'Peugeot', 'Renault', 'Citroen', 'Volkswagen', 'Opel', 'Fiat'}\n",
      "{'Twingo', 'Cordoba', 'Clio', 'Ibiza', 'Scenic', 'Golf', '80', 'Felicia', 'Mondeo', '206', 'Astra', 'Alfa 147', 'SAXO', '306', 'Punto', 'Corsa', 'Megane', 'Polo', 'Fiesta', 'Passat', 'Jetta', 'Focus', 'Vectra'}\n"
     ]
    }
   ],
   "source": [
    "manufacturers_list = df['Manufacturer']\n",
    "manufacturers_set = set()\n",
    "for el in manufacturers_list:\n",
    "    manufacturers_set.add(el)\n",
    "print(manufacturers_set)\n",
    "\n",
    "models_list = df['Model']\n",
    "models_set = set()\n",
    "for el in models_list:\n",
    "    models_set.add(el)\n",
    "print(models_set)"
   ]
  },
  {
   "cell_type": "code",
   "execution_count": 24,
   "metadata": {},
   "outputs": [
    {
     "name": "stdout",
     "output_type": "stream",
     "text": [
      "(342, 43)\n",
      "(342, 52)\n"
     ]
    }
   ],
   "source": [
    "# Copy and encode categorical columns\n",
    "df_copy = df.copy()\n",
    "df = pd.get_dummies(df, columns=['Model', 'Manufacturer', 'Fuel Type'])\n",
    "print(df.shape)\n",
    "\n",
    "# Concatenate the original and encoded dataframes\n",
    "df = pd.concat([df, df_copy], axis=1, join='outer')\n",
    "print(df.shape)"
   ]
  },
  {
   "cell_type": "code",
   "execution_count": 25,
   "metadata": {},
   "outputs": [
    {
     "name": "stdout",
     "output_type": "stream",
     "text": [
      "(342, 46)\n"
     ]
    }
   ],
   "source": [
    "# Remove duplicate columns\n",
    "df = df.loc[:, ~df.columns.duplicated()].copy()\n",
    "print(df.shape)"
   ]
  },
  {
   "cell_type": "code",
   "execution_count": 26,
   "metadata": {},
   "outputs": [
    {
     "name": "stdout",
     "output_type": "stream",
     "text": [
      "Data preprocessing completed.\n"
     ]
    }
   ],
   "source": [
    "# Save the cleaned data to a new CSV file\n",
    "df.to_csv('cleaned_car_data_new.csv', index=False)\n",
    "print(\"Data preprocessing completed.\")"
   ]
  }
 ],
 "metadata": {
  "kernelspec": {
   "display_name": "base",
   "language": "python",
   "name": "python3"
  },
  "language_info": {
   "codemirror_mode": {
    "name": "ipython",
    "version": 3
   },
   "file_extension": ".py",
   "mimetype": "text/x-python",
   "name": "python",
   "nbconvert_exporter": "python",
   "pygments_lexer": "ipython3",
   "version": "3.12.2"
  }
 },
 "nbformat": 4,
 "nbformat_minor": 2
}
